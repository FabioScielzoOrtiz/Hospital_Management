{
 "cells": [
  {
   "cell_type": "markdown",
   "metadata": {},
   "source": [
    "# **Hospital management**"
   ]
  },
  {
   "cell_type": "markdown",
   "metadata": {},
   "source": [
    "- **Author:** Fabio Scielzo Ortiz\n",
    "\n",
    "- **NIA:** 100374708"
   ]
  },
  {
   "cell_type": "markdown",
   "metadata": {},
   "source": [
    "## **Requirements**"
   ]
  },
  {
   "cell_type": "code",
   "execution_count": null,
   "metadata": {},
   "outputs": [],
   "source": [
    "import numpy as np\n",
    "import polars as pl\n",
    "import pickle\n",
    "import random\n",
    "import time\n",
    "from pyomo.environ import *\n",
    "from itertools import product\n",
    "from scipy.stats import pearsonr\n",
    "from itertools import product\n",
    "import seaborn as sns\n",
    "import matplotlib.pyplot as plt\n",
    "sns.set_style(\"whitegrid\")"
   ]
  },
  {
   "cell_type": "markdown",
   "metadata": {},
   "source": [
    "## **Introduction**"
   ]
  },
  {
   "cell_type": "markdown",
   "metadata": {},
   "source": [
    "A new hospital has opened on the International Space Station (ISS) and they need operational research methods to design their care system.\n",
    "\n",
    "On any given day, the hospital has a list of patients who will attend, as they have medical appointments, while sudden emergencies are not treated here. Then, based on their experience, they rank the patients from least to most serious/important, on a scale of one to ten $(w)$, information that will be crucial in determining the distribution of time between patients.\n",
    "\n",
    "The main objective is to maximize patient care by focusing on the time spent per patient, taking into account their severity/importance, while maintaining good working conditions for nurses and doctors."
   ]
  },
  {
   "cell_type": "markdown",
   "metadata": {},
   "source": [
    "## **Linear problem** (a)\n",
    "\n",
    "### **Decision variables**\n",
    "\n",
    "- $t_{ij}:=$ time (hours) spent by nurse-doctor tandem $i$ seeing the patient $j$.\n",
    "\n",
    "- $i :=$ index for nurse-doctor tandems.\n",
    "\n",
    "- $j :=$ index for patients,\n",
    "\n",
    "\n",
    "\n",
    "### **Input data**\n",
    "\n",
    "- $n :=$ number of nurse-doctor tandems working at the hospital in a given day.\n",
    "\n",
    "- $p :=$ number of patients that visit the hospital in a given day.\n",
    "\n",
    "- $i=1,\\dots,n \\hspace{0.15cm}; \\hspace{0.15cm} j=1,\\dots,p$\n",
    "\n",
    "- $w_j :=$ severity/importance of the patient $j$.\n",
    "\n",
    "    - $w_j \\in [0,10]\\subset \\mathbb{Z}$.\n",
    "    \n",
    "    - The higher $w_j$, the more severe/important the patient $j$ is.\n",
    "\n",
    "- $h_1:=$ maximum time spent seeing patients by nurse-doctor tandem $i$, in a given day, for all $i$.\n",
    "\n",
    "- $h_2:=$  maximum time spent by tandem $i$ in patient $j$, in a given day, for all $i,j$.\n",
    "\n",
    "- $h_3(w_j) :=$ minimum time spent in patient $j$, considering his severity/importance, in a given day, for all $j$.\n",
    "\n",
    "    - $h_3^{12}, h_3^{34}, h_3^{56}, h_3^{78}, h_3^{910} :=$ minimum time spent in patient $j$, depending on his $w_j$ value.\n",
    "\n",
    "    - $h_3(w_j) = \\begin{cases} \n",
    "                h_3^{12}, \\hspace{0.15cm} w_j \\in \\lbrace 1, 2 \\rbrace \\\\\n",
    "                h_3^{34}, \\hspace{0.15cm} w_j \\in \\lbrace 3, 4 \\rbrace \\\\\n",
    "                h_3^{56}, \\hspace{0.15cm} w_j \\in \\lbrace 5, 6 \\rbrace \\\\\n",
    "                h_3^{78}, \\hspace{0.15cm} w_j \\in \\lbrace 7, 8 \\rbrace \\\\\n",
    "                h_3^{910}, \\hspace{0.15cm} w_j \\in \\lbrace 9, 10 \\rbrace \n",
    "                 \\end{cases}$\n",
    "    - For this formulation to make sense would be needed: $h_3^{12} >  h_3^{34} >  h_3^{56} >  h_3^{78}>  h_3^{910}$, but this is not a specific constraint of the problem.\n",
    "\n",
    "- $h_4 :=$ maximum time spent in patient $j$, in a given day, for all $j$.\n",
    "\n",
    "\n",
    "\n",
    "### **Objective**\n",
    "\n",
    "$$\\underset{\\hspace{0.05cm} \\mathbf{t} \\hspace{0.05cm} }{Max}  \\quad \\sum_{j=1}^{p} \\sum_{i=1}^{n} \\hspace{0.1cm} t_{ij} \\cdot w_j$$\n",
    "\n",
    "Where:\n",
    "\n",
    "- The objective function of the problem is $f(\\mathbf{t}) = \\sum_{j=1}^{p} \\sum_{i=1}^{n} t_{ij}\\cdot w_j\\hspace{0.07cm}$, that represents the total time spent seeing patients in given day at the hospital, taking into account by the severity/importance of the patients.\n",
    "\n",
    "- $\\mathbf{t} = (t_{ij} \\hspace{0.05cm}:\\hspace{0.05cm} i=1,\\dots,n \\hspace{0.01cm},\\hspace{0.05cm} j=1,\\dots,p)$\n",
    "\n",
    "\n",
    "### **Constraints**\n",
    "\n",
    "-  The time spent by each tandem seeing patients must be at most $h_1$:\n",
    "\n",
    "   $$\\sum_{j=1}^p t_{ij} \\hspace{0.05cm}\\leq\\hspace{0.05cm} h_1 \\hspace{0.1cm},\\hspace{0.15cm} \\forall i = 1,\\dots,n$$\n",
    "\n",
    "- The time spent by tandem $i$ on patient $j$ must be at most $h_2$.\n",
    "\n",
    "   - Given a patient, they are either not seen or are seen in sufficient time.\n",
    "\n",
    "   $$t_{ij} \\hspace{0.05cm}\\geq\\hspace{0.05cm} h_2\\hspace{0.1cm},\\hspace{0.15cm} \\forall i = 1,\\dots,n\\hspace{0.1cm},\\hspace{0.15cm}  \\forall j = 1,\\dots,p$$\n",
    "\n",
    "- The time a patient is seen by all tandems must be at least $h_3(w_j)$ :\n",
    "\n",
    "   $$\\sum_{i=1}^n t_{ij} \\hspace{0.05cm}\\geq\\hspace{0.05cm} h_3(w_j) \\hspace{0.1cm},\\hspace{0.15cm} \\forall j = 1,\\dots, p$$\n",
    "\n",
    "- The total time a patient is seen by all tandems must be at most $h_4$ :\n",
    "\n",
    "   $$\\sum_{i=1}^n t_{ij} \\hspace{0.05cm}\\leq\\hspace{0.05cm} h_4  \\hspace{0.1cm},\\hspace{0.15cm} \\forall j = 1,\\dots, p$$\n",
    "\n",
    "**Interpretation:**\n",
    "\n",
    "- $h_1, h_2$ and $h_4$ constraints can be interpreted as constraints that guarantee good working conditions for nurse-doctor tandems.\n",
    "\n",
    "- $h_3$ constraints can be interpreted as constraints that guarantee that nurse-doctor tandems work enough.\n",
    "\n",
    "### **General linear problem**\n",
    "\n",
    "\\begin{align*}\n",
    "\\underset{\\hspace{0.05cm} \\mathbf{t} \\hspace{0.05cm} }{Max}  & \\quad  \\sum_{j=1}^{p} \\sum_{i=1}^{n} \\hspace{0.1cm}t_{ij}\\cdot w_j\\\\[0.5cm]\n",
    "\\text{s.t.:}&\\\\[0.2cm]\n",
    "  & \\sum_{j=1}^p t_{ij} \\hspace{0.05cm}\\leq\\hspace{0.05cm} h_1 \\hspace{0.1cm},\\hspace{0.15cm} \\forall i = 1,\\dots,n\\\\[0.5cm]\n",
    "  &t_{ij} \\hspace{0.05cm}\\geq\\hspace{0.05cm} h_2\\hspace{0.1cm},\\hspace{0.15cm} \\forall i = 1,\\dots,n\\hspace{0.1cm},\\hspace{0.15cm}  \\forall j = 1,\\dots,p\\\\[0.3cm]\n",
    "  &\\sum_{i=1}^n t_{ij} \\hspace{0.05cm}\\geq\\hspace{0.05cm} h_3(w_j) \\hspace{0.1cm},\\hspace{0.15cm} \\forall j = 1,\\dots, p \\\\[0.5cm]\n",
    "  &\\sum_{i=1}^n t_{ij} \\hspace{0.05cm}\\leq\\hspace{0.05cm} h_4  \\hspace{0.1cm},\\hspace{0.15cm} \\forall j = 1,\\dots, p \\\\[0.5cm] \n",
    "  & t_{ij} \\hspace{0.05cm}\\geq\\hspace{0.05cm} 0 \\hspace{0.1cm},\\hspace{0.15cm} \\forall i =1,\\dots,n \\hspace{0.1cm},\\hspace{0.15cm} \\forall j =1,\\dots,p\\\\[0.5cm]\n",
    "\\end{align*}"
   ]
  },
  {
   "cell_type": "markdown",
   "metadata": {},
   "source": [
    "### **Solving with `Pyomo`** (b)"
   ]
  },
  {
   "cell_type": "markdown",
   "metadata": {},
   "source": [
    "First of all, we are going to implement the general linear problem presented above in `Pyomo`. "
   ]
  },
  {
   "cell_type": "code",
   "execution_count": null,
   "metadata": {},
   "outputs": [],
   "source": [
    "def hospital_linear_model(n, p, w, h1, h2, h3_1_2, h3_3_4, h3_5_6, h3_7_8, h3_9_10, h4):\n",
    "    \"\"\"\n",
    "    Implements and solves the hospital linear model.\n",
    "\n",
    "    Parameters (inputs)\n",
    "    ----------\n",
    "    n: number of nurse-doctor tandems in a given day.\n",
    "    p: number of patients tandems in a given day.\n",
    "    w: 1-D array with the severity/importance of the patients.\n",
    "    h1: maximum time seeing patients per nurse-doctor tandem in a given day.\n",
    "    h2: maximum time spent by nurse-doctor tandem i seeing the patient j, for all i,j.\n",
    "    h3_1_2: minimum time time spent in patient j, if w[j] in [1,2].\n",
    "    h3_3_4: minimum time time spent in patient j, if w[j] in [3,4].\n",
    "    h3_5_6: minimum time time spent in patient j, if w[j] in [5,6].\n",
    "    h3_7_8: minimum time time spent in patient j, if w[j] in [7,8].\n",
    "    h3_9_10: minimum time time spent in patient j, if w[j] in [9,10].\n",
    "    h4: maximum time time spent in patient j.\n",
    "\n",
    "    Returns (outputs)\n",
    "    -------\n",
    "    model: the Pyomo model output.\n",
    "    t_optimal: a dictionary with the optimal values for the t_ij decision variables.\n",
    "    f_optimal: the optimal value of the objective function.\n",
    "    \"\"\"\n",
    "\n",
    "    # Defining h3 function.\n",
    "    def h3(w):\n",
    "        if w in [1, 2] :\n",
    "           return h3_1_2\n",
    "        if w in [3, 4] :\n",
    "           return h3_3_4\n",
    "        elif w in [5, 6] :\n",
    "           return h3_5_6\n",
    "        elif w in [7, 8] :\n",
    "           return h3_7_8\n",
    "        elif w in [9, 10] :\n",
    "           return h3_9_10\n",
    "\n",
    "    # Initialize a model.\n",
    "    model = ConcreteModel()\n",
    "\n",
    "    # Initialize ranges for tandems and patients.\n",
    "    model.N = range(0,n)\n",
    "    model.P = range(0,p)\n",
    "\n",
    "    # Defining t_ij decision variables as non-negative reals (t_ij >= 0).\n",
    "    model.t = Var(model.N, model.P, domain=NonNegativeReals) \n",
    "\n",
    "    # Objective function to maximize the weighted sum of time spent with patients\n",
    "    model.cost = Objective(expr=sum(model.t[i,j] * w[j] for i in model.N for j in model.P), sense=maximize)\n",
    "\n",
    "    # Constraints\n",
    "    model.constraints = ConstraintList()\n",
    "\n",
    "    # The total time spent by each tandem on all patients must be at most h1.\n",
    "    for i in model.N:\n",
    "        model.constraints.add(sum(model.t[i,j] for j in model.P) <= h1)\n",
    "\n",
    "    # The time spent by tandem i on patient j must be at most h2.\n",
    "    for i in model.N:\n",
    "        for j in model.P:\n",
    "            model.constraints.add(model.t[i, j] <= h2)\n",
    "    \n",
    "    # The total time a patient is seen by all tandems must be at least h3(w[j])\n",
    "    for j in model.P:\n",
    "        model.constraints.add(sum(model.t[i,j] for i in model.N) >= h3(w[j]))\n",
    "\n",
    "    # The total time a patient is seen by all tandems must be at most h4.\n",
    "    for j in model.P:\n",
    "        model.constraints.add(sum(model.t[i,j] for i in model.N) <= h4)\n",
    "\n",
    "    # Load dual information\n",
    "    model.dual = Suffix(direction=Suffix.IMPORT)\n",
    "\n",
    "    # Solve the model\n",
    "    solver = SolverFactory('glpk')\n",
    "    results = solver.solve(model, tee=False)  # Set tee=True to show solver output\n",
    "\n",
    "    # Check solver status and termination condition\n",
    "    if (results.solver.status == SolverStatus.ok) and (results.solver.termination_condition == TerminationCondition.optimal):\n",
    "        # print(\"Solution Found\")\n",
    "        # Extract optimal values for variables and objective\n",
    "        t_optimal = {(i, j): model.t[i, j].value for i in model.N for j in model.P}\n",
    "        f_optimal = model.cost.expr()\n",
    "    elif results.solver.termination_condition == TerminationCondition.infeasible:\n",
    "        # print(\"No feasible solution\")\n",
    "        t_optimal, f_optimal = None, None\n",
    "    else:\n",
    "        # print(\"No feasible solution\")\n",
    "        t_optimal, f_optimal = None, None\n",
    "\n",
    "    return model, t_optimal, f_optimal"
   ]
  },
  {
   "cell_type": "markdown",
   "metadata": {},
   "source": [
    "### **Preliminary analysis**"
   ]
  },
  {
   "cell_type": "markdown",
   "metadata": {},
   "source": [
    "In this section we are going to do a preliminary numerical analysis of the problem posed above, for a given set of parameters."
   ]
  },
  {
   "cell_type": "code",
   "execution_count": null,
   "metadata": {},
   "outputs": [],
   "source": [
    "# Parameters definition:\n",
    "n=50; p=500; h1=6; h2=1; h4=4\n",
    "\n",
    "h3_1_2 = 0.10 \n",
    "h3_3_4 = 0.30 \n",
    "h3_5_6 = 0.55  \n",
    "h3_7_8 = 0.80 \n",
    "h3_9_10 = 1 \n",
    "    \n",
    "np.random.seed(123)\n",
    "w = np.random.randint(1, 11, p) \n",
    "\n",
    "# Problem execution:\n",
    "model, t_optimal, f_optimal = hospital_linear_model(n, p, w, h1, h2, h3_1_2, h3_3_4, h3_5_6, h3_7_8, h3_9_10, h4)"
   ]
  },
  {
   "cell_type": "markdown",
   "metadata": {},
   "source": [
    "#### **Optimal values**"
   ]
  },
  {
   "cell_type": "markdown",
   "metadata": {},
   "source": [
    " **Decision variables**"
   ]
  },
  {
   "cell_type": "markdown",
   "metadata": {},
   "source": [
    "The optimal values for the $t_{ij}$ decision variables for the given set of parameters are the following:"
   ]
  },
  {
   "cell_type": "code",
   "execution_count": null,
   "metadata": {},
   "outputs": [],
   "source": [
    "t_optimal"
   ]
  },
  {
   "cell_type": "markdown",
   "metadata": {},
   "source": [
    "For example, the time spent in patient $j=5$ by tandem $i=1$, i.e. $t_{15}$, is:"
   ]
  },
  {
   "cell_type": "code",
   "execution_count": null,
   "metadata": {},
   "outputs": [],
   "source": [
    "t_optimal[0,4] # 0.3 hours = 18 mins"
   ]
  },
  {
   "cell_type": "markdown",
   "metadata": {},
   "source": [
    "**Objective function**"
   ]
  },
  {
   "cell_type": "markdown",
   "metadata": {},
   "source": [
    "In this case the optimal value for the objective function is the following:"
   ]
  },
  {
   "cell_type": "code",
   "execution_count": null,
   "metadata": {},
   "outputs": [],
   "source": [
    "f_optimal"
   ]
  },
  {
   "cell_type": "markdown",
   "metadata": {},
   "source": [
    "#### **Time spent in patients**"
   ]
  },
  {
   "cell_type": "markdown",
   "metadata": {},
   "source": [
    "Now we are going to analyze the time spent in the patients, in this particular case."
   ]
  },
  {
   "cell_type": "markdown",
   "metadata": {},
   "source": [
    "We built a function that computes the time spent seeing patient j in a given day .\n",
    "It's important to notice that a patient could be seen by several nurse-doctor tandems."
   ]
  },
  {
   "cell_type": "code",
   "execution_count": null,
   "metadata": {},
   "outputs": [],
   "source": [
    "def time_seeing_patient(j):\n",
    "    return np.sum([t_optimal[i, j] for i in range(0,n)])"
   ]
  },
  {
   "cell_type": "markdown",
   "metadata": {},
   "source": [
    "For example, total time spent in patient $j=45$, that is, $\\sum_{i=1}^n t_{i45}$, is the following:"
   ]
  },
  {
   "cell_type": "code",
   "execution_count": null,
   "metadata": {},
   "outputs": [],
   "source": [
    "time_seeing_patient(44) # 0.8 hours = 48 mins"
   ]
  },
  {
   "cell_type": "markdown",
   "metadata": {},
   "source": [
    "Using the previous function we can collect the total time spent in each patient in an array."
   ]
  },
  {
   "cell_type": "code",
   "execution_count": null,
   "metadata": {},
   "outputs": [],
   "source": [
    "total_times_per_patient = np.array([time_seeing_patient(j) for j in range(0,p)])"
   ]
  },
  {
   "cell_type": "code",
   "execution_count": null,
   "metadata": {},
   "outputs": [],
   "source": [
    "total_times_per_patient"
   ]
  },
  {
   "cell_type": "markdown",
   "metadata": {},
   "source": [
    "#### **Average time spent per patient**"
   ]
  },
  {
   "cell_type": "markdown",
   "metadata": {},
   "source": [
    "Now we can compute some statistics over the time spent in patients, like for example the average time spent per patient."
   ]
  },
  {
   "cell_type": "code",
   "execution_count": null,
   "metadata": {},
   "outputs": [],
   "source": [
    "np.mean(total_times_per_patient) # 0.6 hours = 36 mins"
   ]
  },
  {
   "cell_type": "markdown",
   "metadata": {},
   "source": [
    "#### **Max time spent per patient**"
   ]
  },
  {
   "cell_type": "markdown",
   "metadata": {},
   "source": [
    "The maximum time spent in a single patient is enforced by $h_4$ constriant, that in this case has been fixed to $4$."
   ]
  },
  {
   "cell_type": "code",
   "execution_count": null,
   "metadata": {},
   "outputs": [],
   "source": [
    "np.max(total_times_per_patient) # 4 hours"
   ]
  },
  {
   "cell_type": "markdown",
   "metadata": {},
   "source": [
    "#### **Min time spent per patient**"
   ]
  },
  {
   "cell_type": "markdown",
   "metadata": {},
   "source": [
    "The minimun time spent in a single patient is set by $h_3^{12}$, in this case, that has been fixed to $0.1$."
   ]
  },
  {
   "cell_type": "code",
   "execution_count": null,
   "metadata": {},
   "outputs": [],
   "source": [
    "np.min(total_times_per_patient) # 0.1 hours = 6 mins"
   ]
  },
  {
   "cell_type": "code",
   "execution_count": null,
   "metadata": {},
   "outputs": [],
   "source": [
    "np.round(np.min(total_times_per_patient), 2)"
   ]
  },
  {
   "cell_type": "markdown",
   "metadata": {},
   "source": [
    "#### **Median of time spent per patient**"
   ]
  },
  {
   "cell_type": "code",
   "execution_count": null,
   "metadata": {},
   "outputs": [],
   "source": [
    "np.median(total_times_per_patient) "
   ]
  },
  {
   "cell_type": "markdown",
   "metadata": {},
   "source": [
    "#### **$75$-quantile of time spent per patient**"
   ]
  },
  {
   "cell_type": "code",
   "execution_count": null,
   "metadata": {},
   "outputs": [],
   "source": [
    "np.quantile(total_times_per_patient, 0.75)"
   ]
  },
  {
   "cell_type": "markdown",
   "metadata": {},
   "source": [
    "#### **$25$-quantile time spent per patient**"
   ]
  },
  {
   "cell_type": "code",
   "execution_count": null,
   "metadata": {},
   "outputs": [],
   "source": [
    "np.quantile(total_times_per_patient, 0.25)"
   ]
  },
  {
   "cell_type": "markdown",
   "metadata": {},
   "source": [
    "#### **Number of patients seen**"
   ]
  },
  {
   "cell_type": "markdown",
   "metadata": {},
   "source": [
    "Another interesting statistic to compute is the number of patients seen. This can be calculated as the number of non zero values in the array `total_times_per_patient`."
   ]
  },
  {
   "cell_type": "code",
   "execution_count": null,
   "metadata": {},
   "outputs": [],
   "source": [
    "np.sum(total_times_per_patient > 0)"
   ]
  },
  {
   "cell_type": "markdown",
   "metadata": {},
   "source": [
    "In this case, all the patients has been seen, what is coherent with the $h_3$ constraints that we have imposed in this case, since $h_3^{12} > \\dots > h_3^{910} > 0$."
   ]
  },
  {
   "cell_type": "markdown",
   "metadata": {},
   "source": [
    "#### **Relation between time spent per patient and the severity/importance $(w)$**"
   ]
  },
  {
   "cell_type": "markdown",
   "metadata": {},
   "source": [
    "We can do a simple analysis of the relationship between the time spent per patient and the severity/importance of the patient. \n",
    "\n",
    "For example, we can compute the Pearson linear correlation coefficient between this two variables."
   ]
  },
  {
   "cell_type": "code",
   "execution_count": null,
   "metadata": {},
   "outputs": [],
   "source": [
    "pearsonr(w, total_times_per_patient)"
   ]
  },
  {
   "cell_type": "markdown",
   "metadata": {},
   "source": [
    "A linear correlation of $0.74$ indicates a high positive linear relationship between the time spent per patient and their severity/importance."
   ]
  },
  {
   "cell_type": "markdown",
   "metadata": {},
   "source": [
    "We can make an scatter plot of both variables to visualize this relationship."
   ]
  },
  {
   "cell_type": "code",
   "execution_count": null,
   "metadata": {},
   "outputs": [],
   "source": [
    "plt.figure(figsize=(8, 5))\n",
    "ax = sns.scatterplot(x=w, y=total_times_per_patient, color='red')\n",
    "plt.title('w vs time per patient', size=15)\n",
    "ax.set_ylabel('time per patient', size=11)\n",
    "ax.set_xlabel('w', size=11)\n",
    "plt.xticks(np.unique(w))\n",
    "plt.show()"
   ]
  },
  {
   "cell_type": "markdown",
   "metadata": {},
   "source": [
    "It's important to realize that the points are overlapped, since there are $500$ patients and only $13$ points are visible."
   ]
  },
  {
   "cell_type": "markdown",
   "metadata": {},
   "source": [
    "### **Analysis of sensitivity** (c, g)"
   ]
  },
  {
   "cell_type": "markdown",
   "metadata": {},
   "source": [
    "In this section we are going to carry out a sensitivity analysis.\n",
    "\n",
    "Typically, sensitivity analysis is done in `Pyomo` using the dual version of the problem and analyzing the output of `model.pprint()`. But this output is too large in this case, what make impossible any fruitful interpretation. Besides, this output only tell us about how the optimal value of the objective function varies when the parameter of an specific constraints varies in one unit (marginally).\n",
    "\n",
    "\n",
    "However, in this project we are going to assume a broad concept of sensitivity analysis. Specifically what we understand on sensitivity analysis is, basically, an analysis on the influence of the model parameters, that is, how they affect to some important metric of the problem, such as whether it is feasible or not, the objective function, the average time spent per patients, and so on."
   ]
  },
  {
   "cell_type": "code",
   "execution_count": null,
   "metadata": {},
   "outputs": [],
   "source": [
    "model.pprint()"
   ]
  },
  {
   "cell_type": "markdown",
   "metadata": {},
   "source": [
    "#### **Analysis of individual parameters** (c)"
   ]
  },
  {
   "cell_type": "markdown",
   "metadata": {},
   "source": [
    "In this section we make a sensitivity analysis of some of the parameters of the problem, following an individual approach, in the sense that each parameter will be analyzed separately.\n",
    "\n",
    "This analysis is essentially carried out using the function `get_results1` and `get_results2`."
   ]
  },
  {
   "cell_type": "code",
   "execution_count": null,
   "metadata": {},
   "outputs": [],
   "source": [
    "params = dict()"
   ]
  },
  {
   "cell_type": "code",
   "execution_count": null,
   "metadata": {},
   "outputs": [],
   "source": [
    "def get_results1(x, parameter_list, params, model):\n",
    "    \"\"\"\n",
    "    To get the first type results individual for the hospital model.\n",
    "\n",
    "    Parameters (inputs)\n",
    "    ----------\n",
    "    x: a string with the name of the parameter to by analyzed.\n",
    "       The possible names are: 'n', 'p', 'w', 'h1', 'h2', 'h4', 'h3_1_2', 'h3_3_4', 'h3_5_6', 'h3_7_8', 'h3_9_10'\n",
    "    parameter_list: a list with the values of the parameter x to analyze.\n",
    "    params: a dictionary with the values of the rest of model parameters, setting x as None.\n",
    "    model: an string indicating what type of hospital model to use, 'linear' or 'integer'.\n",
    "\n",
    "    Returns (outputs)\n",
    "    -------\n",
    "    results1_LM: a dictionary with the first type results obtained.\n",
    "    \"\"\"\n",
    "\n",
    "    def time_seeing_patient(j, t_optimal, params):\n",
    "        return np.sum([t_optimal[i, j] for i in range(0, params['n'])])\n",
    "\n",
    "    results1 = dict()\n",
    "    results1[x] = dict()\n",
    "\n",
    "    for y in parameter_list :\n",
    "\n",
    "        params[x] = y\n",
    "\n",
    "        if model == 'linear' :\n",
    "\n",
    "            model_, t_optimal, f_optimal = hospital_linear_model(n=params['n'], p=params['p'], w=params['w'], h1=params['h1'], h2=params['h2'], \n",
    "                                                                 h3_1_2=params['h3_1_2'], h3_3_4=params['h3_3_4'], h3_5_6=params['h3_5_6'], \n",
    "                                                                 h3_7_8=params['h3_7_8'], h3_9_10=params['h3_9_10'], h4=params['h4'])\n",
    "    \n",
    "        elif model == 'integer' :\n",
    "\n",
    "            model_, t_optimal, y_optimal, f_optimal = hospital_integer_model(n=params['n'], p=params['p'], w=params['w'], h1=params['h1'], \n",
    "                                                                             h2=params['h2'], h3_1_2=params['h3_1_2'], h3_3_4=params['h3_3_4'],\n",
    "                                                                             h3_5_6=params['h3_5_6'], h3_7_8=params['h3_7_8'], h3_9_10=params['h3_9_10'], \n",
    "                                                                             h4=params['h4'])\n",
    "\n",
    "\n",
    "        if f_optimal == None :\n",
    "\n",
    "            results1[x][params[x]] = {'type': 'not_feasible'}\n",
    "\n",
    "        else :\n",
    "\n",
    "            total_times_per_patient = np.array([time_seeing_patient(j, t_optimal, params) for j in range(0, params['p'])])\n",
    "\n",
    "            results1[x][params[x]] = {'type': 'feasible', 't_optimal': t_optimal, 'f_optimal': f_optimal,  \n",
    "                                         'total_times_per_patient': total_times_per_patient}\n",
    "            \n",
    "    return results1"
   ]
  },
  {
   "cell_type": "code",
   "execution_count": null,
   "metadata": {},
   "outputs": [],
   "source": [
    "def get_results2(x, parameter_list, results1) :\n",
    "    \"\"\"\n",
    "    To get the second type results for the hospital linear model.\n",
    "\n",
    "    Parameters (inputs)\n",
    "    ----------\n",
    "    x: a string with the name of the parameter to by analyzed.\n",
    "       The possible names are: 'n', 'p', 'w', 'h1', 'h2', 'h4', 'h3_1_2', 'h3_3_4', 'h3_5_6', 'h3_7_8', 'h3_9_10'\n",
    "    parameter_list: a list with the values of the parameter x to analyze.\n",
    "    results1_LM: results returned as output of the function get_results1_LM\n",
    "\n",
    "    Returns (outputs)\n",
    "    -------\n",
    "    results2_LM: a dictionary with the second type results obtained.\n",
    "    \"\"\"\n",
    "\n",
    "    results2 = dict()\n",
    "    results2[x] = dict()\n",
    "    results2[x]['feasible'] = [i for i in results1[x].keys() if results1[x][i]['type'] == 'feasible']\n",
    "    results2[x]['not_feasible'] = [i for i in results1[x].keys() if results1[x][i]['type'] == 'not_feasible']\n",
    "    results2[x]['f_optimal_feasible'] = {i: results1[x][i]['f_optimal'] for i in results2[x]['feasible']}\n",
    "    results2[x]['type'] = [results1[x][i]['type'] for i in parameter_list]\n",
    "    results2[x]['avg_time_per_patient'] = {i: np.mean(results1[x][i]['total_times_per_patient']) for i in results2[x]['feasible']}\n",
    "    results2[x]['median_time_per_patient'] = {i: np.median(results1[x][i]['total_times_per_patient']) for i in results2[x]['feasible']}\n",
    "    results2[x]['median_time_per_patient'] = {i: np.median(results1[x][i]['total_times_per_patient']) for i in results2[x]['feasible']}\n",
    "    results2[x]['Q75_time_per_patient'] = {i: np.quantile(results1[x][i]['total_times_per_patient'], 0.75) for i in results2[x]['feasible']}\n",
    "    results2[x]['Q25_time_per_patient'] = {i: np.quantile(results1[x][i]['total_times_per_patient'], 0.25) for i in results2[x]['feasible']}\n",
    "    results2[x]['num_patients_seen'] = {i: np.sum(results1[x][i]['total_times_per_patient'] > 0) for i in results2[x]['feasible']}\n",
    "    results2[x]['w_time_patient_df'] = {i: pl.DataFrame({'w': w, 'time_patient': results1[x][i]['total_times_per_patient']}) \n",
    "                                           for i in results2[x]['feasible']}\n",
    "    results2[x]['avg_time_patient_per_w'] = {i: {w_value: round(results2[x]['w_time_patient_df'][i].filter(pl.col('w') == w_value)['time_patient'].mean(), 3) \n",
    "                                                    for w_value in np.unique(w)} for i in results2[x]['feasible']}\n",
    "\n",
    "    return results2"
   ]
  },
  {
   "cell_type": "markdown",
   "metadata": {},
   "source": [
    "##### **Analysis of $h_1$ parameter**\n",
    "\n",
    "   - $h_1 :=$ maximum time seeing patients per nurse-doctor tandem in a given day.\n"
   ]
  },
  {
   "cell_type": "code",
   "execution_count": null,
   "metadata": {},
   "outputs": [],
   "source": [
    "# Defining the values of the rest of parameters and setting h1 as None.\n",
    "params['n'] = 50 ; params['p']=500 ; params['h1']=None ; params['h2']=1 ; params['h4']=4\n",
    "params['h3_1_2'] = 0.10 \n",
    "params['h3_3_4'] = 0.30 \n",
    "params['h3_5_6'] = 0.55  \n",
    "params['h3_7_8'] = 0.80 \n",
    "params['h3_9_10'] = 1 \n",
    "\n",
    "np.random.seed(123)\n",
    "params['w'] = np.random.randint(1, 11, params['p']) \n",
    "\n",
    "# Defining the parameter values list.\n",
    "parameter_list = np.arange(2, 13)"
   ]
  },
  {
   "cell_type": "code",
   "execution_count": null,
   "metadata": {},
   "outputs": [],
   "source": [
    "results1 = get_results1('h1', parameter_list, params, model='linear')"
   ]
  },
  {
   "cell_type": "code",
   "execution_count": null,
   "metadata": {},
   "outputs": [],
   "source": [
    "results2 = get_results2('h1', parameter_list, results1)"
   ]
  },
  {
   "cell_type": "markdown",
   "metadata": {},
   "source": [
    "Now we are going to use te results stored in `results1_LM` and `results2_LM` to make some valuable plots, in order to analyze the influence of the $h_1$ parameter in the hospital linear model."
   ]
  },
  {
   "cell_type": "markdown",
   "metadata": {},
   "source": [
    "- **Problem type (feasible - not feasible) vs $h_1$**"
   ]
  },
  {
   "cell_type": "code",
   "execution_count": null,
   "metadata": {},
   "outputs": [],
   "source": [
    "plt.figure(figsize=(8, 5))\n",
    "ax = sns.scatterplot(y=results2['h1']['type'], x=parameter_list, color='red', s=200)\n",
    "plt.title('type vs h1', size=15)\n",
    "ax.set_ylabel('type', size=12)\n",
    "ax.set_xlabel('h1', size=12)\n",
    "plt.xticks(parameter_list, fontsize=12)\n",
    "plt.yticks(fontsize=11)\n",
    "plt.show()"
   ]
  },
  {
   "cell_type": "markdown",
   "metadata": {},
   "source": [
    "**Interpretation of the results:**\n",
    "\n",
    "When the value of $h_1$, that is, the maximum time that nurse-doctor tandems can spent seeing patients in a given day  is small enough (lower than 6), the problem is not feasible, given the values set for the rest of the parameters. But, when this parameter is large enough (greater or equal to 6), the problems becomes feasible.\n",
    "\n",
    "These results can be interpreted as when the nurse-doctor tandems are allowed to work a lot of time over the patients, they can satisfy the amount of work required by the constraints, namely by $h_3$ constraints, that are the ones that impose a minimum work over the nurse-doctor tandems.\n",
    "\n",
    "The next plots will only take into account the feasible values of $h_1$, since for the non feasible ones, any problem metric cannot be computed, since the problem itself cannot be solved."
   ]
  },
  {
   "cell_type": "markdown",
   "metadata": {},
   "source": [
    "- **Number of patients seen vs $h_1$**"
   ]
  },
  {
   "cell_type": "code",
   "execution_count": null,
   "metadata": {},
   "outputs": [],
   "source": [
    "plt.figure(figsize=(8, 5))\n",
    "ax = sns.lineplot(y=results2['h1']['num_patients_seen'].values(), x=results2['h1']['feasible'], \n",
    "                  marker='o', markersize=7.5, color='red')\n",
    "plt.title('number of patients seen vs h1', size=15)\n",
    "ax.set_ylabel('number of patients seen', size=12)\n",
    "ax.set_xlabel('h1', size=12)\n",
    "plt.xticks(results2['h1']['feasible'], fontsize=12)\n",
    "plt.yticks(fontsize=11)\n",
    "plt.show()"
   ]
  },
  {
   "cell_type": "markdown",
   "metadata": {},
   "source": [
    "**Interpretation of the results:**\n",
    "\n",
    "The number of patients seen is not affected by $h_1$ parameter, since it is the same regardless the $h_1$ values.\n",
    "\n",
    "This is trivial because of the values set for $h_3$ parameters, that are all of them positive $(>0)$, so that, if the problem is feasible $(h_1 \\in [6, 12]\\subset \\mathbb{Z})$, the number of patient seen is enforced to be the maximum $(=p).$\n",
    "\n",
    "We will relax the  $h_3 > 0$ condition later. \n"
   ]
  },
  {
   "cell_type": "markdown",
   "metadata": {},
   "source": [
    "- **Optimal value of the objective function vs $h_1$**"
   ]
  },
  {
   "cell_type": "code",
   "execution_count": null,
   "metadata": {},
   "outputs": [],
   "source": [
    "plt.figure(figsize=(8, 5))\n",
    "ax = sns.lineplot(y=results2['h1']['f_optimal_feasible'].values(), x=results2['h1']['feasible'], marker='o', markersize=7.5, color='red')\n",
    "plt.title('$f$ optimal vs $h_1$', size=15)\n",
    "ax.set_ylabel('$f$ optimal', size=12)\n",
    "ax.set_xlabel('$h_1$', size=12)\n",
    "plt.xticks(results2['h1']['feasible'], fontsize=12)\n",
    "plt.yticks(fontsize=11)\n",
    "plt.show()"
   ]
  },
  {
   "cell_type": "markdown",
   "metadata": {},
   "source": [
    "**Interpretation of the results:**\n",
    "\n",
    "The greater $h_1$, the higher optimal value of the objective function. (At least, given the set of $h_1$ values tested).\n",
    "\n",
    "Considering that the values of $w$ are fixed since the beginning, and the objective function is defined as ${p} \\sum_{i=1}^{n} \\hspace{0.1cm} t_{ij} \\cdot w_j$, the fact that the optimal value of the objective function increases when $h_1$ increases means that the time spent in patients must increase as well. This fact can be seen in the nex plot.\n",
    "\n",
    "\n"
   ]
  },
  {
   "cell_type": "markdown",
   "metadata": {},
   "source": [
    "- **Average time spent per patient vs $h_1$**"
   ]
  },
  {
   "cell_type": "code",
   "execution_count": null,
   "metadata": {},
   "outputs": [],
   "source": [
    "plt.figure(figsize=(8, 5))\n",
    "ax = sns.lineplot(y=results2['h1']['avg_time_per_patient'].values(), x=results2['h1']['feasible'], marker='o', markersize=7.5, color='red')\n",
    "plt.title('Avg. time spent per patient vs $h_1$', size=15)\n",
    "ax.set_ylabel('Avg. time spent per patient', size=12)\n",
    "ax.set_xlabel('$h_1$', size=12)\n",
    "plt.xticks(results2['h1']['feasible'], fontsize=12)\n",
    "plt.yticks(fontsize=11)\n",
    "plt.show()"
   ]
  },
  {
   "cell_type": "markdown",
   "metadata": {},
   "source": [
    "**Interpretation of the results:**\n",
    "\n",
    "The greater $h_1$, the higher average time spent per patient. (At least, given the set of $h_1$ values tested).\n",
    "\n",
    "Considering that the values of $w$ are fixed since the beginning, and the objective function is defined as ${p} \\sum_{i=1}^{n} \\hspace{0.1cm} t_{ij} \\cdot w_j$, the fact that the optimal value of the objective function increases when $h_1$ increases means that the time spent in patients must increase as well. This fact can be seen in both the next and last plot of this section.\n",
    "\n"
   ]
  },
  {
   "cell_type": "markdown",
   "metadata": {},
   "source": [
    "- **Median time spent per patient vs $h_1$**"
   ]
  },
  {
   "cell_type": "code",
   "execution_count": null,
   "metadata": {},
   "outputs": [],
   "source": [
    "plt.figure(figsize=(8, 5))\n",
    "ax = sns.lineplot(y=results2['h1']['median_time_per_patient'].values(), x=results2['h1']['feasible'], marker='o', markersize=7.5, color='red')\n",
    "plt.title('Median of time spent per patient vs $h_1$', size=15)\n",
    "ax.set_ylabel('Median of time spent per patient', size=12)\n",
    "ax.set_xlabel('$h_1$', size=12)\n",
    "plt.xticks(results2['h1']['feasible'], fontsize=12)\n",
    "plt.yticks(fontsize=11)\n",
    "plt.show()"
   ]
  },
  {
   "cell_type": "markdown",
   "metadata": {},
   "source": [
    "**Interpretation of the results:**\n",
    "\n",
    "The median of the time spent per patient is not affected by $h_1$ parameter, since it is the same regardless the $h_1$ values. This shows a clear different behavior in respect to the average.\n",
    "\n",
    "We can see that the median time is $0.55$ in all the cases, that is just the value set for $h_3^{56}$ parameter. We will analyzed later whether this is a coincidence or not."
   ]
  },
  {
   "cell_type": "markdown",
   "metadata": {},
   "source": [
    "- **$75$-quantile time spent per patient vs $h_1$**"
   ]
  },
  {
   "cell_type": "code",
   "execution_count": null,
   "metadata": {},
   "outputs": [],
   "source": [
    "plt.figure(figsize=(8, 5))\n",
    "ax = sns.lineplot(y=results2['h1']['Q75_time_per_patient'].values(), x=results2['h1']['feasible'], marker='o', markersize=7.5, color='red')\n",
    "plt.title('Q75 of time per patient vs $h_1$', size=15)\n",
    "ax.set_ylabel('Q75 of time per patient', size=12)\n",
    "ax.set_xlabel('$h_1$', size=12)\n",
    "plt.xticks(results2['h1']['feasible'], fontsize=12)\n",
    "plt.yticks(fontsize=11)\n",
    "plt.show()"
   ]
  },
  {
   "cell_type": "markdown",
   "metadata": {},
   "source": [
    "**Interpretation of the results:**\n",
    "\n",
    "The $75$-quantile of the time spent per patient is not affected by $h_1$ parameter, since it is the same regardless the $h_1$ values. \n",
    "\n",
    "We can see that the median time is $0.80$ in all the cases, that is just the value set for $h_3^{78}$ parameter. We will analyzed later whether this is a coincidence or not."
   ]
  },
  {
   "cell_type": "markdown",
   "metadata": {},
   "source": [
    "- **$25$-quantile time spent per patient vs $h_1$**"
   ]
  },
  {
   "cell_type": "code",
   "execution_count": null,
   "metadata": {},
   "outputs": [],
   "source": [
    "plt.figure(figsize=(8, 5))\n",
    "ax = sns.lineplot(y=results2['h1']['Q25_time_per_patient'].values(), x=results2['h1']['feasible'], marker='o', markersize=7.5, color='red')\n",
    "plt.title('Q25 of time per patient vs $h_1$', size=15)\n",
    "ax.set_ylabel('Q25 of time per patient', size=12)\n",
    "ax.set_xlabel('$h_1$', size=12)\n",
    "plt.xticks(results2['h1']['feasible'], fontsize=12)\n",
    "plt.yticks(fontsize=11)\n",
    "plt.show()"
   ]
  },
  {
   "cell_type": "markdown",
   "metadata": {},
   "source": [
    "**Interpretation of the results:**\n",
    "\n",
    "The $25$-quantile of the time spent per patient is not affected by $h_1$ parameter, since it is the same regardless the $h_1$ values. \n",
    "\n",
    "We can see that the median time is $0.30$ in all the cases, that is just the value set for $h_3^{34}$ parameter. We will analyzed later whether this is a coincidence or not."
   ]
  },
  {
   "cell_type": "markdown",
   "metadata": {},
   "source": [
    "- **Average time spent per patient vs $w$ vs $h_1$**"
   ]
  },
  {
   "cell_type": "code",
   "execution_count": null,
   "metadata": {},
   "outputs": [],
   "source": [
    "plt.figure(figsize=(8, 5))\n",
    "for i, h1 in zip(results2['h1']['avg_time_patient_per_w'].keys(), results2['h1']['feasible']) :\n",
    "    ax = sns.lineplot(y=results2['h1']['avg_time_patient_per_w'][i].values(), x=results2['h1']['avg_time_patient_per_w'][i].keys(), \n",
    "                      label=h1, marker='o', markersize=6)\n",
    "plt.title('Avg. time per patient vs $w$ vs $h_1$', size=15)\n",
    "ax.set_ylabel('Avg. time per patient', size=12)\n",
    "ax.set_xlabel('$w$', size=12)\n",
    "plt.xticks(list(results2['h1']['avg_time_patient_per_w'][i].keys()), fontsize=12)\n",
    "y_ticks_list = [0.1, 0.3, 0.55, 0.80, 1, 4] + list(np.arange(1, 4.3, 0.3))\n",
    "plt.yticks(y_ticks_list, fontsize=11)\n",
    "plt.legend(title='$h_1$', loc='upper right', bbox_to_anchor=(1.2, 1), fontsize=11)\n",
    "plt.show()"
   ]
  },
  {
   "cell_type": "markdown",
   "metadata": {},
   "source": [
    "**Interpretation of the results:**\n",
    "\n",
    "This plot shows the average time spent per patient depending on both $w$ and $h_1$.\n",
    "\n",
    "- We can see that for the patients with $w_j \\in [1,7] \\subset \\mathbf{Z}$, the the average time spent per patient doesn't depend on $h_1$ (it is the same for all the values tested).\n",
    "\n",
    "   - For type 3-4 patients $(w_j\\in \\lbrace 3, 4\\rbrace)$, the average time spent per patient is $0.3$, that is the value fixed for $h_3^{34}$, regardless of $h_1$.\n",
    "\n",
    "   - For type 5-6 patients $(w_j\\in \\lbrace 5, 6\\rbrace)$, the average time spent per patient is $0.55$, that is the value fixed for $h_3^{56}$, regardless of $h_1$.\n",
    "\n",
    "   - For type 7 patients $(w_j = 7)$, the average time spent per patient is $0.80$, that is the value fixed for $h_3^{78}$, regardless of $h_1$.\n",
    "\n",
    "- However, for the patients with $w_j \\in [8,10]\\subset \\mathbf{Z}$, the average time spent in patients depends on $h_1$.\n",
    "\n",
    "   - For type 8 patients $(w_j =8)$, the average time spent in patients is $0.80$, that is, the value fixed for $h_3^{78}$, for $h_1 \\in \\lbrace 6,7,8,9,10\\rbrace$, but it increases up to almost $1$ for $h_1=11$ and up to $1.70$ for $h_1 = 12$.\n",
    "\n",
    "     This means that, in the case of type 8 patients, that are severe, when the nurse-doctor tandems are allowed to work enough $(h_1 = \\lbrace 11, 12\\rbrace)$, the average time spent in this type of patients is greater that the minimum required by $h_3^{78}$ constraint, that is $0.80$   (specially when $h_1 = 12$) .\n",
    "\n",
    "   - For type 9 patients $(w_j =9)$, the average time spent in patients is $1$, that is, the value fixed for $h_3^{910}$, for $h_1 \\in \\lbrace 6,7,8\\rbrace$, but it increases up to $1.90$ for $h_1=9$, up to $3.10$ for $h_1 = 10$, and up to $4$ for $h_1 \\in \\lbrace 11, 12\\rbrace.$\n",
    "\n",
    "      Notice that $h_4$, i.e. the maximum time that can be spent in a single patient, has been fixed to $4$. This implies the average time spent per patient cannot be greater that $4$, since the maximum of  time per patient variable is $h_4$, that is $4$ , in this case.\n",
    "\n",
    "      This means that, in the case of type 9 patients, that are quite severe, when the nurse-doctor tandems are allowed to work enough $(h_1 \\in \\lbrace 9, 10, 11, 12\\rbrace)$, the average time spent in this type of patients is greater that the minimum required by $h_3^{910}$ constraint, that is $1$   (specially when $h_1 \\in \\lbrace 10, 11, 12\\rbrace$) .\n",
    "\n",
    "   - For type 10 patients $(w_j =10)$, the average time spent in patients is $1.60$ for $h_1=6$, $2.7$ for $h_1=7$, a little more than $3.70$ for $h_1=8$, and $4$ for $h_1 \\in \\lbrace 9, 10, 11, 12\\rbrace$.\n",
    "\n",
    "      This means that, in the case of type 10 patients, that are the most severe ones, when the nurse-doctor tandems are allowed to work enough $(h_1 \\in \\lbrace 9, 10, 11, 12\\rbrace)$, the average time spent in this type of patients is the maximum possible, namely $h_4 = 4$, and in the rest of cases $(h_1 \\in \\lbrace 6,7,8\\rbrace)$ it is much more than the minimum required $h_3^{910} = 1.$"
   ]
  },
  {
   "cell_type": "markdown",
   "metadata": {},
   "source": [
    "##### **Analysis of $h_2$ parameter**\n",
    "\n",
    "   - $h_2 :=$ maximum time spent by nurse-doctor tandem $i$ seeing the patient $j$, for all $i,j$.\n"
   ]
  },
  {
   "cell_type": "code",
   "execution_count": null,
   "metadata": {},
   "outputs": [],
   "source": [
    "# Defining the values of the rest of parameters and setting h2 as None.\n",
    "\n",
    "params['n'] = 50 ; params['p']=500 ; params['h1']=6 ; params['h2']=None ; params['h4']=4\n",
    "params['h3_1_2'] = 0.10 \n",
    "params['h3_3_4'] = 0.30 \n",
    "params['h3_5_6'] = 0.55  \n",
    "params['h3_7_8'] = 0.80 \n",
    "params['h3_9_10'] = 1 \n",
    "\n",
    "np.random.seed(123)\n",
    "params['w'] = np.random.randint(1, 11, params['p']) \n",
    "\n",
    "# Defining the parameter values list.\n",
    "parameter_list = np.round(np.arange(0.4, 2.2, 0.2), 2)"
   ]
  },
  {
   "cell_type": "code",
   "execution_count": null,
   "metadata": {},
   "outputs": [],
   "source": [
    "results1 = get_results1('h2', parameter_list, params, model='linear')"
   ]
  },
  {
   "cell_type": "code",
   "execution_count": null,
   "metadata": {},
   "outputs": [],
   "source": [
    "results2 = get_results2('h2', parameter_list, results1)"
   ]
  },
  {
   "cell_type": "markdown",
   "metadata": {},
   "source": [
    "Now we are going to use te results stored in `results1_LM` and `results2_LM` to make some valuable plots, in order to analyze the influence of the $h_2$ parameter in the hospital linear model."
   ]
  },
  {
   "cell_type": "markdown",
   "metadata": {},
   "source": [
    "- **Problem type (feasible - not feasible) vs $h_2$**"
   ]
  },
  {
   "cell_type": "code",
   "execution_count": null,
   "metadata": {},
   "outputs": [],
   "source": [
    "plt.figure(figsize=(8, 5))\n",
    "ax = sns.scatterplot(y=results2['h2']['type'], x=parameter_list, color='red', s=200)\n",
    "plt.title('type vs h2', size=15)\n",
    "ax.set_ylabel('type', size=12)\n",
    "ax.set_xlabel('h2', size=12)\n",
    "plt.xticks(parameter_list, fontsize=12)\n",
    "plt.yticks(fontsize=11)\n",
    "plt.show()"
   ]
  },
  {
   "cell_type": "markdown",
   "metadata": {},
   "source": [
    "**Interpretation of the results:**\n",
    "\n",
    "The problem is feasible regardless the $h_2$ parameter, given the set of values fixed for the rest of parameters.\n",
    "\n",
    "This means that this parameter is not important to determine whether the problem will be feasible or not, at least in this case."
   ]
  },
  {
   "cell_type": "markdown",
   "metadata": {},
   "source": [
    "- **Number of patients seen vs $h_2$**"
   ]
  },
  {
   "cell_type": "code",
   "execution_count": null,
   "metadata": {},
   "outputs": [],
   "source": [
    "plt.figure(figsize=(8, 5))\n",
    "ax = sns.lineplot(y=results2['h2']['num_patients_seen'].values(), x=results2['h2']['feasible'], marker='o', markersize=7.5, color='red')\n",
    "plt.title('number of patients seen vs h2', size=15)\n",
    "ax.set_ylabel('number of patients seen', size=12)\n",
    "ax.set_xlabel('h2', size=12)\n",
    "plt.xticks(results2['h2']['feasible'], fontsize=12)\n",
    "plt.yticks(fontsize=11)\n",
    "plt.show()"
   ]
  },
  {
   "cell_type": "markdown",
   "metadata": {},
   "source": [
    "**Interpretation of the results:**\n",
    "\n",
    "Same interpretation as the one made for $h_1$ parameter."
   ]
  },
  {
   "cell_type": "markdown",
   "metadata": {},
   "source": [
    "- **Optimal value of the objective function vs $h_2$**"
   ]
  },
  {
   "cell_type": "code",
   "execution_count": null,
   "metadata": {},
   "outputs": [],
   "source": [
    "plt.figure(figsize=(8, 5))\n",
    "ax = sns.lineplot(y=np.round(list(results2['h2']['f_optimal_feasible'].values()), 3), x=results2['h2']['feasible'], marker='o', markersize=7.5, color='red')\n",
    "plt.title('$f$ optimal vs $h_2$', size=15)\n",
    "ax.set_ylabel('$f$ optimal', size=12)\n",
    "ax.set_xlabel('$h_2$', size=12)\n",
    "plt.xticks(results2['h2']['feasible'], fontsize=12)\n",
    "plt.yticks(fontsize=11)\n",
    "plt.show()"
   ]
  },
  {
   "cell_type": "markdown",
   "metadata": {},
   "source": [
    "**Interpretation of the results:**\n",
    "\n",
    "The optimal value of the objective function is the same regardless of $h_2$ parameter, given the set of values fixed for the rest of parameters.\n",
    "\n",
    "This means that this parameter is not important to determine the optimal value of the objective, at least in this case."
   ]
  },
  {
   "cell_type": "markdown",
   "metadata": {},
   "source": [
    "- **Average time spent per patient vs $h_2$**"
   ]
  },
  {
   "cell_type": "code",
   "execution_count": null,
   "metadata": {},
   "outputs": [],
   "source": [
    "plt.figure(figsize=(8, 5))\n",
    "ax = sns.lineplot(y=results2['h2']['avg_time_per_patient'].values(), x=results2['h2']['feasible'], marker='o', markersize=7.5, color='red')\n",
    "plt.title('Avg. time spent per patient vs $h_2$', size=15)\n",
    "ax.set_ylabel('Avg. time spent per patient', size=12)\n",
    "ax.set_xlabel('$h_2$', size=12)\n",
    "plt.xticks(results2['h2']['feasible'], fontsize=12)\n",
    "plt.yticks(fontsize=11)\n",
    "plt.show()"
   ]
  },
  {
   "cell_type": "markdown",
   "metadata": {},
   "source": [
    "**Interpretation of the results:**\n",
    "\n",
    "$h_2$ doesn't affect to the average time spent per patient, given the set of values fixed initially for the rest of parameters."
   ]
  },
  {
   "cell_type": "markdown",
   "metadata": {},
   "source": [
    "- **Median time spent per patient vs $h_2$**"
   ]
  },
  {
   "cell_type": "code",
   "execution_count": null,
   "metadata": {},
   "outputs": [],
   "source": [
    "plt.figure(figsize=(8, 5))\n",
    "ax = sns.lineplot(y=results2['h2']['median_time_per_patient'].values(), x=results2['h2']['feasible'], marker='o', markersize=7.5, color='red')\n",
    "plt.title('Median of time spent per patient vs $h_2$', size=15)\n",
    "ax.set_ylabel('Median of time per patient', size=12)\n",
    "ax.set_xlabel('$h_2$', size=12)\n",
    "plt.xticks(results2['h2']['feasible'], fontsize=12)\n",
    "plt.yticks(fontsize=11)\n",
    "plt.show()"
   ]
  },
  {
   "cell_type": "markdown",
   "metadata": {},
   "source": [
    "**Interpretation of the results:**\n",
    "\n",
    "$h_2$ doesn't affect to the average time spent per patient, given the set of values fixed initially for the rest of parameters."
   ]
  },
  {
   "cell_type": "markdown",
   "metadata": {},
   "source": [
    "- **$75$-quantile of time spent per patient vs $h_2$**"
   ]
  },
  {
   "cell_type": "code",
   "execution_count": null,
   "metadata": {},
   "outputs": [],
   "source": [
    "plt.figure(figsize=(8, 5))\n",
    "ax = sns.lineplot(y=results2['h2']['Q75_time_per_patient'].values(), x=results2['h2']['feasible'], marker='o', markersize=7.5, color='red')\n",
    "plt.title('Q75 of time spent per patient vs $h_2$', size=15)\n",
    "ax.set_ylabel('Q75 of time per patient', size=12)\n",
    "ax.set_xlabel('$h_2$', size=12)\n",
    "plt.xticks(results2['h2']['feasible'], fontsize=12)\n",
    "plt.yticks(fontsize=11)\n",
    "plt.show()"
   ]
  },
  {
   "cell_type": "markdown",
   "metadata": {},
   "source": [
    "**Interpretation of the results:**\n",
    "\n",
    "$h_2$ doesn't affect to the $75$-quantile of the time spent per patient, given the set of values fixed initially for the rest of parameters."
   ]
  },
  {
   "cell_type": "markdown",
   "metadata": {},
   "source": [
    "- **$25$-quantile of time spent per patient vs $h_2$**"
   ]
  },
  {
   "cell_type": "code",
   "execution_count": null,
   "metadata": {},
   "outputs": [],
   "source": [
    "plt.figure(figsize=(8, 5))\n",
    "ax = sns.lineplot(y=results2['h2']['Q25_time_per_patient'].values(), x=results2['h2']['feasible'], marker='o', markersize=7.5, color='red')\n",
    "plt.title('Q25 of the time spent per patient vs $h_2$', size=15)\n",
    "ax.set_ylabel('Q25 of time per patient', size=12)\n",
    "ax.set_xlabel('$h_2$', size=12)\n",
    "plt.xticks(results2['h2']['feasible'], fontsize=12)\n",
    "plt.yticks(fontsize=11)\n",
    "plt.show()"
   ]
  },
  {
   "cell_type": "markdown",
   "metadata": {},
   "source": [
    "**Interpretation of the results:**\n",
    "\n",
    "$h_2$ doesn't affect to the $25$-quantile of the time spent per patient, given the set of values fixed initially for the rest of parameters."
   ]
  },
  {
   "cell_type": "markdown",
   "metadata": {},
   "source": [
    "- **Average time spent per patient vs $w$ vs $h_2$**"
   ]
  },
  {
   "cell_type": "code",
   "execution_count": null,
   "metadata": {},
   "outputs": [],
   "source": [
    "plt.figure(figsize=(8, 5))\n",
    "for i, h2 in zip(results2['h2']['avg_time_patient_per_w'].keys(), results2['h2']['feasible']) :\n",
    "    ax = sns.lineplot(y=results2['h2']['avg_time_patient_per_w'][i].values(), x=results2['h2']['avg_time_patient_per_w'][i].keys(), \n",
    "                      label=h2, marker='o', markersize=6)\n",
    "plt.title('Avg. time per patient vs $w$ vs $h_2$', size=15)\n",
    "ax.set_ylabel('Avg. time per patient', size=12)\n",
    "ax.set_xlabel('$w$', size=12)\n",
    "plt.xticks(list(results2['h2']['avg_time_patient_per_w'][i].keys()), fontsize=12)\n",
    "plt.yticks(fontsize=11)\n",
    "plt.legend(title='$h_2$', loc='upper right', bbox_to_anchor=(1.2, 1), fontsize=11)\n",
    "plt.show()"
   ]
  },
  {
   "cell_type": "markdown",
   "metadata": {},
   "source": [
    "**Interpretation of the results:**\n",
    "\n",
    "$h_2$ doesn't affect to the average time spent per patients depending on their severity $(w)$, since this quantity is the same regardless the value taken by $h_2$.\n",
    "\n",
    "As final conclusion we can say that $h_2$ is not an important parameter, at least considering the values defined for the rest of parameters.  "
   ]
  },
  {
   "cell_type": "markdown",
   "metadata": {},
   "source": [
    "##### **Analysis of $h_3$ parameter**\n",
    "\n"
   ]
  },
  {
   "cell_type": "markdown",
   "metadata": {},
   "source": [
    "$h_3 :=$  minimum time time spent in each patient, taking into account their severity/importance (this quantity depends on $w_j$).\n"
   ]
  },
  {
   "cell_type": "markdown",
   "metadata": {},
   "source": [
    "**Analysis of $h_3^{12}$ parameter**\n"
   ]
  },
  {
   "cell_type": "markdown",
   "metadata": {},
   "source": [
    "$h_3^{12} :=$  minimum time time spent in patients with $w_j \\in \\lbrace 1, 2 \\rbrace$"
   ]
  },
  {
   "cell_type": "code",
   "execution_count": null,
   "metadata": {},
   "outputs": [],
   "source": [
    "params['n'] = 50 ; params['p']=500 ; params['h1']=6 ; params['h2']=1 ; params['h4']=4\n",
    "params['h3_1_2'] = None \n",
    "params['h3_3_4'] = 0.30 \n",
    "params['h3_5_6'] = 0.55  \n",
    "params['h3_7_8'] = 0.80 \n",
    "params['h3_9_10'] = 1 \n",
    "\n",
    "np.random.seed(123)\n",
    "params['w'] = np.random.randint(1, 11, params['p']) \n",
    "\n",
    "parameter_list = np.arange(0, 0.50, 0.05)"
   ]
  },
  {
   "cell_type": "code",
   "execution_count": null,
   "metadata": {},
   "outputs": [],
   "source": [
    "results1 = get_results1('h3_1_2', parameter_list, params, model='linear')"
   ]
  },
  {
   "cell_type": "code",
   "execution_count": null,
   "metadata": {},
   "outputs": [],
   "source": [
    "results2 = get_results2('h3_1_2', parameter_list, results1)"
   ]
  },
  {
   "cell_type": "markdown",
   "metadata": {},
   "source": [
    "- **Problem type (feasible - not feasible) vs $h_3^{12}$**"
   ]
  },
  {
   "cell_type": "code",
   "execution_count": null,
   "metadata": {},
   "outputs": [],
   "source": [
    "plt.figure(figsize=(8, 5))\n",
    "ax = sns.scatterplot(y=results2['h3_1_2']['type'], x=parameter_list, color='red', s=200)\n",
    "plt.title('type vs $h_3^{12}$', size=15)\n",
    "ax.set_ylabel('type', size=12)\n",
    "ax.set_xlabel('$h_3^{12}$', size=12)\n",
    "plt.xticks(parameter_list, fontsize=12)\n",
    "plt.yticks(fontsize=11)\n",
    "plt.show()"
   ]
  },
  {
   "cell_type": "markdown",
   "metadata": {},
   "source": [
    "**Interpretation of the results:**\n",
    "\n",
    "When the value of $h_3^{12}$, that is, the minimum time time spent in a patient with severity 1 or 2 $(w_j \\in \\lbrace 1,2\\rbrace)$ in a given day,  is small enough (lower than 0.40), the problem is feasible, given the values set for the rest of the parameters. But, when this parameter is large enough (greater or equal to 0.40), the problems becomes infeasible.\n",
    "\n",
    "These results can be interpreted as when the nurse-doctor tandems are forced to work too much on type 1-2 patients $(h_3^{12}\\in \\lbrace 0.40, 0.45 \\rbrace )$, the good work conditions given by ,$h_1, h_2$ and $h_4$ constraints  cannot be fulfilled, and the problem becomes infeasible. Otherwise, when the nurse-doctor tandems don't have to work too much on this kind of patients $(h_3^{12}\\in \\lbrace 0, 0.05,\\dots,0.35 \\rbrace )$, the good working conditions are satisfy, and the problem is feasible.\n",
    "\n",
    "\n",
    "Only feasible values of $h_3^{12}$8 will be taken into account in the next plots, since for the non feasible ones, any problem metric cannot be computed, since the problem itself cannot be solved."
   ]
  },
  {
   "cell_type": "markdown",
   "metadata": {},
   "source": [
    "- **Number of patients seen vs $h_3^{12}$**"
   ]
  },
  {
   "cell_type": "code",
   "execution_count": null,
   "metadata": {},
   "outputs": [],
   "source": [
    "plt.figure(figsize=(8, 5))\n",
    "ax = sns.lineplot(y=results2['h3_1_2']['num_patients_seen'].values(), x=results2['h3_1_2']['feasible'], \n",
    "                  marker='o', markersize=7.5, color='red')\n",
    "plt.title('number of patients seen vs h3_1_2', size=15)\n",
    "ax.set_ylabel('number of patients seen', size=12)\n",
    "ax.set_xlabel('h3_1_2', size=12)\n",
    "plt.xticks(results2['h3_1_2']['feasible'], fontsize=12)\n",
    "plt.yticks(fontsize=11)\n",
    "plt.show()"
   ]
  },
  {
   "cell_type": "markdown",
   "metadata": {},
   "source": [
    "**Interpretation of the results:**\n",
    "\n",
    "The number of patients seen is not affected by $h_1^{12}$ parameter, as long as it is greater than zero $(h_1^{12} > 0).$\n",
    "\n",
    "When $h_1^{12} > 0$, the number of patient seen is them maximum possible, that is, $p$, since whe have set $h_1^{12} > h_1^{12} > \\dots > h_1^{12} > 0$, so, the constraints associated to this parameters are enforcing the number of patient seen to be maximum $(=p)$.\n",
    "\n",
    "However, when $h_1^{12} = 0$, any constraint is enforcing the number of patient seen to be maximum, so the result is that it is different to $p=500$, approximately $400$, so, all the patients are not seen in this case.\n"
   ]
  },
  {
   "cell_type": "markdown",
   "metadata": {},
   "source": [
    "- **Optimal value of the objective function vs $h_3^{12}$**"
   ]
  },
  {
   "cell_type": "code",
   "execution_count": null,
   "metadata": {},
   "outputs": [],
   "source": [
    "plt.figure(figsize=(8, 5))\n",
    "ax = sns.lineplot(y=results2['h3_1_2']['f_optimal_feasible'].values(), x=results2['h3_1_2']['feasible'], marker='o', markersize=7.5, color='red')\n",
    "plt.title('$f$ optimal vs $h_3^{12}$', size=15)\n",
    "ax.set_ylabel('$f$ optimal', size=12)\n",
    "ax.set_xlabel('$h_3^{12}$', size=12)\n",
    "plt.xticks(results2['h3_1_2']['feasible'], fontsize=12)\n",
    "plt.yticks(fontsize=11)\n",
    "plt.show()"
   ]
  },
  {
   "cell_type": "markdown",
   "metadata": {},
   "source": [
    "**Interpretation of the results:**\n",
    "\n",
    "The greater $h_3^{12}$, the lower optimal value of the objective function. \n",
    "\n",
    "Considering that the values of $w$ are fixed since the beginning, and the objective function is defined as ${p} \\sum_{i=1}^{n} \\hspace{0.1cm} t_{ij} \\cdot w_j$, the fact that the optimal value of the objective function decreases when $h_3^{12}$ increases means that the time spent in patients must decreases as well in some sense. This fact can be seen in the last plot of this section."
   ]
  },
  {
   "cell_type": "markdown",
   "metadata": {},
   "source": [
    "- **Average time spent per patient vs $h_3^{12}$**"
   ]
  },
  {
   "cell_type": "code",
   "execution_count": null,
   "metadata": {},
   "outputs": [],
   "source": [
    "plt.figure(figsize=(8, 5))\n",
    "ax = sns.lineplot(y=results2['h3_1_2']['avg_time_per_patient'].values(), x=results2['h3_1_2']['feasible'], marker='o', markersize=7.5, color='red')\n",
    "plt.title('Avg. time per patient vs $h_3^{12}$', size=15)\n",
    "ax.set_ylabel('Avg. time per patient', size=12)\n",
    "ax.set_xlabel('$h_3^{12}$', size=12)\n",
    "plt.xticks(results2['h3_1_2']['feasible'], fontsize=12)\n",
    "plt.yticks(fontsize=11)\n",
    "plt.show()"
   ]
  },
  {
   "cell_type": "markdown",
   "metadata": {},
   "source": [
    "**Interpretation of the results:**\n",
    "\n",
    "The average time spent per patient is not affected by $h_3^{12}$ parameter, since it is the same regardless the $h_3^{12}$ values."
   ]
  },
  {
   "cell_type": "markdown",
   "metadata": {},
   "source": [
    "- **Median time spent per patient vs $h_3^{12}$**"
   ]
  },
  {
   "cell_type": "code",
   "execution_count": null,
   "metadata": {},
   "outputs": [],
   "source": [
    "plt.figure(figsize=(8, 5))\n",
    "ax = sns.lineplot(y=results2['h3_1_2']['median_time_per_patient'].values(), x=results2['h3_1_2']['feasible'], marker='o', markersize=7.5, color='red')\n",
    "plt.title('Median time per patient vs $h_3^{12}$', size=15)\n",
    "ax.set_ylabel('Median time per patient', size=12)\n",
    "ax.set_xlabel('$h_3^{12}$', size=12)\n",
    "plt.xticks(results2['h3_1_2']['feasible'], fontsize=12)\n",
    "plt.yticks(fontsize=11)\n",
    "plt.show()"
   ]
  },
  {
   "cell_type": "markdown",
   "metadata": {},
   "source": [
    "**Interpretation of the results:**\n",
    "\n",
    "The median of the time spent per patient is not affected by $h_3^{12}$ parameter, since it is the same regardless the $h_3^{12}$ values."
   ]
  },
  {
   "cell_type": "markdown",
   "metadata": {},
   "source": [
    "- **$75$-quantile time spent per patient vs $h_3^{12}$**"
   ]
  },
  {
   "cell_type": "code",
   "execution_count": null,
   "metadata": {},
   "outputs": [],
   "source": [
    "plt.figure(figsize=(8, 5))\n",
    "ax = sns.lineplot(y=results2['h3_1_2']['Q75_time_per_patient'].values(), x=results2['h3_1_2']['feasible'], marker='o', markersize=7.5, color='red')\n",
    "plt.title('Q75 time per patient vs $h_3^{12}$', size=15)\n",
    "ax.set_ylabel('Q75 time per patient', size=12)\n",
    "ax.set_xlabel('$h_3^{12}$', size=12)\n",
    "plt.xticks(results2['h3_1_2']['feasible'], fontsize=12)\n",
    "plt.yticks(fontsize=11)\n",
    "plt.show()"
   ]
  },
  {
   "cell_type": "markdown",
   "metadata": {},
   "source": [
    "**Interpretation of the results:**\n",
    "\n",
    "The $75$-quantile of the time spent per patient is not affected by $h_3^{12}$ parameter, since it is the same regardless the $h_3^{12}$ values."
   ]
  },
  {
   "cell_type": "markdown",
   "metadata": {},
   "source": [
    "- **$25$-quantile time spent per patient vs $h_3^{12}$**"
   ]
  },
  {
   "cell_type": "code",
   "execution_count": null,
   "metadata": {},
   "outputs": [],
   "source": [
    "plt.figure(figsize=(8, 5))\n",
    "ax = sns.lineplot(y=results2['h3_1_2']['Q25_time_per_patient'].values(), x=results2['h3_1_2']['feasible'], marker='o', markersize=7.5, color='red')\n",
    "plt.title('Q25 time per patient vs $h_3^{12}$', size=15)\n",
    "ax.set_ylabel('Q25 time per patient', size=12)\n",
    "ax.set_xlabel('$h_3^{12}$', size=12)\n",
    "plt.xticks(results2['h3_1_2']['feasible'], fontsize=12)\n",
    "plt.yticks(fontsize=11)\n",
    "plt.show()"
   ]
  },
  {
   "cell_type": "markdown",
   "metadata": {},
   "source": [
    "**Interpretation of the results:**\n",
    "\n",
    "The $25$-quantile of the time spent per patient is not affected by $h_3^{12}$ when it is lower or equal to $0.30$. \n",
    "\n",
    "We can see that for $h_3^{12}=0.35$, the $25$-quantile is $0.35$, and when $h_3^{12}\\in \\lbrace 0, 0.05, \\dots, 0.30 \\rbrace$ it becomes $0.30$.\n",
    "\n",
    "So, the behavior seems to be the following:\n",
    "\n",
    "When $h_3^{12} \\geq 0.30$ the $25$-quantile is $h_3^{12}$. but, when $h_3^{12} < 0.30$, it is $0.30$.\n",
    "\n",
    "It's important to notice that $h_3^{34}=0.30$."
   ]
  },
  {
   "cell_type": "markdown",
   "metadata": {},
   "source": [
    "- **Average time spent per patient vs $w$ vs $h_3^{12}$**"
   ]
  },
  {
   "cell_type": "code",
   "execution_count": null,
   "metadata": {},
   "outputs": [],
   "source": [
    "plt.figure(figsize=(9, 6))\n",
    "for i, h3_1_2 in zip(results2['h3_1_2']['avg_time_patient_per_w'].keys(), results2['h3_1_2']['feasible']) :\n",
    "    ax = sns.lineplot(y=results2['h3_1_2']['avg_time_patient_per_w'][i].values(), x=results2['h3_1_2']['avg_time_patient_per_w'][i].keys(), \n",
    "                      label=round(h3_1_2,2), marker='o', markersize=6)\n",
    "plt.title('Avg. time per patient vs $w$ vs $h_3^{12}$', size=15)\n",
    "ax.set_ylabel('Avg. time per patient', size=12)\n",
    "ax.set_xlabel('$w$', size=12)\n",
    "plt.xticks(list(results2['h3_1_2']['avg_time_patient_per_w'][i].keys()), fontsize=12)\n",
    "plt.yticks(np.arange(0,2, 0.15), fontsize=11)\n",
    "plt.legend(title='$h_3^{12}$', loc='upper right', bbox_to_anchor=(1.2, 1), fontsize=11)\n",
    "plt.show()"
   ]
  },
  {
   "cell_type": "markdown",
   "metadata": {},
   "source": [
    "**Interpretation of the results:**\n",
    "\n",
    "This plot shows the average time spent per patient depending on both $w$ and $h_3^{12}$.\n",
    "\n",
    "First of all, we can observe that for patients with severity between 3 and 9 $(w_j \\in [3,9]\\subset \\mathbf{Z})$ don't have differences en the average time spent generated by $h_3^{12}$ parameter. In other words the average time spent on patients with $w_j \\in  \\in [3,9]\\subset \\mathbf{Z}$ is independent of $h_3^{12}$, although we can see different average times between this groups, according with their differences in severity. In particular, the more severity, the more average time spent in them, what makes much sense. But is important to notice that the time spent in this patients is the minimum established by the problem constraints, and not more.\n",
    "\n",
    "On the other hand, we can observe differences in terms of $h_3^{12}$ for type 1,2 and 10 patients.\n",
    "\n",
    "Concretely, the average time spent on type 1-2 patients with $(w_j in \\lbrace 1,2 \\rbrace)$ is different depending on $h_3^{12}$ value. When $h_3^{12}=0$, that is, when the nurse-doctor tandems are not forced to spent time in type 1-2 patients, they actually don't spend time on them. And, $h_3^{12}$ increases, the time spent in this kind of patient increase, being this just the same of $h_3^{12}$, so, this patients are seen the minimum fixed by the problem constraint, and not more.\n",
    "\n",
    "In addition, the average time spent on type 10 patients $(w_j=10)$, the most severe ones, is also affected by $h_3^{12}$.\n",
    "The result that we find at this point has a beauty interpretation. As we have seen the basic interpretation is that the nurse-doctor tandems spent the minimum possible time in each type of patients so that to fulfilled the $h_3$ constraints, but they do them not for all the patients types, but for type from 1 to 9, but they don't behave in the same way with type 10 patients, that are the most important. \n",
    "Therefore, there is an extra time that nurse-doctors can spent in type 10-patients, in order to spend more time in this kind of patient that the minimum one established by $h_3^{910}$ constraint, that is $1$.\n",
    "And what we can see is that, indeed, the nurse-doctor tandems invest this extra time in type-10 patients. But this extra time is different depending on $h_1^{12}$. The lower $h_3^{12}$, the more extra time. So, as result, the lower $h_3^{12}$, the more time spent in type-10 patients, as we can see in the plot.\n"
   ]
  },
  {
   "cell_type": "markdown",
   "metadata": {},
   "source": [
    "**Analysis of $h_3^{34}$ parameter**\n"
   ]
  },
  {
   "cell_type": "markdown",
   "metadata": {},
   "source": [
    "$h_3^{34} :=$  minimum time time spent in patients with $w_j \\in \\lbrace 3, 4 \\rbrace$"
   ]
  },
  {
   "cell_type": "code",
   "execution_count": null,
   "metadata": {},
   "outputs": [],
   "source": [
    "params['n'] = 50 ; params['p']=500 ; params['h1']=6 ; params['h2']=1 ; params['h4']=4\n",
    "params['h3_1_2'] = 0.10 \n",
    "params['h3_3_4'] = None\n",
    "params['h3_5_6'] = 0.55  \n",
    "params['h3_7_8'] = 0.80 \n",
    "params['h3_9_10'] = 1 \n",
    "\n",
    "np.random.seed(123)\n",
    "params['w'] = np.random.randint(1, 11, params['p']) \n",
    "\n",
    "parameter_list = np.arange(0, 0.8, 0.1)"
   ]
  },
  {
   "cell_type": "code",
   "execution_count": null,
   "metadata": {},
   "outputs": [],
   "source": [
    "results1 = get_results1('h3_3_4', parameter_list, params, model='linear')"
   ]
  },
  {
   "cell_type": "code",
   "execution_count": null,
   "metadata": {},
   "outputs": [],
   "source": [
    "results2 = get_results2('h3_3_4', parameter_list, results1)"
   ]
  },
  {
   "cell_type": "markdown",
   "metadata": {},
   "source": [
    "- **Problem type (feasible - not feasible) vs $h_3^{34}$**"
   ]
  },
  {
   "cell_type": "code",
   "execution_count": null,
   "metadata": {},
   "outputs": [],
   "source": [
    "plt.figure(figsize=(8, 5))\n",
    "ax = sns.scatterplot(y=results2['h3_3_4']['type'], x=parameter_list, color='red', s=200)\n",
    "plt.title('type vs $h_3^{34}$', size=15)\n",
    "ax.set_ylabel('type', size=12)\n",
    "ax.set_xlabel('$h_3^{34}$', size=12)\n",
    "plt.xticks(parameter_list, fontsize=12)\n",
    "plt.yticks(fontsize=11)\n",
    "plt.show()"
   ]
  },
  {
   "cell_type": "markdown",
   "metadata": {},
   "source": [
    "**Interpretation of the results:**\n",
    "\n",
    "Analogous interpretation as the one made for $h_3^{12}$ parameter."
   ]
  },
  {
   "cell_type": "markdown",
   "metadata": {},
   "source": [
    "- **Number of patients seen vs $h_3^{34}$**"
   ]
  },
  {
   "cell_type": "code",
   "execution_count": null,
   "metadata": {},
   "outputs": [],
   "source": [
    "plt.figure(figsize=(8, 5))\n",
    "ax = sns.lineplot(y=results2['h3_3_4']['num_patients_seen'].values(), x=results2['h3_3_4']['feasible'], \n",
    "                  marker='o', markersize=7.5, color='red')\n",
    "plt.title('number of patients seen vs h3_3_4', size=15)\n",
    "ax.set_ylabel('number of patients seen', size=12)\n",
    "ax.set_xlabel('h3_3_4', size=12)\n",
    "plt.xticks(results2['h3_3_4']['feasible'], fontsize=12)\n",
    "plt.yticks(fontsize=11)\n",
    "plt.show()"
   ]
  },
  {
   "cell_type": "markdown",
   "metadata": {},
   "source": [
    "**Interpretation of the results:**\n",
    "\n",
    "Analogous interpretation as the one made for $h_3^{12}$ parameter."
   ]
  },
  {
   "cell_type": "markdown",
   "metadata": {},
   "source": [
    "- **Optimal value of the objective function vs $h_3^{34}$**"
   ]
  },
  {
   "cell_type": "code",
   "execution_count": null,
   "metadata": {},
   "outputs": [],
   "source": [
    "plt.figure(figsize=(8, 5))\n",
    "ax = sns.lineplot(y=results2['h3_3_4']['f_optimal_feasible'].values(), x=results2['h3_3_4']['feasible'], marker='o', markersize=7.5, color='red')\n",
    "plt.title('$f$ optimal vs $h_3^{34}$', size=15)\n",
    "ax.set_ylabel('$f$ optimal', size=12)\n",
    "ax.set_xlabel('$h_3^{34}$', size=12)\n",
    "plt.xticks(results2['h3_3_4']['feasible'], fontsize=12)\n",
    "plt.yticks(np.arange(2100, 2550, 50), fontsize=11)\n",
    "plt.show()"
   ]
  },
  {
   "cell_type": "markdown",
   "metadata": {},
   "source": [
    "**Interpretation of the results:**\n",
    "\n",
    "Analogous interpretation as the one made for $h_3^{12}$ parameter."
   ]
  },
  {
   "cell_type": "markdown",
   "metadata": {},
   "source": [
    "- **Average time spent per patient vs $h_3^{34}$**"
   ]
  },
  {
   "cell_type": "code",
   "execution_count": null,
   "metadata": {},
   "outputs": [],
   "source": [
    "plt.figure(figsize=(8, 5))\n",
    "ax = sns.lineplot(y=results2['h3_3_4']['avg_time_per_patient'].values(), x=results2['h3_3_4']['feasible'], marker='o', markersize=7.5, color='red')\n",
    "plt.title('Avg. time per patient vs $h_3^{34}$', size=15)\n",
    "ax.set_ylabel('Avg. time per patient', size=12)\n",
    "ax.set_xlabel('$h_3^{34}$', size=12)\n",
    "plt.xticks(results2['h3_3_4']['feasible'], fontsize=12)\n",
    "plt.yticks(fontsize=11)\n",
    "plt.show()"
   ]
  },
  {
   "cell_type": "markdown",
   "metadata": {},
   "source": [
    "**Interpretation of the results:**\n",
    "\n",
    "Analogous interpretation as the one made for $h_3^{12}$ parameter."
   ]
  },
  {
   "cell_type": "markdown",
   "metadata": {},
   "source": [
    "- **Median time spent per patient vs $h_3^{34}$**"
   ]
  },
  {
   "cell_type": "code",
   "execution_count": null,
   "metadata": {},
   "outputs": [],
   "source": [
    "plt.figure(figsize=(8, 5))\n",
    "ax = sns.lineplot(y=results2['h3_3_4']['median_time_per_patient'].values(), x=results2['h3_3_4']['feasible'], marker='o', markersize=7.5, color='red')\n",
    "plt.title('Median time per patient vs $h_3^{34}$', size=15)\n",
    "ax.set_ylabel('Median time per patient', size=12)\n",
    "ax.set_xlabel('$h_3^{34}$', size=12)\n",
    "plt.xticks(results2['h3_3_4']['feasible'], fontsize=12)\n",
    "plt.yticks(fontsize=11)\n",
    "plt.show()"
   ]
  },
  {
   "cell_type": "markdown",
   "metadata": {},
   "source": [
    "**Interpretation of the results:**\n",
    "\n",
    "Analogous interpretation as the one made for $h_3^{12}$ parameter."
   ]
  },
  {
   "cell_type": "markdown",
   "metadata": {},
   "source": [
    "- **$75$-quantile time spent per patient vs $h_3^{34}$**"
   ]
  },
  {
   "cell_type": "code",
   "execution_count": null,
   "metadata": {},
   "outputs": [],
   "source": [
    "plt.figure(figsize=(8, 5))\n",
    "ax = sns.lineplot(y=results2['h3_3_4']['Q75_time_per_patient'].values(), x=results2['h3_3_4']['feasible'], marker='o', markersize=7.5, color='red')\n",
    "plt.title('Q75 time per patient vs $h_3^{34}$', size=15)\n",
    "ax.set_ylabel('Q75 time per patient', size=12)\n",
    "ax.set_xlabel('$h_3^{34}$', size=12)\n",
    "plt.xticks(results2['h3_3_4']['feasible'], fontsize=12)\n",
    "plt.yticks(fontsize=11)\n",
    "plt.show()"
   ]
  },
  {
   "cell_type": "markdown",
   "metadata": {},
   "source": [
    "**Interpretation of the results:**\n",
    "\n",
    "Analogous interpretation as the one made for $h_3^{12}$ parameter."
   ]
  },
  {
   "cell_type": "markdown",
   "metadata": {},
   "source": [
    "- **$25$-quantile time spent per patient vs $h_3^{34}$**"
   ]
  },
  {
   "cell_type": "code",
   "execution_count": null,
   "metadata": {},
   "outputs": [],
   "source": [
    "plt.figure(figsize=(8, 5))\n",
    "ax = sns.lineplot(y=results2['h3_3_4']['Q25_time_per_patient'].values(), x=results2['h3_3_4']['feasible'], marker='o', markersize=7.5, color='red')\n",
    "plt.title('Q25 time per patient vs $h_3^{34}$', size=15)\n",
    "ax.set_ylabel('Q25 time per patient', size=12)\n",
    "ax.set_xlabel('$h_3^{34}$', size=12)\n",
    "plt.xticks(results2['h3_3_4']['feasible'], fontsize=12)\n",
    "plt.yticks(fontsize=11)\n",
    "plt.show()"
   ]
  },
  {
   "cell_type": "markdown",
   "metadata": {},
   "source": [
    "**Interpretation of the results:**\n",
    "\n",
    "When $h_3^{34} > 0$, the $25$-quantile seems to be just $h_3^{34}$. So, this parameter seems to define what the $25$-quantile of the time spent per patient will be, in those cases."
   ]
  },
  {
   "cell_type": "markdown",
   "metadata": {},
   "source": [
    "- **Average time spent per patient vs $w$ vs $h_3^{34}$**"
   ]
  },
  {
   "cell_type": "code",
   "execution_count": null,
   "metadata": {},
   "outputs": [],
   "source": [
    "plt.figure(figsize=(9, 6))\n",
    "for i, h3_3_4 in zip(results2['h3_3_4']['avg_time_patient_per_w'].keys(), results2['h3_3_4']['feasible']) :\n",
    "    ax = sns.lineplot(y=results2['h3_3_4']['avg_time_patient_per_w'][i].values(), x=results2['h3_3_4']['avg_time_patient_per_w'][i].keys(), \n",
    "                      label=round(h3_3_4, 2), marker='o', markersize=6)\n",
    "plt.title('Avg. time per patient vs $w$ vs $h_3^{34}$', size=15)\n",
    "ax.set_ylabel('Avg. time per patient', size=12)\n",
    "ax.set_xlabel('$w$', size=12)\n",
    "plt.xticks(list(results2['h3_3_4']['avg_time_patient_per_w'][i].keys()), fontsize=12)\n",
    "plt.yticks(np.arange(0, 2.45, 0.15), fontsize=11)\n",
    "plt.legend(title='$h_3^{34}$', loc='upper right', bbox_to_anchor=(1.2, 1), fontsize=11)\n",
    "plt.show()"
   ]
  },
  {
   "cell_type": "markdown",
   "metadata": {},
   "source": [
    "**Interpretation of the results:**\n",
    "\n",
    "Analogous interpretation to the one made for $h_3^{12}$ parameter, but adapting the conclusions to $h_3^{34}$, of course."
   ]
  },
  {
   "cell_type": "markdown",
   "metadata": {},
   "source": [
    "**Analysis of $h_3^{56}$ parameter**\n"
   ]
  },
  {
   "cell_type": "markdown",
   "metadata": {},
   "source": [
    "$h_3^{56} :=$  minimum time time spent in patients with $w_j \\in \\lbrace 5, 6 \\rbrace$"
   ]
  },
  {
   "cell_type": "code",
   "execution_count": null,
   "metadata": {},
   "outputs": [],
   "source": [
    "params['n'] = 50 ; params['p']=500 ; params['h1']=6 ; params['h2']=1 ; params['h4']=4\n",
    "params['h3_1_2'] = 0.10 \n",
    "params['h3_3_4'] = 0.30\n",
    "params['h3_5_6'] = None  \n",
    "params['h3_7_8'] = 0.80 \n",
    "params['h3_9_10'] = 1 \n",
    "\n",
    "np.random.seed(123)\n",
    "params['w'] = np.random.randint(1, 11, params['p']) \n",
    "\n",
    "parameter_list = np.arange(0, 1.1, 0.1)"
   ]
  },
  {
   "cell_type": "code",
   "execution_count": null,
   "metadata": {},
   "outputs": [],
   "source": [
    "results1 = get_results1('h3_5_6', parameter_list, params, model='linear')"
   ]
  },
  {
   "cell_type": "code",
   "execution_count": null,
   "metadata": {},
   "outputs": [],
   "source": [
    "results2 = get_results2('h3_5_6', parameter_list, results1)"
   ]
  },
  {
   "cell_type": "markdown",
   "metadata": {},
   "source": [
    "- **Problem type (feasible - not feasible) vs $h_3^{56}$**"
   ]
  },
  {
   "cell_type": "code",
   "execution_count": null,
   "metadata": {},
   "outputs": [],
   "source": [
    "plt.figure(figsize=(8, 5))\n",
    "ax = sns.scatterplot(y=results2['h3_5_6']['type'], x=parameter_list, color='red', s=200)\n",
    "plt.title('type vs $h_3^{56}$', size=15)\n",
    "ax.set_ylabel('type', size=12)\n",
    "ax.set_xlabel('$h_3^{56}$', size=12)\n",
    "plt.xticks(parameter_list, fontsize=12)\n",
    "plt.yticks(fontsize=11)\n",
    "plt.show()"
   ]
  },
  {
   "cell_type": "markdown",
   "metadata": {},
   "source": [
    "**Interpretation of the results:**\n",
    "\n",
    "Analogous interpretation as the one made for $h_3^{12}$ parameter."
   ]
  },
  {
   "cell_type": "markdown",
   "metadata": {},
   "source": [
    "- **Number of patients seen vs $h_3^{56}$**"
   ]
  },
  {
   "cell_type": "code",
   "execution_count": null,
   "metadata": {},
   "outputs": [],
   "source": [
    "plt.figure(figsize=(8, 5))\n",
    "ax = sns.lineplot(y=results2['h3_5_6']['num_patients_seen'].values(), x=results2['h3_5_6']['feasible'], \n",
    "                  marker='o', markersize=7.5, color='red')\n",
    "plt.title('number of patients seen vs h3_5_6', size=15)\n",
    "ax.set_ylabel('number of patients seen', size=12)\n",
    "ax.set_xlabel('h3_5_6', size=12)\n",
    "plt.xticks(results2['h3_5_6']['feasible'], fontsize=12)\n",
    "plt.yticks(np.arange(400, 520, 20), fontsize=11)\n",
    "plt.show()"
   ]
  },
  {
   "cell_type": "markdown",
   "metadata": {},
   "source": [
    "**Interpretation of the results:**\n",
    "\n",
    "Analogous interpretation as the one made for $h_3^{12}$ parameter."
   ]
  },
  {
   "cell_type": "markdown",
   "metadata": {},
   "source": [
    "- **Optimal value of the objective function vs $h_3^{56}$**"
   ]
  },
  {
   "cell_type": "code",
   "execution_count": null,
   "metadata": {},
   "outputs": [],
   "source": [
    "plt.figure(figsize=(8, 5))\n",
    "ax = sns.lineplot(y=results2['h3_5_6']['f_optimal_feasible'].values(), x=results2['h3_5_6']['feasible'], marker='o', markersize=7.5, color='red')\n",
    "plt.title('$f$ optimal vs $h_3^{56}$', size=15)\n",
    "ax.set_ylabel('$f$ optimal', size=12)\n",
    "ax.set_xlabel('$h_3^{56}$', size=12)\n",
    "plt.xticks(results2['h3_5_6']['feasible'], fontsize=12)\n",
    "plt.yticks(np.arange(2100, 2550, 50), fontsize=11)\n",
    "plt.show()"
   ]
  },
  {
   "cell_type": "markdown",
   "metadata": {},
   "source": [
    "**Interpretation of the results:**\n",
    "\n",
    "Analogous interpretation to the one made for $h_3^{12}$ parameter."
   ]
  },
  {
   "cell_type": "markdown",
   "metadata": {},
   "source": [
    "- **Average time spent per patient vs $h_3^{56}$**"
   ]
  },
  {
   "cell_type": "code",
   "execution_count": null,
   "metadata": {},
   "outputs": [],
   "source": [
    "plt.figure(figsize=(8, 5))\n",
    "ax = sns.lineplot(y=results2['h3_5_6']['avg_time_per_patient'].values(), x=results2['h3_5_6']['feasible'], marker='o', markersize=7.5, color='red')\n",
    "plt.title('Avg. time per patient vs $h_3^{56}$', size=15)\n",
    "ax.set_ylabel('Avg. time per patient', size=12)\n",
    "ax.set_xlabel('$h_3^{56}$', size=12)\n",
    "plt.xticks(results2['h3_5_6']['feasible'], fontsize=12)\n",
    "plt.yticks(fontsize=11)\n",
    "plt.show()"
   ]
  },
  {
   "cell_type": "markdown",
   "metadata": {},
   "source": [
    "**Interpretation of the results:**\n",
    "\n",
    "Analogous interpretation to the one made for $h_3^{12}$ parameter."
   ]
  },
  {
   "cell_type": "markdown",
   "metadata": {},
   "source": [
    "- **Median time spent per patient vs $h_3^{56}$**"
   ]
  },
  {
   "cell_type": "code",
   "execution_count": null,
   "metadata": {},
   "outputs": [],
   "source": [
    "plt.figure(figsize=(8, 5))\n",
    "ax = sns.lineplot(y=results2['h3_5_6']['median_time_per_patient'].values(), x=results2['h3_5_6']['feasible'], marker='o', markersize=7.5, color='red')\n",
    "plt.title('Median time per patient vs $h_3^{56}$', size=15)\n",
    "ax.set_ylabel('Median time per patient', size=12)\n",
    "ax.set_xlabel('$h_3^{56}$', size=12)\n",
    "plt.xticks(results2['h3_5_6']['feasible'], fontsize=12)\n",
    "plt.yticks(fontsize=11)\n",
    "plt.show()"
   ]
  },
  {
   "cell_type": "markdown",
   "metadata": {},
   "source": [
    "**Interpretation of the results:**\n",
    "\n",
    "When $h_3^{56} \\geq 0.3$, the median seems to be just $h_3^{56}$. So, this parameter seems to define what the median of the time spent per patient will be, in those cases.\n",
    "But, when $h_3^{56}< 0.3$, the median is just $0.3$."
   ]
  },
  {
   "cell_type": "markdown",
   "metadata": {},
   "source": [
    "- **$75$-quantile time spent per patient vs $h_3^{56}$**"
   ]
  },
  {
   "cell_type": "code",
   "execution_count": null,
   "metadata": {},
   "outputs": [],
   "source": [
    "plt.figure(figsize=(8, 5))\n",
    "ax = sns.lineplot(y=results2['h3_5_6']['Q75_time_per_patient'].values(), x=results2['h3_5_6']['feasible'], marker='o', markersize=7.5, color='red')\n",
    "plt.title('Q75 time per patient vs $h_3^{56}$', size=15)\n",
    "ax.set_ylabel('Q75 time per patient', size=12)\n",
    "ax.set_xlabel('$h_3^{56}$', size=12)\n",
    "plt.xticks(results2['h3_5_6']['feasible'], fontsize=12)\n",
    "plt.yticks(fontsize=11)\n",
    "plt.show()"
   ]
  },
  {
   "cell_type": "markdown",
   "metadata": {},
   "source": [
    "**Interpretation of the results:**\n",
    "\n",
    "Analogous interpretation as the one made for $h_3^{12}$ parameter."
   ]
  },
  {
   "cell_type": "markdown",
   "metadata": {},
   "source": [
    "- **$25$-quantile time spent per patient vs $h_3^{34}$**"
   ]
  },
  {
   "cell_type": "code",
   "execution_count": null,
   "metadata": {},
   "outputs": [],
   "source": [
    "plt.figure(figsize=(8, 5))\n",
    "ax = sns.lineplot(y=results2['h3_5_6']['Q25_time_per_patient'].values(), x=results2['h3_5_6']['feasible'], marker='o', markersize=7.5, color='red')\n",
    "plt.title('Q25 time per patient vs $h_3^{56}$', size=15)\n",
    "ax.set_ylabel('Q25 time per patient', size=12)\n",
    "ax.set_xlabel('$h_3^{56}$', size=12)\n",
    "plt.xticks(results2['h3_5_6']['feasible'], fontsize=12)\n",
    "plt.yticks(fontsize=11)\n",
    "plt.show()"
   ]
  },
  {
   "cell_type": "markdown",
   "metadata": {},
   "source": [
    "**Interpretation of the results:**\n",
    "\n",
    "When $h_3^{56} \\in \\lbrace 0.1, 0.2, 0.3\\rbrace$, the $25$-quantile seems to be just $h_3^{56}$, but when $h_3^{56} > 0.3$ the $25$-quantile is $0.3$, and when $h_3^{56}< 0.1$, it is $0.1$. \n",
    "\n",
    "It's important to notice that $h_3^{12}=0.1$ and $h_3^{23} = 0.3$."
   ]
  },
  {
   "cell_type": "markdown",
   "metadata": {},
   "source": [
    "- **Average time spent per patient vs $w$ vs $h_3^{56}$**"
   ]
  },
  {
   "cell_type": "code",
   "execution_count": null,
   "metadata": {},
   "outputs": [],
   "source": [
    "plt.figure(figsize=(9, 6))\n",
    "for i, h3_5_6 in zip(results2['h3_5_6']['avg_time_patient_per_w'].keys(), results2['h3_5_6']['feasible']) :\n",
    "    ax = sns.lineplot(y=results2['h3_5_6']['avg_time_patient_per_w'][i].values(), x=results2['h3_5_6']['avg_time_patient_per_w'][i].keys(), \n",
    "                      label=round(h3_5_6, 2), marker='o', markersize=6)\n",
    "plt.title('Avg. time per patient vs $w$ vs $h_3^{56}$', size=15)\n",
    "ax.set_ylabel('Avg. time per patient', size=12)\n",
    "ax.set_xlabel('$w$', size=12)\n",
    "plt.xticks(list(results2['h3_5_6']['avg_time_patient_per_w'][i].keys()), fontsize=12)\n",
    "plt.yticks(np.arange(0,3, 0.25), fontsize=11)\n",
    "plt.legend(title='$h_3^{56}$', loc='upper right', bbox_to_anchor=(1.2, 1), fontsize=11)\n",
    "plt.show()"
   ]
  },
  {
   "cell_type": "markdown",
   "metadata": {},
   "source": [
    "**Interpretation of the results:**\n",
    "\n",
    "Analogous interpretation to the one made for $h_3^{12}$ parameter, but adapting the conclusions to $h_3^{56}$, of course."
   ]
  },
  {
   "cell_type": "markdown",
   "metadata": {},
   "source": [
    "**Analysis of $h_3^{78}$ parameter**\n"
   ]
  },
  {
   "cell_type": "markdown",
   "metadata": {},
   "source": [
    "$h_3^{78} :=$  minimum time time spent in patients with $w_j \\in \\lbrace 7, 8 \\rbrace$"
   ]
  },
  {
   "cell_type": "code",
   "execution_count": null,
   "metadata": {},
   "outputs": [],
   "source": [
    "params['n'] = 50 ; params['p']=500 ; params['h1']=6 ; params['h2']=1 ; params['h4']=4\n",
    "params['h3_1_2'] = 0.10 \n",
    "params['h3_3_4'] = 0.30\n",
    "params['h3_5_6'] = 0.55  \n",
    "params['h3_7_8'] = None \n",
    "params['h3_9_10'] = 1 \n",
    "\n",
    "np.random.seed(123)\n",
    "params['w'] = np.random.randint(1, 11, params['p']) \n",
    "\n",
    "parameter_list = np.arange(0, 1.3, 0.1)"
   ]
  },
  {
   "cell_type": "code",
   "execution_count": null,
   "metadata": {},
   "outputs": [],
   "source": [
    "results1 = get_results1('h3_7_8', parameter_list, params, model='linear')"
   ]
  },
  {
   "cell_type": "code",
   "execution_count": null,
   "metadata": {},
   "outputs": [],
   "source": [
    "results2 = get_results2('h3_7_8', parameter_list, results1)"
   ]
  },
  {
   "cell_type": "markdown",
   "metadata": {},
   "source": [
    "- **Problem type (feasible - not feasible) vs $h_3^{78}$**"
   ]
  },
  {
   "cell_type": "code",
   "execution_count": null,
   "metadata": {},
   "outputs": [],
   "source": [
    "plt.figure(figsize=(8, 5))\n",
    "ax = sns.scatterplot(y=results2['h3_7_8']['type'], x=parameter_list, color='red', s=200)\n",
    "plt.title('type vs $h_3^{78}$', size=15)\n",
    "ax.set_ylabel('type', size=12)\n",
    "ax.set_xlabel('$h_3^{78}$', size=12)\n",
    "plt.xticks(parameter_list, fontsize=12)\n",
    "plt.yticks(fontsize=11)\n",
    "plt.show()"
   ]
  },
  {
   "cell_type": "markdown",
   "metadata": {},
   "source": [
    "**Interpretation of the results:**\n",
    "\n",
    "Analogous interpretation as the one made for $h_3^{12}$ parameter."
   ]
  },
  {
   "cell_type": "markdown",
   "metadata": {},
   "source": [
    "- **Number of patients seen vs $h_3^{78}$**"
   ]
  },
  {
   "cell_type": "code",
   "execution_count": null,
   "metadata": {},
   "outputs": [],
   "source": [
    "plt.figure(figsize=(8, 5))\n",
    "ax = sns.lineplot(y=results2['h3_7_8']['num_patients_seen'].values(), x=results2['h3_7_8']['feasible'], \n",
    "                  marker='o', markersize=7.5, color='red')\n",
    "plt.title('number of patients seen vs h3_7_8', size=15)\n",
    "ax.set_ylabel('number of patients seen', size=12)\n",
    "ax.set_xlabel('h3_7_8', size=12)\n",
    "plt.xticks(results2['h3_7_8']['feasible'], fontsize=12)\n",
    "plt.yticks(np.arange(380, 520, 20), fontsize=11)\n",
    "plt.show()"
   ]
  },
  {
   "cell_type": "markdown",
   "metadata": {},
   "source": [
    "**Interpretation of the results:**\n",
    "\n",
    "Analogous interpretation as the one made for $h_3^{12}$ parameter."
   ]
  },
  {
   "cell_type": "markdown",
   "metadata": {},
   "source": [
    "- **Optimal value of the objective function vs $h_3^{78}$**"
   ]
  },
  {
   "cell_type": "code",
   "execution_count": null,
   "metadata": {},
   "outputs": [],
   "source": [
    "plt.figure(figsize=(8, 5))\n",
    "ax = sns.lineplot(y=results2['h3_7_8']['f_optimal_feasible'].values(), x=results2['h3_7_8']['feasible'], marker='o', markersize=7.5, color='red')\n",
    "plt.title('$f$ optimal vs $h_3^{78}$', size=15)\n",
    "ax.set_ylabel('$f$ optimal', size=12)\n",
    "ax.set_xlabel('$h_3^{78}$', size=12)\n",
    "plt.xticks(results2['h3_7_8']['feasible'], fontsize=12)\n",
    "plt.yticks(np.arange(2100, 2550, 50), fontsize=11)\n",
    "plt.show()"
   ]
  },
  {
   "cell_type": "markdown",
   "metadata": {},
   "source": [
    "**Interpretation of the results:**\n",
    "\n",
    "Analogous interpretation to the one made for $h_3^{12}$ parameter."
   ]
  },
  {
   "cell_type": "markdown",
   "metadata": {},
   "source": [
    "- **Average time spent per patient vs $h_3^{78}$**"
   ]
  },
  {
   "cell_type": "code",
   "execution_count": null,
   "metadata": {},
   "outputs": [],
   "source": [
    "plt.figure(figsize=(8, 5))\n",
    "ax = sns.lineplot(y=results2['h3_7_8']['avg_time_per_patient'].values(), x=results2['h3_7_8']['feasible'], marker='o', markersize=7.5, color='red')\n",
    "plt.title('Avg. time per patient vs $h_3^{78}$', size=15)\n",
    "ax.set_ylabel('Avg. time per patient', size=12)\n",
    "ax.set_xlabel('$h_3^{78}$', size=12)\n",
    "plt.xticks(results2['h3_7_8']['feasible'], fontsize=12)\n",
    "plt.yticks(fontsize=11)\n",
    "plt.show()"
   ]
  },
  {
   "cell_type": "markdown",
   "metadata": {},
   "source": [
    "**Interpretation of the results:**\n",
    "\n",
    "Analogous interpretation to the one made for $h_3^{12}$ parameter."
   ]
  },
  {
   "cell_type": "markdown",
   "metadata": {},
   "source": [
    "- **Median time spent per patient vs $h_3^{78}$**"
   ]
  },
  {
   "cell_type": "code",
   "execution_count": null,
   "metadata": {},
   "outputs": [],
   "source": [
    "plt.figure(figsize=(8, 5))\n",
    "ax = sns.lineplot(y=results2['h3_7_8']['median_time_per_patient'].values(), x=results2['h3_7_8']['feasible'], marker='o', markersize=7.5, color='red')\n",
    "plt.title('Median time per patient vs $h_3^{78}$', size=15)\n",
    "ax.set_ylabel('Median time per patient', size=12)\n",
    "ax.set_xlabel('$h_3^{78}$', size=12)\n",
    "plt.xticks(results2['h3_7_8']['feasible'], fontsize=12)\n",
    "plt.yticks(fontsize=11)\n",
    "plt.show()"
   ]
  },
  {
   "cell_type": "markdown",
   "metadata": {},
   "source": [
    "**Interpretation of the results:**\n",
    "\n",
    "When $h_3^{78} \\in \\lbrace 0.3, 0.4, 0.5\\rbrace$, the median seems to be just $h_3^{78}$. \n",
    "But, when $h_3^{78}< 0.3$, the median is just $0.3$. And, it seems that when $h_3^{78}\\geq 0.55$, the median is $0.55$."
   ]
  },
  {
   "cell_type": "markdown",
   "metadata": {},
   "source": [
    "- **$75$-quantile time spent per patient vs $h_3^{78}$**"
   ]
  },
  {
   "cell_type": "code",
   "execution_count": null,
   "metadata": {},
   "outputs": [],
   "source": [
    "plt.figure(figsize=(8, 5))\n",
    "ax = sns.lineplot(y=results2['h3_7_8']['Q75_time_per_patient'].values(), x=results2['h3_7_8']['feasible'], marker='o', markersize=7.5, color='red')\n",
    "plt.title('Q75 time per patient vs $h_3^{78}$', size=15)\n",
    "ax.set_ylabel('Q75 time per patient', size=12)\n",
    "ax.set_xlabel('$h_3^{78}$', size=12)\n",
    "plt.xticks(results2['h3_7_8']['feasible'], fontsize=12)\n",
    "plt.yticks(fontsize=11)\n",
    "plt.show()"
   ]
  },
  {
   "cell_type": "markdown",
   "metadata": {},
   "source": [
    "**Interpretation of the results:**\n",
    "\n",
    "it seems that, when $h_3^{78} \\geq 0.6\\rbrace$, the median seems to be just $h_3^{78}$. \n",
    "But, it seems that, when $h_3^{78}< 0.55$, the median is just $0.55$. \n",
    "\n",
    "It's important to notice that $h_3^{56} = 0.55$. "
   ]
  },
  {
   "cell_type": "markdown",
   "metadata": {},
   "source": [
    "- **$25$-quantile time spent per patient vs $h_3^{78}$**"
   ]
  },
  {
   "cell_type": "code",
   "execution_count": null,
   "metadata": {},
   "outputs": [],
   "source": [
    "plt.figure(figsize=(8, 5))\n",
    "ax = sns.lineplot(y=results2['h3_7_8']['Q25_time_per_patient'].values(), x=results2['h3_7_8']['feasible'], marker='o', markersize=7.5, color='red')\n",
    "plt.title('Q25 time per patient vs $h_3^{78}$', size=15)\n",
    "ax.set_ylabel('Q25 time per patient', size=12)\n",
    "ax.set_xlabel('$h_3^{78}$', size=12)\n",
    "plt.xticks(results2['h3_7_8']['feasible'], fontsize=12)\n",
    "plt.yticks(fontsize=11)\n",
    "plt.show()"
   ]
  },
  {
   "cell_type": "markdown",
   "metadata": {},
   "source": [
    "**Interpretation of the results:**\n",
    "\n",
    "When $h_3^{78} \\in \\lbrace 0.1, 0.2, 0.3\\rbrace$, the $25$-quantile seems to be just $h_3^{78}$, but when $h_3^{78} > 0.3$ the $25$-quantile is $0.3$, and when $h_3^{56}< 0.1$, it is $0.1$. \n",
    "\n",
    "It's important to notice that $h_3^{12}=0.1$ and $h_3^{23} = 0.3$."
   ]
  },
  {
   "cell_type": "markdown",
   "metadata": {},
   "source": [
    "- **Average time spent per patient vs $w$ vs $h_3^{78}$**"
   ]
  },
  {
   "cell_type": "code",
   "execution_count": null,
   "metadata": {},
   "outputs": [],
   "source": [
    "plt.figure(figsize=(9, 6))\n",
    "for i, h3_7_8 in zip(results2['h3_7_8']['avg_time_patient_per_w'].keys(), results2['h3_7_8']['feasible']) :\n",
    "    ax = sns.lineplot(y=results2['h3_7_8']['avg_time_patient_per_w'][i].values(), x=results2['h3_7_8']['avg_time_patient_per_w'][i].keys(), \n",
    "                      label=round(h3_7_8, 2), marker='o', markersize=6)\n",
    "plt.title('Avg. time per patient vs $w$ vs $h_3^{78}$', size=15)\n",
    "ax.set_ylabel('Avg. time per patient', size=12)\n",
    "ax.set_xlabel('$w$', size=12)\n",
    "plt.xticks(list(results2['h3_7_8']['avg_time_patient_per_w'][i].keys()), fontsize=12)\n",
    "plt.yticks(np.arange(0,4, 0.25), fontsize=11)\n",
    "plt.legend(title='$h_3^{78}$', loc='upper right', bbox_to_anchor=(1.2, 1), fontsize=11)\n",
    "plt.show()"
   ]
  },
  {
   "cell_type": "markdown",
   "metadata": {},
   "source": [
    "**Interpretation of the results:**\n",
    "\n",
    "Analogous interpretation to the one made for $h_3^{12}$ parameter, but adapting the conclusions to $h_3^{78}$, of course."
   ]
  },
  {
   "cell_type": "markdown",
   "metadata": {},
   "source": [
    "**Analysis of $h_3^{910}$ parameter**\n"
   ]
  },
  {
   "cell_type": "markdown",
   "metadata": {},
   "source": [
    "$h_3^{910} :=$  minimum time time spent in patients with $w_j \\in \\lbrace 9, 10 \\rbrace$"
   ]
  },
  {
   "cell_type": "code",
   "execution_count": null,
   "metadata": {},
   "outputs": [],
   "source": [
    "params['n'] = 50 ; params['p']=500 ; params['h1']=6 ; params['h2']=1 ; params['h4']=4\n",
    "params['h3_1_2'] = 0.10 \n",
    "params['h3_3_4'] = 0.30\n",
    "params['h3_5_6'] = 0.55  \n",
    "params['h3_7_8'] = 0.80 \n",
    "params['h3_9_10'] = None \n",
    "\n",
    "np.random.seed(123)\n",
    "params['w'] = np.random.randint(1, 11, params['p']) \n",
    "\n",
    "parameter_list = np.arange(0, 1.6, 0.1)"
   ]
  },
  {
   "cell_type": "code",
   "execution_count": null,
   "metadata": {},
   "outputs": [],
   "source": [
    "results1 = get_results1('h3_9_10', parameter_list, params, model='linear')"
   ]
  },
  {
   "cell_type": "code",
   "execution_count": null,
   "metadata": {},
   "outputs": [],
   "source": [
    "results2 = get_results2('h3_9_10', parameter_list, results1)"
   ]
  },
  {
   "cell_type": "markdown",
   "metadata": {},
   "source": [
    "- **Problem type (feasible - not feasible) vs $h_3^{910}$**"
   ]
  },
  {
   "cell_type": "code",
   "execution_count": null,
   "metadata": {},
   "outputs": [],
   "source": [
    "plt.figure(figsize=(8, 5))\n",
    "ax = sns.scatterplot(y=results2['h3_9_10']['type'], x=parameter_list, color='red', s=200)\n",
    "plt.title('type vs $h_3^{910}$', size=15)\n",
    "ax.set_ylabel('type', size=12)\n",
    "ax.set_xlabel('$h_3^{910}$', size=12)\n",
    "plt.xticks(parameter_list, fontsize=12)\n",
    "plt.yticks(fontsize=11)\n",
    "plt.show()"
   ]
  },
  {
   "cell_type": "markdown",
   "metadata": {},
   "source": [
    "**Interpretation of the results:**\n",
    "\n",
    "Analogous interpretation as the one made for $h_3^{12}$ parameter."
   ]
  },
  {
   "cell_type": "markdown",
   "metadata": {},
   "source": [
    "- **Number of patients seen vs $h_3^{910}$**"
   ]
  },
  {
   "cell_type": "code",
   "execution_count": null,
   "metadata": {},
   "outputs": [],
   "source": [
    "plt.figure(figsize=(8, 5))\n",
    "ax = sns.lineplot(y=results2['h3_9_10']['num_patients_seen'].values(), x=results2['h3_9_10']['feasible'], \n",
    "                  marker='o', markersize=7.5, color='red')\n",
    "plt.title('number of patients seen vs h3_9_10', size=15)\n",
    "ax.set_ylabel('number of patients seen', size=12)\n",
    "ax.set_xlabel('h3_9_10', size=12)\n",
    "plt.xticks(results2['h3_9_10']['feasible'], fontsize=12)\n",
    "plt.show()"
   ]
  },
  {
   "cell_type": "markdown",
   "metadata": {},
   "source": [
    "**Interpretation of the results:**\n",
    "\n",
    "Analogous interpretation as the one made for $h_3^{12}$ parameter."
   ]
  },
  {
   "cell_type": "markdown",
   "metadata": {},
   "source": [
    "- **Optimal value of the objective function vs $h_3^{910}$**"
   ]
  },
  {
   "cell_type": "code",
   "execution_count": null,
   "metadata": {},
   "outputs": [],
   "source": [
    "plt.figure(figsize=(8, 5))\n",
    "ax = sns.lineplot(y=results2['h3_9_10']['f_optimal_feasible'].values(), x=results2['h3_9_10']['feasible'], marker='o', markersize=7.5, color='red')\n",
    "plt.title('$f$ optimal vs $h_3^{910}$', size=15)\n",
    "ax.set_ylabel('$f$ optimal', size=12)\n",
    "ax.set_xlabel('$h_3^{910}$', size=12)\n",
    "plt.xticks(results2['h3_9_10']['feasible'], fontsize=12)\n",
    "# plt.yticks(np.arange(2100, 2550, 50), fontsize=11)\n",
    "plt.show()"
   ]
  },
  {
   "cell_type": "markdown",
   "metadata": {},
   "source": [
    "**Interpretation of the results:**\n",
    "\n",
    "Analogous interpretation to the one made for $h_3^{12}$ parameter."
   ]
  },
  {
   "cell_type": "markdown",
   "metadata": {},
   "source": [
    "- **Average time spent per patient vs $h_3^{910}$**"
   ]
  },
  {
   "cell_type": "code",
   "execution_count": null,
   "metadata": {},
   "outputs": [],
   "source": [
    "plt.figure(figsize=(8, 5))\n",
    "ax = sns.lineplot(y=results2['h3_9_10']['avg_time_per_patient'].values(), x=results2['h3_9_10']['feasible'], marker='o', markersize=7.5, color='red')\n",
    "plt.title('Avg. time per patient vs $h_3^{910}$', size=15)\n",
    "ax.set_ylabel('Avg. time per patient', size=12)\n",
    "ax.set_xlabel('$h_3^{910}$', size=12)\n",
    "plt.xticks(results2['h3_9_10']['feasible'], fontsize=12)\n",
    "plt.yticks(fontsize=11)\n",
    "plt.show()"
   ]
  },
  {
   "cell_type": "markdown",
   "metadata": {},
   "source": [
    "**Interpretation of the results:**\n",
    "\n",
    "Analogous interpretation to the one made for $h_3^{12}$ parameter."
   ]
  },
  {
   "cell_type": "markdown",
   "metadata": {},
   "source": [
    "- **Median time spent per patient vs $h_3^{910}$**"
   ]
  },
  {
   "cell_type": "code",
   "execution_count": null,
   "metadata": {},
   "outputs": [],
   "source": [
    "plt.figure(figsize=(8, 5))\n",
    "ax = sns.lineplot(y=results2['h3_9_10']['median_time_per_patient'].values(), x=results2['h3_9_10']['feasible'], marker='o', markersize=7.5, color='red')\n",
    "plt.title('Median time per patient vs $h_3^{910}$', size=15)\n",
    "ax.set_ylabel('Median time per patient', size=12)\n",
    "ax.set_xlabel('$h_3^{910}$', size=12)\n",
    "plt.xticks(results2['h3_9_10']['feasible'], fontsize=12)\n",
    "plt.yticks(fontsize=11)\n",
    "plt.show()"
   ]
  },
  {
   "cell_type": "markdown",
   "metadata": {},
   "source": [
    "**Interpretation of the results:**\n",
    "\n",
    "Analogous interpretation to the one made for $h_3^{78}$ parameter."
   ]
  },
  {
   "cell_type": "markdown",
   "metadata": {},
   "source": [
    "- **$75$-quantile time spent per patient vs $h_3^{910}$**"
   ]
  },
  {
   "cell_type": "code",
   "execution_count": null,
   "metadata": {},
   "outputs": [],
   "source": [
    "plt.figure(figsize=(8, 5))\n",
    "ax = sns.lineplot(y=results2['h3_9_10']['Q75_time_per_patient'].values(), x=results2['h3_9_10']['feasible'], marker='o', markersize=7.5, color='red')\n",
    "plt.title('Q75 time per patient vs $h_3^{910}$', size=15)\n",
    "ax.set_ylabel('Q75 time per patient', size=12)\n",
    "ax.set_xlabel('$h_3^{910}$', size=12)\n",
    "plt.xticks(results2['h3_9_10']['feasible'], fontsize=12)\n",
    "plt.yticks(fontsize=11)\n",
    "plt.show()"
   ]
  },
  {
   "cell_type": "markdown",
   "metadata": {},
   "source": [
    "**Interpretation of the results:**\n",
    "\n",
    "Analogous interpretation as the one made for $h_3^{12}$ parameter."
   ]
  },
  {
   "cell_type": "markdown",
   "metadata": {},
   "source": [
    "- **$25$-quantile time spent per patient vs $h_3^{910}$**"
   ]
  },
  {
   "cell_type": "code",
   "execution_count": null,
   "metadata": {},
   "outputs": [],
   "source": [
    "plt.figure(figsize=(8, 5))\n",
    "ax = sns.lineplot(y=results2['h3_9_10']['Q25_time_per_patient'].values(), x=results2['h3_9_10']['feasible'], marker='o', markersize=7.5, color='red')\n",
    "plt.title('Q25 time per patient vs $h_3^{910}$', size=15)\n",
    "ax.set_ylabel('Q25 time per patient', size=12)\n",
    "ax.set_xlabel('$h_3^{910}$', size=12)\n",
    "plt.xticks(results2['h3_9_10']['feasible'], fontsize=12)\n",
    "plt.yticks(fontsize=11)\n",
    "plt.show()"
   ]
  },
  {
   "cell_type": "markdown",
   "metadata": {},
   "source": [
    "**Interpretation of the results:**\n",
    "\n",
    "Analogous interpretation to the one made for $h_3^{78}$ parameter."
   ]
  },
  {
   "cell_type": "markdown",
   "metadata": {},
   "source": [
    "- **Average time spent per patient vs $w$ vs $h_3^{910}$**"
   ]
  },
  {
   "cell_type": "code",
   "execution_count": null,
   "metadata": {},
   "outputs": [],
   "source": [
    "plt.figure(figsize=(9, 6))\n",
    "for i, h3_9_10 in zip(results2['h3_9_10']['avg_time_patient_per_w'].keys(), results2['h3_9_10']['feasible']) :\n",
    "    ax = sns.lineplot(y=results2['h3_9_10']['avg_time_patient_per_w'][i].values(), x=results2['h3_9_10']['avg_time_patient_per_w'][i].keys(), \n",
    "                      label=round(h3_9_10, 2), marker='o', markersize=6)\n",
    "plt.title('Avg. time per patient vs $w$ vs $h_3^{910}$', size=15)\n",
    "ax.set_ylabel('Avg. time per patient', size=12)\n",
    "ax.set_xlabel('$w$', size=12)\n",
    "plt.xticks(list(results2['h3_9_10']['avg_time_patient_per_w'][i].keys()), fontsize=12)\n",
    "plt.yticks(np.arange(0,3, 0.25), fontsize=11)\n",
    "plt.legend(title='$h_3^{910}$', loc='upper right', bbox_to_anchor=(1.2, 1), fontsize=11)\n",
    "plt.show()"
   ]
  },
  {
   "cell_type": "markdown",
   "metadata": {},
   "source": [
    "#### **Analysis of multiple parameters** (g)"
   ]
  },
  {
   "cell_type": "markdown",
   "metadata": {},
   "source": [
    "In this section we make a sensitivity analysis of some of the parameters of the problem, following an multiple  approach, in the sense that we analyzed several parameters at once.\n",
    "\n",
    "This analysis is essentially carried out using the function `get_results1_multi` and `get_results2_multi`."
   ]
  },
  {
   "cell_type": "code",
   "execution_count": null,
   "metadata": {},
   "outputs": [],
   "source": [
    "params = dict()\n",
    "\n",
    "def time_seeing_patient(j, t_optimal, params):\n",
    "    return np.sum([t_optimal[i, j] for i in range(0,params['n'])])"
   ]
  },
  {
   "cell_type": "code",
   "execution_count": null,
   "metadata": {},
   "outputs": [],
   "source": [
    "def get_results1_multi(param_names, param_combi_list, params, model) :\n",
    "    \"\"\"\n",
    "    To get the first type multiple results for the hospital model.\n",
    "\n",
    "    Parameters (inputs)\n",
    "    ----------\n",
    "    param_names: a tuple of string with the names of the parameters to by analyzed.\n",
    "                 The possible names for the parameters are: \n",
    "                 'n', 'p', 'w', 'h1', 'h2', 'h4', 'h3_1_2', 'h3_3_4', 'h3_5_6', 'h3_7_8', 'h3_9_10'\n",
    "    param_combi_list: a list with the combinations of values of the parameters param_names to analyze.\n",
    "    params: a dictionary with the values of the rest of model parameters, \n",
    "            setting the parameters contained in param_names as None.\n",
    "\n",
    "    Returns (outputs)\n",
    "    -------\n",
    "    results1_multi_LM: a dictionary with the first type multiple results obtained.\n",
    "    \"\"\"\n",
    "\n",
    "    results1_multi = dict()\n",
    "    results1_multi[param_names] = dict()\n",
    "\n",
    "    for values in param_combi_list :\n",
    "\n",
    "        for i in range(0, len(values)) :  \n",
    "                 \n",
    "            params[param_names[i]] = values[i]\n",
    "\n",
    "        if model == 'linear' :\n",
    "\n",
    "\n",
    "            start_time = time.time()\n",
    "            model_, t_optimal, f_optimal = hospital_linear_model(n=params['n'], p=params['p'], w=params['w'], h1=params['h1'], \n",
    "                                                     h2=params['h2'], h3_1_2=params['h3_1_2'], h3_3_4=params['h3_3_4'], \n",
    "                                                     h3_5_6=params['h3_5_6'], h3_7_8=params['h3_7_8'], h3_9_10=params['h3_9_10'], \n",
    "                                                     h4=params['h4'])\n",
    "            end_time = time.time()\n",
    "            elapsed_time = end_time - start_time\n",
    "\n",
    "\n",
    "        elif model == 'integer' :\n",
    "\n",
    "            start_time = time.time()\n",
    "            model_, t_optimal, y_optimal, f_optimal = hospital_integer_model(n=params['n'], p=params['p'], w=params['w'], h1=params['h1'], \n",
    "                                                     h2=params['h2'], h3_1_2=params['h3_1_2'], h3_3_4=params['h3_3_4'], \n",
    "                                                     h3_5_6=params['h3_5_6'], h3_7_8=params['h3_7_8'], h3_9_10=params['h3_9_10'], \n",
    "                                                     h4=params['h4'])\n",
    "            end_time = time.time()\n",
    "            elapsed_time = end_time - start_time\n",
    "\n",
    "\n",
    "        values = tuple([x for x in values if not isinstance(x, (np.ndarray, list))])\n",
    "\n",
    "        if f_optimal == None :\n",
    "\n",
    "            results1_multi[param_names][values] = {'type': 'not_feasible', 'model_time': elapsed_time}\n",
    "\n",
    "        else :\n",
    "\n",
    "            total_times_per_patient = np.array([time_seeing_patient(j,  t_optimal, params) for j in range(0, params['p'])])\n",
    "\n",
    "            results1_multi[param_names][values] = {'type': 'feasible', 't_optimal': t_optimal, 'f_optimal': f_optimal,  \n",
    "                                                   'total_times_per_patient': total_times_per_patient, 'model': model_, \n",
    "                                                   'model_time': elapsed_time}\n",
    "            \n",
    "    return results1_multi"
   ]
  },
  {
   "cell_type": "code",
   "execution_count": null,
   "metadata": {},
   "outputs": [],
   "source": [
    "def get_results2_multi(param_names, results1_multi, n_p_analysis=False, w_dict=None) :\n",
    "    \"\"\"\n",
    "    To get the second type multiple results for the hospital model.\n",
    "\n",
    "    Parameters (inputs)\n",
    "    ----------\n",
    "    param_names: a tuple of string with the names of the parameters to by analyzed.\n",
    "                 The possible names for the parameters are: \n",
    "                 'n', 'p', 'w', 'h1', 'h2', 'h4', 'h3_1_2', 'h3_3_4', 'h3_5_6', 'h3_7_8', 'h3_9_10'\n",
    "    param_combi_list: a list with the combinations of values of the parameters param_names to analyze.\n",
    "\n",
    "    Returns (outputs)\n",
    "    -------\n",
    "    results1_multi_LM: a dictionary with the second type multiple results obtained.\n",
    "    \"\"\"\n",
    "    \n",
    "    results2_multi = dict()\n",
    "    results2_multi[param_names] = dict()\n",
    "    results2_multi[param_names]['feasible'] = [i for i in results1_multi[param_names].keys() if results1_multi[param_names][i]['type'] == 'feasible']\n",
    "    results2_multi[param_names]['not_feasible'] = [i for i in results1_multi[param_names].keys() if results1_multi[param_names][i]['type'] == 'not_feasible']\n",
    "    results2_multi[param_names]['f_optimal_feasible'] = {i: results1_multi[param_names][i]['f_optimal'] for i in results2_multi[param_names]['feasible']}\n",
    "    results2_multi[param_names]['type'] = [results1_multi[param_names][i]['type'] for i in results1_multi[param_names].keys()]\n",
    "    results2_multi[param_names]['avg_time_per_patient'] = {i: np.mean(results1_multi[param_names][i]['total_times_per_patient']) for i in results2_multi[param_names]['feasible']}\n",
    "    results2_multi[param_names]['median_time_per_patient'] = {i: np.median(results1_multi[param_names][i]['total_times_per_patient']) for i in results2_multi[param_names]['feasible']}\n",
    "    results2_multi[param_names]['median_time_per_patient'] = {i: np.median(results1_multi[param_names][i]['total_times_per_patient']) for i in results2_multi[param_names]['feasible']}\n",
    "    results2_multi[param_names]['Q75_time_per_patient'] = {i: np.quantile(results1_multi[param_names][i]['total_times_per_patient'], 0.75) for i in results2_multi[param_names]['feasible']}\n",
    "    results2_multi[param_names]['Q25_time_per_patient'] = {i: np.quantile(results1_multi[param_names][i]['total_times_per_patient'], 0.25) for i in results2_multi[param_names]['feasible']}\n",
    "    results2_multi[param_names]['num_patients_seen'] = {i: np.sum(results1_multi[param_names][i]['total_times_per_patient'] > 0) for i in results2_multi[param_names]['feasible']}\n",
    "\n",
    "    if n_p_analysis == False :\n",
    "\n",
    "        results2_multi[param_names]['w_time_patient_df'] = {i: pl.DataFrame({'w': params['w'], 'time_patient': results1_multi[param_names][i]['total_times_per_patient']}) for i in results2_multi[param_names]['feasible']}\n",
    "        results2_multi[param_names]['avg_time_patient_per_w'] = {i: {w_value: round(results2_multi[param_names]['w_time_patient_df'][i].filter(pl.col('w') == w_value)['time_patient'].mean(), 3) \n",
    "                                                                     for w_value in np.unique(params['w'])} for i in results2_multi[param_names]['feasible']}\n",
    "    else :\n",
    "\n",
    "        results2_multi[param_names]['w_time_patient_df'] = {i: pl.DataFrame({'w': w_dict[i[1]], 'time_patient': results1_multi[param_names][i]['total_times_per_patient']}) for i in results2_multi[param_names]['feasible']}\n",
    "        results2_multi[param_names]['avg_time_patient_per_w'] = {i: {w_value: round(results2_multi[param_names]['w_time_patient_df'][i].filter(pl.col('w') == w_value)['time_patient'].mean(), 3) \n",
    "                                                                     for w_value in np.unique( w_dict[i[1]])} for i in results2_multi[param_names]['feasible']}       \n",
    "\n",
    "    return results2_multi"
   ]
  },
  {
   "cell_type": "markdown",
   "metadata": {},
   "source": [
    "##### **Analysis of $(h_3^{12}, h_3^{34}, h_3^{56}, h_3^{78}, h_3^{910})$ combination of parameters**\n",
    "\n",
    "- $h_3 :=$  minimum time time spent in each patient, taking into account their severity/importance (this quantity depends on $w_j$).\n"
   ]
  },
  {
   "cell_type": "code",
   "execution_count": null,
   "metadata": {},
   "outputs": [],
   "source": [
    "# Defining the values of the rest of parameters and setting h3_1_2, h3_3_4, h3_5_6, h3_7_8, h3_9_10 as None.\n",
    "\n",
    "params['n'] = 50 ; params['p']=500 ; params['h1']=6 ; params['h2']=1 ; params['h4']=4\n",
    "params['h3_1_2'] = None \n",
    "params['h3_3_4'] = None\n",
    "params['h3_5_6'] = None  \n",
    "params['h3_7_8'] = None \n",
    "params['h3_9_10'] = None \n",
    "\n",
    "np.random.seed(123)\n",
    "params['w'] = np.random.randint(1, 11, params['p']) \n",
    "\n",
    "# Defining the parameter combination values as a list.\n",
    "param_combi_list = product([0, 0.1, 0.4], [0, 0.2, 0.5], [0, 0.4, 0.8], [0, 0.6, 1], [0, 0.7, 1.2])\n",
    "param_combi_list = list(param_combi_list)\n",
    "\n",
    "# Defining the parameter names as a tuple.\n",
    "param_names = ('h3_1_2', 'h3_3_4', 'h3_5_6', 'h3_7_8', 'h3_9_10')"
   ]
  },
  {
   "cell_type": "markdown",
   "metadata": {},
   "source": [
    "The number of combination to analyze is $243$, which is pretty much. Due to the computational time needed to perform the analysis with these all combinations we have run the program one time and stored the result in pickle format. So, it is no longer necessary to run the code that is commented below, the only thing that we have to do is to open the stored results."
   ]
  },
  {
   "cell_type": "code",
   "execution_count": null,
   "metadata": {},
   "outputs": [],
   "source": [
    "len(param_combi_list)"
   ]
  },
  {
   "cell_type": "markdown",
   "metadata": {},
   "source": [
    "The next piece of code could be used in thi case we would like to work with a smaller number of combinations selected in a random way.\n"
   ]
  },
  {
   "cell_type": "code",
   "execution_count": null,
   "metadata": {},
   "outputs": [],
   "source": [
    "# param_combi_list = random.sample(param_combi_list, 20)"
   ]
  },
  {
   "cell_type": "markdown",
   "metadata": {},
   "source": [
    "Here the commented code that is no longer necessary to run, which is expensive in terms of time."
   ]
  },
  {
   "cell_type": "code",
   "execution_count": null,
   "metadata": {},
   "outputs": [],
   "source": [
    "# results1_multi = get_results1_multi(('h3_1_2', 'h3_3_4', 'h3_5_6', 'h3_7_8', 'h3_9_10'), param_combi_list, params, model='linear')\n",
    "# results2_multi = get_results2_multi(('h3_1_2', 'h3_3_4', 'h3_5_6', 'h3_7_8', 'h3_9_10'), results1_multi)"
   ]
  },
  {
   "cell_type": "markdown",
   "metadata": {},
   "source": [
    "The following commented code is the one we used to save the result as pickle."
   ]
  },
  {
   "cell_type": "code",
   "execution_count": null,
   "metadata": {},
   "outputs": [],
   "source": [
    "# save a dictionary as a pickle\n",
    "#with open('results1_multi_LM.pickle', 'wb') as file:\n",
    "    # Use pickle's dump function to write the dict to the opened file.\n",
    "    #pickle.dump(results1_multi, file)\n",
    "\n",
    "#with open('results2_multi_LM.pickle', 'wb') as file:\n",
    "    # Use pickle's dump function to write the dict to the opened file.\n",
    "    #pickle.dump(results2_multi, file)"
   ]
  },
  {
   "cell_type": "markdown",
   "metadata": {},
   "source": [
    "Now, we open the stored results running the following code."
   ]
  },
  {
   "cell_type": "code",
   "execution_count": null,
   "metadata": {},
   "outputs": [],
   "source": [
    "# Open a dictionary saved as a pickle\n",
    "with open(r\"C:\\Users\\fscielzo\\Documents\\Large-Data\\Optimization\\results1_multi_LM.pickle\", 'rb') as file:\n",
    "    # Read back the pickled file\n",
    "    results1_multi = pickle.load(file)\n",
    "\n",
    "# Open a dictionary saved as a pickle\n",
    "with open(r\"C:\\Users\\fscielzo\\Documents\\Large-Data\\Optimization\\results2_multi_LM.pickle\", 'rb') as file:\n",
    "    # Read back the pickled file\n",
    "    results2_multi = pickle.load(file)\n",
    "# Time: 2 mins"
   ]
  },
  {
   "cell_type": "markdown",
   "metadata": {},
   "source": [
    "- **Problem type (feasible - not feasible) vs $(h_3^{12}, h_3^{34}, h_3^{56}, h_3^{78}, h_3^{910})$**"
   ]
  },
  {
   "cell_type": "code",
   "execution_count": null,
   "metadata": {},
   "outputs": [],
   "source": [
    "def type_multi_plot(results2_multi, n_cols=2, figsize=(20, 20), interval_width=30) :\n",
    "\n",
    "    param_combi_str = [str(x) for x in param_combi_list]\n",
    "\n",
    "    limits = np.arange(0, len(results2_multi[param_names]['type']), interval_width)\n",
    "    limits[len(limits)-1] = len(results2_multi[param_names]['type'])\n",
    "    n_intervals = len(limits) - 1\n",
    "\n",
    "    # Define the number of rows and columns for the matrix plot\n",
    "    n_rows = int(np.ceil(n_intervals / n_cols))    \n",
    "\n",
    "    # Create a subplot with the specified number of rows and columns\n",
    "    fig, axes = plt.subplots(n_rows, n_cols, figsize=figsize)\n",
    "\n",
    "    # Flatten the axes array to make it easier to iterate\n",
    "    axes = axes.flatten()  \n",
    "\n",
    "    # Defining a ecdf-plot for each variable considered.\n",
    "    for i in  range(0, n_intervals) :\n",
    "      \n",
    "        ax = axes[i]  # Get the current axis\n",
    "        sns.scatterplot(y=results2_multi[param_names]['type'][limits[i]:limits[i+1]], x=param_combi_str[limits[i]:limits[i+1]], color='red', s=100, ax=ax)\n",
    "        ax.set_title(f'Combination {limits[i]}:{limits[i+1]}', fontsize=13)\n",
    "        ax.tick_params(axis='x', rotation=90)\n",
    "        ax.set_xlabel('$(h_3^{12}, h_3^{34}, h_3^{56}, h_3^{78}, h_3^{910})$', fontsize=12)\n",
    "        ax.set_ylabel('type', fontsize=12)\n",
    "\n",
    "    # Remove any unused subplots in case the number of 'geo' values is less than num_rows * num_cols\n",
    "    for j in range(n_intervals, n_rows*n_cols):\n",
    "        fig.delaxes(axes[j])\n",
    "\n",
    "    # Establishing a general tittle for the plot.\n",
    "    plt.suptitle('type vs $(h_3^{12}, h_3^{34}, h_3^{56}, h_3^{78}, h_3^{910})$', fontsize=13, y=0.92)\n",
    "    \n",
    "    plt.subplots_adjust(hspace=1, wspace=0.2) "
   ]
  },
  {
   "cell_type": "code",
   "execution_count": null,
   "metadata": {},
   "outputs": [],
   "source": [
    "type_multi_plot(results2_multi=results2_multi, n_cols=2, figsize=(20, 20), interval_width=30)"
   ]
  },
  {
   "cell_type": "markdown",
   "metadata": {},
   "source": [
    "**Interpretation of the results:**\n",
    "\n",
    "In this analysis, since we have many results to interpret, we will only  focused  in the most interesting ones, from our point of view.\n",
    "\n",
    "Only a few combinations lead to a non feasible problem. These ones are the following: \n",
    "\n",
    "\n",
    "- $(h_3^{12}, h_3^{34}, h_3^{56}, h_3^{78}, h_3^{910}) = (0, 0.2, 0.8, 1, 1.2)$\n",
    "\n",
    "- $(h_3^{12}, h_3^{34}, h_3^{56}, h_3^{78}, h_3^{910}) = (0, 0.5, 0.4, 1, 1.2)$\n",
    "\n",
    "- $(h_3^{12}, h_3^{34}, h_3^{56}, h_3^{78}, h_3^{910}) = (0, 0.5, 0.8, 1, 1.2)$\n",
    "\n",
    "\n",
    "- $(h_3^{12}, h_3^{34}, h_3^{56}, h_3^{78}, h_3^{910}) = (0.1, 0, 0.8, 1, 1.2)$\n",
    "\n",
    "- $(h_3^{12}, h_3^{34}, h_3^{56}, h_3^{78}, h_3^{910}) = (0.1, 0.2, 0.8, 1, 1.2 )$\n",
    "\n",
    "- $(h_3^{12}, h_3^{34}, h_3^{56}, h_3^{78}, h_3^{910}) = (0.1, 0.5, 0.4, 1, 1.2 )$\n",
    "\n",
    "- $(h_3^{12}, h_3^{34}, h_3^{56}, h_3^{78}, h_3^{910}) = (0.1, 0.5, 0.8, 0.6, 1.2)$\n",
    "\n",
    "- $(h_3^{12}, h_3^{34}, h_3^{56}, h_3^{78}, h_3^{910}) = (0.1, 0.5, 0.8, 1, 0.7)$\n",
    "\n",
    "- $(h_3^{12}, h_3^{34}, h_3^{56}, h_3^{78}, h_3^{910}) = (0.1, 0.5, 0.8, 1, 1.2)$\n",
    "\n",
    "- $(h_3^{12}, h_3^{34}, h_3^{56}, h_3^{78}, h_3^{910}) = (0.4, 0, 0.8, 1, 1.2)$\n",
    "\n",
    "- $(h_3^{12}, h_3^{34}, h_3^{56}, h_3^{78}, h_3^{910}) = (0.4, 0.2, 0.4, 1, 1.2 )$\n",
    "\n",
    "- $(h_3^{12}, h_3^{34}, h_3^{56}, h_3^{78}, h_3^{910}) = (0.4, 0.2, 0.8, 0.6, 1.2 )$\n",
    "\n",
    "- $(h_3^{12}, h_3^{34}, h_3^{56}, h_3^{78}, h_3^{910}) = (0.4, 0.2, 0.8, 1, 0.7 )$\n",
    "\n",
    "\n",
    "- $(h_3^{12}, h_3^{34}, h_3^{56}, h_3^{78}, h_3^{910}) = (0.4, 0.2, 0.8, 1, 1.2 )$\n",
    "\n",
    "- $(h_3^{12}, h_3^{34}, h_3^{56}, h_3^{78}, h_3^{910}) = (0.4, 0.5, 0, 1, 1.2 )$\n",
    "\n",
    "- $(h_3^{12}, h_3^{34}, h_3^{56}, h_3^{78}, h_3^{910}) = (0.4, 0.5, 0.4, 0.6, 1.2 )$\n",
    "\n",
    "- $(h_3^{12}, h_3^{34}, h_3^{56}, h_3^{78}, h_3^{910}) = ( 0.4, 0.5, 0.4, 1, 0.7)$\n",
    "\n",
    "- $(h_3^{12}, h_3^{34}, h_3^{56}, h_3^{78}, h_3^{910}) = (0.4, 0.5, 0.4, 1, 1.2 )$\n",
    "\n",
    "- $(h_3^{12}, h_3^{34}, h_3^{56}, h_3^{78}, h_3^{910}) = (0.4, 0.5, 0.8, 1, 0)$\n",
    "\n",
    "- $(h_3^{12}, h_3^{34}, h_3^{56}, h_3^{78}, h_3^{910}) = ( 0.4, 0.5, 0.8, 1, 0.7 )$\n",
    "\n",
    "- $(h_3^{12}, h_3^{34}, h_3^{56}, h_3^{78}, h_3^{910}) = (0.4, 0.5, 0.8, 1, 0.7 )$\n",
    "\n",
    "- $(h_3^{12}, h_3^{34}, h_3^{56}, h_3^{78}, h_3^{910}) = ( 0.4, 0.5, 0.8, 1, 1.2 )$\n",
    "\n",
    "The common factor of the combination is that impose too much minimum work on the nurse-doctor tandems to satisfy the good work constraints, so that, the problem becomes non feasible.\n",
    "\n",
    "On the other hand, when the amount of minimum work impose on the nurse-doctor tandem is not too much, and, therefore, the good working conditions ensure by the rest of constraints are fulfilled, the problem becomes feasible. \n",
    "\n",
    "Another thing to highlight that the null combination, that is  $(h_3^{12}, h_3^{34}, h_3^{56}, h_3^{78}, h_3^{910}) = (0,0,0,0,0)$, is feasible. \n",
    "This is an special combination because remove the minimum work constraints. "
   ]
  },
  {
   "cell_type": "markdown",
   "metadata": {},
   "source": [
    "- **Number of patients seen vs $(h_3^{12}, h_3^{34}, h_3^{56}, h_3^{78}, h_3^{910})$**"
   ]
  },
  {
   "cell_type": "code",
   "execution_count": null,
   "metadata": {},
   "outputs": [],
   "source": [
    "def num_patients_seen_multi_plot(results2_multi, n_cols=2, figsize=(20, 20), interval_width=30) :\n",
    "\n",
    "    param_combi_feasible_str = [str(x) for x in results2_multi[param_names]['feasible']]\n",
    "\n",
    "    limits = np.arange(0, len(results2_multi[param_names]['feasible']), interval_width)\n",
    "    limits[len(limits)-1] = len(results2_multi[param_names]['feasible'])\n",
    "    n_intervals = len(limits) - 1\n",
    "\n",
    "    # Define the number of rows and columns for the matrix plot\n",
    "    n_rows = int(np.ceil(n_intervals / n_cols))\n",
    " \n",
    "\n",
    "    # Create a subplot with the specified number of rows and columns\n",
    "    fig, axes = plt.subplots(n_rows, n_cols, figsize=figsize)\n",
    "\n",
    "    # Flatten the axes array to make it easier to iterate\n",
    "    axes = axes.flatten()  \n",
    "\n",
    "    # Defining a ecdf-plot for each variable considered.\n",
    "    for i in range(0, n_intervals) :\n",
    "\n",
    "        ax = axes[i]  # Get the current axis\n",
    "        sns.lineplot(y=list(results2_multi[param_names]['num_patients_seen'].values())[limits[i]:limits[i+1]], \n",
    "                     x=param_combi_feasible_str[limits[i]:limits[i+1]], \n",
    "                     marker='o', markersize=7.5, color='red', ax=ax)\n",
    "        ax.set_title(f'Combination {limits[i]}:{limits[i+1]}', fontsize=13)\n",
    "        ax.set_yticks(np.arange(50, 600, 50)) \n",
    "        ax.tick_params(axis='y', rotation=0)\n",
    "        ax.tick_params(axis='x', rotation=90)\n",
    "        ax.set_xlabel('$(h_3^{12}, h_3^{34}, h_3^{56}, h_3^{78}, h_3^{910})$', fontsize=12)\n",
    "        ax.set_ylabel('number of patients seen', fontsize=12)\n",
    "\n",
    "\n",
    "    # Remove any unused subplots in case the number of 'geo' values is less than num_rows * num_cols\n",
    "    for j in range(n_intervals, n_rows*n_cols):\n",
    "        fig.delaxes(axes[j])\n",
    "\n",
    "    # Establishing a general tittle for the plot.\n",
    "    plt.suptitle('number of patients seen vs $(h_3^{12}, h_3^{34}, h_3^{56}, h_3^{78}, h_3^{910})$', fontsize=13, y=0.92)\n",
    "    \n",
    "    plt.subplots_adjust(hspace=1, wspace=0.2) "
   ]
  },
  {
   "cell_type": "code",
   "execution_count": null,
   "metadata": {},
   "outputs": [],
   "source": [
    "num_patients_seen_multi_plot(results2_multi=results2_multi, n_cols=2, figsize=(20, 20), interval_width=30)"
   ]
  },
  {
   "cell_type": "markdown",
   "metadata": {},
   "source": [
    "**Interpretation of the results:**\n",
    "\n",
    "From the plot we can extract some conclusions that seems to be fulfilled in general.\n",
    "\n",
    "- Given two combinations of value parameters, the one with more zeros has a lower number of patients seen associated, in general.\n",
    "\n",
    "- The more zeros a combination has, the lower number of patient seen, in general. \n",
    "\n",
    "This two conclusion can lead us to the next one:\n",
    "\n",
    "- When the minimum work imposed on nurse-doctor tandems decreases, the number of patients seen decreases as well, and vice versa.\n"
   ]
  },
  {
   "cell_type": "markdown",
   "metadata": {},
   "source": [
    "\n",
    "Let's check this last conclusion in a more accurate way. \n",
    "\n",
    "We can define the minimum work imposed on the tandems as $\\sum_{i,j } h_3^{ij}$.\n",
    "\n",
    "We are going to plot the minimum work imposed on tandems vs the number of patient seen in a scatter plot, in order to see if there is some positive relationship between these variables."
   ]
  },
  {
   "cell_type": "code",
   "execution_count": null,
   "metadata": {},
   "outputs": [],
   "source": [
    "min_time_working_imposed = [np.round(np.sum(results2_multi[param_names]['feasible'][x]), 2) for x in range(0, len(results2_multi[param_names]['feasible']))]\n",
    "num_patients_seen = list(results2_multi[param_names]['num_patients_seen'].values())"
   ]
  },
  {
   "cell_type": "code",
   "execution_count": null,
   "metadata": {},
   "outputs": [],
   "source": [
    "plt.figure(figsize=(8, 5))\n",
    "ax = sns.scatterplot(x=min_time_working_imposed, y=num_patients_seen, color='red')\n",
    "plt.title('num. patients seen vs min time working imposed', size=15)\n",
    "ax.set_ylabel('num. patients seen', size=11)\n",
    "ax.set_xlabel('min time working imposed', size=11)\n",
    "plt.show()"
   ]
  },
  {
   "cell_type": "markdown",
   "metadata": {},
   "source": [
    "We can see that it seems to be a clear positive relationship between the minimum time of work imposed on the nurse-doctor tandems and the number of patient seen. As we conclude before, the more min time of work is imposed in nurse-doctor tandems, the higher number of patients are seen."
   ]
  },
  {
   "cell_type": "code",
   "execution_count": null,
   "metadata": {},
   "outputs": [],
   "source": [
    "pearsonr(min_time_working_imposed, num_patients_seen)"
   ]
  },
  {
   "cell_type": "markdown",
   "metadata": {},
   "source": [
    "- **Optimal value of the objective function vs $(h_3^{12}, h_3^{34}, h_3^{56}, h_3^{78}, h_3^{910})$**"
   ]
  },
  {
   "cell_type": "code",
   "execution_count": null,
   "metadata": {},
   "outputs": [],
   "source": [
    "def f_optimal_multi_plot(results2_multi, n_cols=2, figsize=(20, 20), interval_width=30) :\n",
    "\n",
    "    param_combi_feasible_str = [str(x) for x in results2_multi[param_names]['feasible']]\n",
    "\n",
    "    limits = np.arange(0, len(results2_multi[param_names]['feasible']), interval_width)\n",
    "    limits[len(limits)-1] = len(results2_multi[param_names]['feasible'])\n",
    "    n_intervals = len(limits) - 1\n",
    "\n",
    "    # Define the number of rows and columns for the matrix plot\n",
    "    n_rows = int(np.ceil(n_intervals / n_cols))\n",
    "\n",
    "    # Create a subplot with the specified number of rows and columns\n",
    "    fig, axes = plt.subplots(n_rows, n_cols, figsize=figsize)\n",
    "\n",
    "    # Flatten the axes array to make it easier to iterate\n",
    "    axes = axes.flatten()  \n",
    "\n",
    "    # Defining a ecdf-plot for each variable considered.\n",
    "    for i in range(0, n_intervals) :\n",
    "\n",
    "        ax = axes[i]  # Get the current axis\n",
    "        sns.lineplot(y=list(results2_multi[param_names]['f_optimal_feasible'].values())[limits[i]:limits[i+1]], \n",
    "                     x=param_combi_feasible_str[limits[i]:limits[i+1]], \n",
    "                     marker='o', markersize=7.5, color='red', ax=ax)\n",
    "        ax.set_title(f'Combination {limits[i]}:{limits[i+1]}', fontsize=13)\n",
    "        ax.set_yticks(np.arange(1650, 3300, 300))\n",
    "        ax.tick_params(axis='x', rotation=90)\n",
    "        ax.set_xlabel('$(h_3^{12}, h_3^{34}, h_3^{56}, h_3^{78}, h_3^{910})$', fontsize=12)\n",
    "        ax.set_ylabel('$f$ optimal', fontsize=12)\n",
    "\n",
    "    # Remove any unused subplots in case the number of 'geo' values is less than num_rows * num_cols\n",
    "    for j in range(n_intervals, n_rows*n_cols):\n",
    "        fig.delaxes(axes[j])\n",
    "\n",
    "    # Establishing a general tittle for the plot.\n",
    "    plt.suptitle('$f$ optimal vs $(h_3^{12}, h_3^{34}, h_3^{56}, h_3^{78}, h_3^{910})$', fontsize=13, y=0.92)\n",
    "    \n",
    "    plt.subplots_adjust(hspace=1, wspace=0.2) "
   ]
  },
  {
   "cell_type": "code",
   "execution_count": null,
   "metadata": {},
   "outputs": [],
   "source": [
    "f_optimal_multi_plot(results2_multi=results2_multi, n_cols=2, figsize=(20, 20), interval_width=30)"
   ]
  },
  {
   "cell_type": "markdown",
   "metadata": {},
   "source": [
    "**Interpretation of the results:**\n",
    "\n",
    "From the plot we can extract some conclusions that seems to be fulfilled in general.\n",
    "\n",
    "- The lower values a combination has, the higher optimal value of the objective function, and vice versa.\n",
    "\n",
    "This conclusion can lead us to the next one:\n",
    "\n",
    "- When the minimum work imposed on nurse-doctor tandems decreases, the the optimal value of the objective function increases, and vice versa.\n"
   ]
  },
  {
   "cell_type": "markdown",
   "metadata": {},
   "source": [
    "In order to check this last conclusion in a more accurate way, \n",
    "we are going to plot the minimum work imposed on tandems vs the optimal values of the objective functio in a scatter plot, to see if there is some negative relationship between these variables."
   ]
  },
  {
   "cell_type": "code",
   "execution_count": null,
   "metadata": {},
   "outputs": [],
   "source": [
    "f_optimal_values = list(results2_multi[param_names]['f_optimal_feasible'].values())"
   ]
  },
  {
   "cell_type": "code",
   "execution_count": null,
   "metadata": {},
   "outputs": [],
   "source": [
    "plt.figure(figsize=(8, 5))\n",
    "ax = sns.scatterplot(x=min_time_working_imposed, y=f_optimal_values, color='red')\n",
    "plt.title('$f$ optimal vs min time working imposed', size=15)\n",
    "ax.set_ylabel('$f$ optimal', size=11)\n",
    "ax.set_xlabel('min time working imposed', size=11)\n",
    "plt.show()"
   ]
  },
  {
   "cell_type": "markdown",
   "metadata": {},
   "source": [
    "A strong negative relationship can be derived from the plot between the minimum time of work imposed on the tandems and the optimal values of the objective function."
   ]
  },
  {
   "cell_type": "code",
   "execution_count": null,
   "metadata": {},
   "outputs": [],
   "source": [
    "pearsonr(min_time_working_imposed, f_optimal_values)"
   ]
  },
  {
   "cell_type": "markdown",
   "metadata": {},
   "source": [
    "- **Average time spent per patient vs $(h_3^{12}, h_3^{34}, h_3^{56}, h_3^{78}, h_3^{910})$**"
   ]
  },
  {
   "cell_type": "code",
   "execution_count": null,
   "metadata": {},
   "outputs": [],
   "source": [
    "def avg_time_multi_plot(results2_multi, n_cols=2, figsize = (20, 20), interval_width=30) :\n",
    "\n",
    "    param_combi_feasible_str = [str(x) for x in results2_multi[param_names]['feasible']]\n",
    "\n",
    "    limits = np.arange(0, len(results2_multi[param_names]['feasible']), interval_width)\n",
    "    limits[len(limits)-1] = len(results2_multi[param_names]['feasible'])\n",
    "    n_intervals = len(limits) - 1\n",
    "\n",
    "    # Define the number of rows and columns for the matrix plot\n",
    "    n_rows = int(np.ceil(n_intervals / n_cols))\n",
    "\n",
    "    # Create a subplot with the specified number of rows and columns\n",
    "    fig, axes = plt.subplots(n_rows, n_cols, figsize=figsize)\n",
    "\n",
    "    # Flatten the axes array to make it easier to iterate\n",
    "    axes = axes.flatten()  \n",
    "\n",
    "    # Defining a ecdf-plot for each variable considered.\n",
    "    for i in range(0, n_intervals) :\n",
    "\n",
    "        ax = axes[i]  # Get the current axis\n",
    "        y = np.round(list(results2_multi[param_names]['avg_time_per_patient'].values())[limits[i]:limits[i+1]], 3)\n",
    "        sns.lineplot(y=y, \n",
    "                     x=param_combi_feasible_str[limits[i]:limits[i+1]], \n",
    "                     marker='o', markersize=7.5, color='red', ax=ax)\n",
    "        ax.set_title(f'Combination {limits[i]}:{limits[i+1]}', fontsize=13)\n",
    "        ax.tick_params(axis='x', rotation=90)\n",
    "        ax.set_xlabel('$(h_3^{12}, h_3^{34}, h_3^{56}, h_3^{78}, h_3^{910})$', fontsize=12)\n",
    "        ax.set_ylabel('Avg. time per patient', fontsize=12)\n",
    "\n",
    "    # Remove any unused subplots in case the number of 'geo' values is less than num_rows * num_cols\n",
    "    for j in range(n_intervals, n_rows*n_cols):\n",
    "        fig.delaxes(axes[j])\n",
    "\n",
    "    # Establishing a general tittle for the plot.\n",
    "    plt.suptitle('Avg. time per patient vs $(h_3^{12}, h_3^{34}, h_3^{56}, h_3^{78}, h_3^{910})$', fontsize=13, y=0.92)\n",
    "    \n",
    "    plt.subplots_adjust(hspace=1, wspace=0.2) "
   ]
  },
  {
   "cell_type": "code",
   "execution_count": null,
   "metadata": {},
   "outputs": [],
   "source": [
    "avg_time_multi_plot(results2_multi=results2_multi, n_cols=2, figsize = (20, 20), interval_width=30)"
   ]
  },
  {
   "cell_type": "markdown",
   "metadata": {},
   "source": [
    "**Interpretation of the results:**\n",
    "\n",
    "From the plot we can extract some conclusions that seems to be fulfilled in general.\n",
    "\n",
    "- The combination of values of $(h_3^{12}, h_3^{34}, h_3^{56}, h_3^{78}, h_3^{910})$ doesn't affect to the average time spent seeing patients.\n",
    "\n",
    "\n"
   ]
  },
  {
   "cell_type": "markdown",
   "metadata": {},
   "source": [
    "- **Median time spent per patient vs $(h_3^{12}, h_3^{34}, h_3^{56}, h_3^{78}, h_3^{910})$**"
   ]
  },
  {
   "cell_type": "code",
   "execution_count": null,
   "metadata": {},
   "outputs": [],
   "source": [
    "def median_time_multi_plot(results2_multi, n_cols=2, figsize = (20, 20), interval_width=30) :\n",
    "\n",
    "    param_combi_feasible_str = [str(x) for x in results2_multi[param_names]['feasible']]\n",
    "\n",
    "    limits = np.arange(0, len(results2_multi[param_names]['feasible']), interval_width)\n",
    "    limits[len(limits)-1] = len(results2_multi[param_names]['feasible'])\n",
    "    n_intervals = len(limits) - 1\n",
    "\n",
    "    # Define the number of rows and columns for the matrix plot\n",
    "    n_rows = int(np.ceil(n_intervals / n_cols))\n",
    "    \n",
    "    # Create a subplot with the specified number of rows and columns\n",
    "    fig, axes = plt.subplots(n_rows, n_cols, figsize=figsize)\n",
    "\n",
    "    # Flatten the axes array to make it easier to iterate\n",
    "    axes = axes.flatten()  \n",
    "\n",
    "    # Defining a ecdf-plot for each variable considered.\n",
    "    for i in range(0, n_intervals) :\n",
    "\n",
    "        ax = axes[i]  # Get the current axis\n",
    "        sns.lineplot(y=list(results2_multi[param_names]['median_time_per_patient'].values())[limits[i]:limits[i+1]], \n",
    "                     x=param_combi_feasible_str[limits[i]:limits[i+1]], \n",
    "                     marker='o', markersize=7.5, color='red', ax=ax)\n",
    "        ax.set_yticks(np.round(np.arange(-0.2, 1.2, 0.2), 2))\n",
    "        ax.set_title(f'Combination {limits[i]}:{limits[i+1]}', fontsize=13)\n",
    "        ax.tick_params(axis='x', rotation=90)\n",
    "        ax.set_xlabel('$(h_3^{12}, h_3^{34}, h_3^{56}, h_3^{78}, h_3^{910})$', fontsize=12)\n",
    "        ax.set_ylabel('Median time per patient', fontsize=12)\n",
    "\n",
    "    # Remove any unused subplots in case the number of 'geo' values is less than num_rows * num_cols\n",
    "    for j in range(n_intervals, n_rows*n_cols):\n",
    "        fig.delaxes(axes[j])\n",
    "\n",
    "    # Establishing a general tittle for the plot.\n",
    "    plt.suptitle('Median time per patient vs $(h_3^{12}, h_3^{34}, h_3^{56}, h_3^{78}, h_3^{910})$', fontsize=13, y=0.92)\n",
    "    \n",
    "    plt.subplots_adjust(hspace=1, wspace=0.2) "
   ]
  },
  {
   "cell_type": "code",
   "execution_count": null,
   "metadata": {},
   "outputs": [],
   "source": [
    "median_time_multi_plot(results2_multi=results2_multi, n_cols=2, figsize = (20, 20), interval_width=30)"
   ]
  },
  {
   "cell_type": "markdown",
   "metadata": {},
   "source": [
    "**Interpretation of the results:**\n",
    "\n",
    "From the plot we can extract some conclusions that seems to be fulfilled in general.\n",
    "\n",
    "- The combination of values of $(h_3^{12}, h_3^{34}, h_3^{56}, h_3^{78}, h_3^{910})$ indeed affect to the median of the time spent in patients. \n",
    "\n",
    "     But it is not easy at all to find out a clear pattern to explain the behavior seen in the plot.\n",
    "\n",
    "\n"
   ]
  },
  {
   "cell_type": "markdown",
   "metadata": {},
   "source": [
    "- **$75$-quantile of time spent per patient vs $(h_3^{12}, h_3^{34}, h_3^{56}, h_3^{78}, h_3^{910})$**"
   ]
  },
  {
   "cell_type": "code",
   "execution_count": null,
   "metadata": {},
   "outputs": [],
   "source": [
    "def Q75_time_multi_plot(results2_multi, n_cols=2, figsize = (20, 20), interval_width=30) :\n",
    "\n",
    "    param_combi_feasible_str = [str(x) for x in results2_multi[param_names]['feasible']]\n",
    "\n",
    "    limits = np.arange(0, len(results2_multi[param_names]['feasible']), interval_width)\n",
    "    limits[len(limits)-1] = len(results2_multi[param_names]['feasible'])\n",
    "    n_intervals = len(limits) - 1\n",
    "\n",
    "    # Define the number of rows and columns for the matrix plot\n",
    "    n_rows = int(np.ceil(n_intervals / n_cols))\n",
    "\n",
    "    # Create a subplot with the specified number of rows and columns\n",
    "    fig, axes = plt.subplots(n_rows, n_cols, figsize=figsize)\n",
    "\n",
    "    # Flatten the axes array to make it easier to iterate\n",
    "    axes = axes.flatten()  \n",
    "\n",
    "    # Defining a ecdf-plot for each variable considered.\n",
    "    for i in range(0, n_intervals) :\n",
    "\n",
    "        ax = axes[i]  # Get the current axis\n",
    "        sns.lineplot(y=list(results2_multi[param_names]['Q75_time_per_patient'].values())[limits[i]:limits[i+1]], \n",
    "                     x=param_combi_feasible_str[limits[i]:limits[i+1]], \n",
    "                     marker='o', markersize=7.5, color='red', ax=ax)\n",
    "        ax.set_title(f'Combination {limits[i]}:{limits[i+1]}', fontsize=13)\n",
    "        ax.set_yticks(np.round(np.arange(-0.2, 1.4, 0.2), 2))\n",
    "        ax.tick_params(axis='x', rotation=90)\n",
    "        ax.set_xlabel('$(h_3^{12}, h_3^{34}, h_3^{56}, h_3^{78}, h_3^{910})$', fontsize=12)\n",
    "        ax.set_ylabel('Q75 time per patient', fontsize=12)\n",
    "\n",
    "    # Remove any unused subplots in case the number of 'geo' values is less than num_rows * num_cols\n",
    "    for j in range(n_intervals, n_rows*n_cols):\n",
    "        fig.delaxes(axes[j])\n",
    "\n",
    "    # Establishing a general tittle for the plot.\n",
    "    plt.suptitle('Q75 time per patient vs $(h_3^{12}, h_3^{34}, h_3^{56}, h_3^{78}, h_3^{910})$', fontsize=13, y=0.92)\n",
    "    \n",
    "    plt.subplots_adjust(hspace=1, wspace=0.2) "
   ]
  },
  {
   "cell_type": "code",
   "execution_count": null,
   "metadata": {},
   "outputs": [],
   "source": [
    "Q75_time_multi_plot(results2_multi=results2_multi, n_cols=2, figsize=(20, 20), interval_width=30)"
   ]
  },
  {
   "cell_type": "markdown",
   "metadata": {},
   "source": [
    "**Interpretation of the results:**\n",
    "\n",
    "From the plot we can extract some conclusions that seems to be fulfilled in general.\n",
    "\n",
    "- The combination of values of $(h_3^{12}, h_3^{34}, h_3^{56}, h_3^{78}, h_3^{910})$ indeed affect to the $75$-quantile of the time spent in patients. \n",
    "\n",
    "     But it is not easy at all to find out a clear pattern that explains the behavior seen in the plot.\n",
    "\n",
    "\n"
   ]
  },
  {
   "cell_type": "markdown",
   "metadata": {},
   "source": [
    "- **$25$-quantile of time spent per patient vs $(h_3^{12}, h_3^{34}, h_3^{56}, h_3^{78}, h_3^{910})$**"
   ]
  },
  {
   "cell_type": "code",
   "execution_count": null,
   "metadata": {},
   "outputs": [],
   "source": [
    "def Q25_time_multi_plot(results2_multi, n_cols=2, figsize=(20, 20), interval_width=30) :\n",
    "\n",
    "    param_combi_feasible_str = [str(x) for x in results2_multi[param_names]['feasible']]\n",
    "\n",
    "    limits = np.arange(0, len(results2_multi[param_names]['feasible']), interval_width)\n",
    "    limits[len(limits)-1] = len(results2_multi[param_names]['feasible'])\n",
    "    n_intervals = len(limits) - 1\n",
    "\n",
    "    # Define the number of rows and columns for the matrix plot\n",
    "    n_rows = int(np.ceil(n_intervals / n_cols))\n",
    "\n",
    "    # Create a subplot with the specified number of rows and columns\n",
    "    fig, axes = plt.subplots(n_rows, n_cols, figsize=figsize)\n",
    "\n",
    "    # Flatten the axes array to make it easier to iterate\n",
    "    axes = axes.flatten()  \n",
    "\n",
    "    # Defining a ecdf-plot for each variable considered.\n",
    "    for i in range(0, n_intervals) :\n",
    "\n",
    "        ax = axes[i]  # Get the current axis\n",
    "        sns.lineplot(y=list(results2_multi[param_names]['Q25_time_per_patient'].values())[limits[i]:limits[i+1]], \n",
    "                     x=param_combi_feasible_str[limits[i]:limits[i+1]], \n",
    "                     marker='o', markersize=7.5, color='red', ax=ax)\n",
    "        ax.set_title(f'Combination {limits[i]}:{limits[i+1]}', fontsize=13)\n",
    "        ax.set_yticks(np.round(np.arange(-0.1, 0.6, 0.1), 2))\n",
    "        ax.tick_params(axis='x', rotation=90)\n",
    "        ax.set_xlabel(param_names, fontsize=12)\n",
    "        ax.set_ylabel('Q25 time per patient', fontsize=12)\n",
    "\n",
    "    # Remove any unused subplots in case the number of 'geo' values is less than num_rows * num_cols\n",
    "    for j in range(n_intervals, n_rows*n_cols):\n",
    "        fig.delaxes(axes[j])\n",
    "\n",
    "    # Establishing a general tittle for the plot.\n",
    "    plt.suptitle('Q25 time per patient vs (h3_1_2, h3_3_4, h3_5_6, h3_7_8, h3_9_10)', fontsize=13, y=0.92)\n",
    "    \n",
    "    plt.subplots_adjust(hspace=1, wspace=0.2) "
   ]
  },
  {
   "cell_type": "code",
   "execution_count": null,
   "metadata": {},
   "outputs": [],
   "source": [
    "Q25_time_multi_plot(results2_multi=results2_multi, n_cols=2, figsize=(20, 20), interval_width=30)"
   ]
  },
  {
   "cell_type": "markdown",
   "metadata": {},
   "source": [
    "**Interpretation of the results:**\n",
    "\n",
    "From the plot we can extract some conclusions that seems to be fulfilled in general.\n",
    "\n",
    "- The combination of values of $(h_3^{12}, h_3^{34}, h_3^{56}, h_3^{78}, h_3^{910})$ indeed affect to the $25$-quantile of the time spent in patients. \n",
    "\n",
    "     But it is not easy at all to find out a clear pattern that explains the behavior seen in the plot.\n",
    "\n",
    "\n"
   ]
  },
  {
   "cell_type": "markdown",
   "metadata": {},
   "source": [
    "- **Average time spent per patient vs $w$ vs $(h_3^{12}, h_3^{34}, h_3^{56}, h_3^{78}, h_3^{910})$**"
   ]
  },
  {
   "cell_type": "code",
   "execution_count": null,
   "metadata": {},
   "outputs": [],
   "source": [
    "def avg_time_w_multi_plot(results2_multi, n_cols = 3, figsize = (22, 80), interval_width=5) :\n",
    "\n",
    "    #param_combi_feasible_str = [str(x) for x in results2_multi_LM[param_names]['feasible']]\n",
    "\n",
    "    limits = list(np.arange(0, len(results2_multi[param_names]['feasible']), interval_width))\n",
    "    limits.append(len(results2_multi[param_names]['feasible']))\n",
    "    n_intervals = len(limits) - 1\n",
    "\n",
    "    # Define the number of rows and columns for the matrix plot\n",
    "    n_rows = int(np.ceil(n_intervals / n_cols))\n",
    "\n",
    "    # Create a subplot with the specified number of rows and columns\n",
    "    fig, axes = plt.subplots(n_rows, n_cols, figsize=figsize)\n",
    "\n",
    "    # Flatten the axes array to make it easier to iterate\n",
    "    axes = axes.flatten()  \n",
    "\n",
    "    # Defining a ecdf-plot for each variable considered.\n",
    "    for i in range(0, n_intervals) :\n",
    "\n",
    "        ax = axes[i]  # Get the current axis\n",
    "        param_combinations = list(results2_multi[param_names]['feasible'])[limits[i]:limits[i+1]]\n",
    "        #ax.figure(figsize=(20, 10))\n",
    "        for param_combi in param_combinations :\n",
    "            sns.lineplot(y=list(results2_multi[param_names]['avg_time_patient_per_w'][param_combi].values()), \n",
    "                         x=results2_multi[param_names]['avg_time_patient_per_w'][param_combi].keys(), \n",
    "                         label=param_combi, marker='o', markersize=6, ax=ax)\n",
    "        ax.set_title(f'$h_3$ combination {limits[i]}:{limits[i+1]}', fontsize=13)\n",
    "        ax.tick_params(axis='x', rotation=0)\n",
    "        ax.set_yticks(range(0,5))\n",
    "        ax.set_xlabel('w', fontsize=12)\n",
    "        ax.set_ylabel('Avg. time per patient', fontsize=12)\n",
    "        ax.legend(title='$h_3$ combination', loc='upper right', bbox_to_anchor=(1.37, 1), fontsize=8, ncol=1)\n",
    "\n",
    "    # Remove any unused subplots in case the number of 'geo' values is less than num_rows * num_cols\n",
    "    for j in range(n_intervals, n_rows*n_cols):\n",
    "        fig.delaxes(axes[j])\n",
    "\n",
    "    # Establishing a general tittle for the plot.\n",
    "    plt.suptitle('Avg. time per patient vs $w$ vs $(h_3^{12}, h_3^{34}, h_3^{56}, h_3^{78}, h_3^{910})$', fontsize=13, y=0.89)\n",
    "    \n",
    "    plt.subplots_adjust(hspace=0.4, wspace=0.5) \n"
   ]
  },
  {
   "cell_type": "code",
   "execution_count": null,
   "metadata": {},
   "outputs": [],
   "source": [
    "avg_time_w_multi_plot(results2_multi=results2_multi, n_cols = 3, figsize = (22, 80), interval_width=3)"
   ]
  },
  {
   "cell_type": "markdown",
   "metadata": {},
   "source": [
    "**Interpretation of the results:**\n",
    "\n",
    "Since there are many results to interpret, we will only focus  in few of them. \n",
    "\n",
    "- Combination 0:3: \n",
    "\n",
    "    - $(h_3^{12}, h_3^{34}, h_3^{56}, h_3^{78}, h_3^{910}) = (0,0,0,0,0)$\n",
    "    - $(h_3^{12}, h_3^{34}, h_3^{56}, h_3^{78}, h_3^{910}) = (0,0,0,0,0.7)$\n",
    "    - $(h_3^{12}, h_3^{34}, h_3^{56}, h_3^{78}, h_3^{910}) = (0,0,0,0,1.2)$\n",
    "\n",
    "       - The average time spent in patients for $w_j = 1,2,\\dots,8$ is $0$, for $w_j=9$ is $2.75$ and for $w_j=10$ is $4$, that is the value set for $h_4$.\n",
    "    There are no differences depending on the combination.\n"
   ]
  },
  {
   "cell_type": "markdown",
   "metadata": {},
   "source": [
    "\n",
    "- Combination 6:9: \n",
    "\n",
    "    - $(h_3^{12}, h_3^{34}, h_3^{56}, h_3^{78}, h_3^{910}) = (0,0,0,0.1,0) \\quad (1)$\n",
    "    - $(h_3^{12}, h_3^{34}, h_3^{56}, h_3^{78}, h_3^{910}) = (0,0,0,0.1,0.7) \\quad (2)$\n",
    "    - $(h_3^{12}, h_3^{34}, h_3^{56}, h_3^{78}, h_3^{910}) = (0,0,0,0.1,1.2) \\quad (3)$\n",
    "\n",
    "       - The average time spent in patients for $w_j = 1,2,\\dots,6$ is $0$, for $w_j=7,8$ is $1$.\n",
    "    \n",
    "       - For $w_j=9$ is $0$ for combination $(1)$, $0.7$ for $(2)$ and $1.2$ for $(3)$, since the only difference between the combinations is $h_3^{910}$, we can see that, the greater $h_3^{910}$, the greater avg. time spent in type-9 patients.\n",
    "\n",
    "       - For $w_j=10$ is $4$ for combination $(1)$, $3.5$ for $(2)$ and $3$ for $(3)$, since the only difference between the combinations is $h_3^{910}$, we can see that, the greater $h_3^{910}$, the lower avg. time spent in type-10 patients.\n",
    "\n",
    "       - These last two results lead to a conclusion that was already posed in previous sections. The remaining working time is invested in type-10 patients, since are the most severe, and since the time spent in type-9 patients decreases when $h_3^{910}$ decreases, the lower $h_3^{910}$, the more extra time to spent in type-10 patients.\n"
   ]
  },
  {
   "cell_type": "markdown",
   "metadata": {},
   "source": [
    "\n",
    "- Combination 6:9: \n",
    "\n",
    "    - $(h_3^{12}, h_3^{34}, h_3^{56}, h_3^{78}, h_3^{910}) = (0.4,0.5,0.8,0,0) \\quad (1)$\n",
    "    - $(h_3^{12}, h_3^{34}, h_3^{56}, h_3^{78}, h_3^{910}) = (0.4,0.5,0.8,0,0.7) \\quad (2)$\n",
    "    - $(h_3^{12}, h_3^{34}, h_3^{56}, h_3^{78}, h_3^{910}) = (0.4,0.5,0.8,0,1.2) \\quad (3)$\n",
    "\n",
    "       - The average time spent in patients for $w_j = 1,2$ is $0 = h_3^{12}$, for $w_j=3,4$ is $0.5=h_3^{34}$, for $w_j=5,6$ is $0.8=h_3^{56}$, for $w_j=7.8$ is $0=h_3^{78}$.\n",
    "    \n",
    "       - For $w_j=9$ is $0$ for combination $(1)$, $0.7$ for $(2)$ and $1.2$ for $(3)$, since the only difference between the combinations is $h_3^{910}$, we can see that, the greater $h_3^{910}$, the greater avg. time spent in type-9 patients.\n",
    "\n",
    "       - For $w_j=10$ is $2.9$ for combination $(1)$, $2.1$ for $(2)$ and $1.7$ for $(3)$, since the only difference between the combinations is $h_3^{910}$, we can see that, the greater $h_3^{910}$, the lower avg. time spent in type-10 patients.\n",
    "\n",
    "       - The behavior observed in this case is analogous to the previous one, with the difference that in this case, tandems work more in type 1 to 6 patients, but less in type 7-8, and this lead to a lower extra time to spent in type-10 patients.\n"
   ]
  },
  {
   "cell_type": "markdown",
   "metadata": {},
   "source": [
    "Same analysis may be applied to the rest of subplots (sets of combinations)."
   ]
  },
  {
   "cell_type": "markdown",
   "metadata": {},
   "source": [
    "\n",
    "## **Integer problem** (d)\n",
    "\n",
    "\\begin{align*}\n",
    "\\underset{\\hspace{0.05cm} \\mathbf{t} \\hspace{0.05cm} }{Max}  & \\quad  \\sum_{j=1}^{p} \\sum_{i=1}^{n} \\hspace{0.1cm}t_{ij}\\cdot w_j\\\\[0.5cm]\n",
    "\\text{s.t.:}&\\\\[0.2cm]\n",
    "  & \\sum_{j=1}^p t_{ij} \\hspace{0.05cm}\\leq\\hspace{0.05cm} h_1 \\hspace{0.1cm},\\hspace{0.15cm} \\forall i = 1,\\dots,n\\\\[0.5cm]\n",
    "  &t_{ij} \\hspace{0.05cm}\\geq\\hspace{0.05cm} h_2\\hspace{0.1cm},\\hspace{0.15cm} \\forall i = 1,\\dots,n\\hspace{0.1cm},\\hspace{0.15cm}  \\forall j = 1,\\dots,p\\\\[0.3cm]\n",
    "  &\\sum_{i=1}^n t_{ij} \\hspace{0.05cm}\\geq\\hspace{0.05cm} h_3(w_j) \\hspace{0.1cm},\\hspace{0.15cm} \\forall j = 1,\\dots, p \\\\[0.5cm]\n",
    "  &\\sum_{i=1}^n t_{ij} \\hspace{0.05cm}\\leq\\hspace{0.05cm} h_4  \\hspace{0.1cm},\\hspace{0.15cm} \\forall j = 1,\\dots, p \\\\[0.5cm] \n",
    "  & t_{ij} \\hspace{0.05cm}\\geq\\hspace{0.05cm} 0 \\hspace{0.1cm},\\hspace{0.15cm} \\forall i =1,\\dots,n \\hspace{0.1cm},\\hspace{0.15cm} \\forall j =1,\\dots,p\\\\[0.5cm]\n",
    "    & \\sum_{j=1}^p y_{j} \\hspace{0.05cm} = \\hspace{0.05cm} p \\hspace{0.25cm}\\text{(new constraint)} \\\\[0.5cm]\n",
    "\\end{align*}\n",
    "\n",
    "Where:\n",
    "\n",
    "$$y_j = \\begin{cases}\n",
    "1, \\hspace{0.2cm} \\sum_{i=1}^n t_{ij} > 0 \\\\[0.2cm]\n",
    "0, \\hspace{0.2cm}  \\sum_{i=1}^n t_{ij} = 0\n",
    "\\end{cases}\n",
    "$$\n",
    "\n",
    "Which is equivalent to:\n",
    "\n",
    "$$y_j\\cdot \\varepsilon \\hspace{0.1cm} \\leq \\hspace{0.1cm} \\sum_{i=1}^n t_{ij}  \\hspace{0.1cm}\\leq \\hspace{0.1cm} y_j \\cdot M$$\n",
    "\n",
    "being $\\varepsilon$ and $M$ a small and large enough positive constant, respectively.\n",
    "\n",
    "**Observation:**\n",
    "\n",
    "If $\\hspace{0.1cm} h_3^{ij} > 0, \\hspace{0.05cm}\\forall\\hspace{0.05cm}\\scriptsize{ i,j = (1,2), (3,4),\\dots, (9,10)}$,  the new constraint will not make any impact in the problem, just because if $h_3^{12} > 0$, all the patients are seen, when the problem is feasible.\n",
    "\n",
    "So, in order to see the effect of the new constraint we have to set $\\hspace{0.1cm}h_3^{ij} = 0, \\hspace{0.05cm}\\exists\\hspace{0.05cm}\\scriptsize{ i,j = (1,2), (3,4),\\dots, (9,10)}$.\n"
   ]
  },
  {
   "cell_type": "markdown",
   "metadata": {},
   "source": [
    "### **Solving with `Pyomo`** (d)"
   ]
  },
  {
   "cell_type": "markdown",
   "metadata": {},
   "source": [
    "First of all, we are going to implement the general integer (binary) problem presented above in `Pyomo`. "
   ]
  },
  {
   "cell_type": "code",
   "execution_count": null,
   "metadata": {},
   "outputs": [],
   "source": [
    "def hospital_integer_model(n, p, w, h1, h2, h3_1_2, h3_3_4, h3_5_6, h3_7_8, h3_9_10, h4):\n",
    "    \"\"\"\n",
    "    Implements and solves the hospital integer (binary) model.\n",
    "\n",
    "    Parameters (inputs)\n",
    "    ----------\n",
    "    n: number of nurse-doctor tandems in a given day.\n",
    "    p: number of patients tandems in a given day.\n",
    "    w: 1-D array with the severity/importance of the patients.\n",
    "    h1: maximum time seeing patients per nurse-doctor tandem in a given day.\n",
    "    h2: maximum time spent by nurse-doctor tandem i seeing the patient j, for all i,j.\n",
    "    h3_1_2: minimum time time spent in patient j, if w[j] in [1,2].\n",
    "    h3_3_4: minimum time time spent in patient j, if w[j] in [3,4].\n",
    "    h3_5_6: minimum time time spent in patient j, if w[j] in [5,6].\n",
    "    h3_7_8: minimum time time spent in patient j, if w[j] in [7,8].\n",
    "    h3_9_10: minimum time time spent in patient j, if w[j] in [9,10].\n",
    "    h4: maximum time time spent in patient j.\n",
    "\n",
    "    Returns (outputs)\n",
    "    -------\n",
    "    model: the Pyomo model output.\n",
    "    t_optimal: a dictionary with the optimal values for the t_ij decision variables.\n",
    "    y_optimal: a dictionary with the optimal values for the y_j decision variables.\n",
    "    f_optimal: the optimal value of the objective function.\n",
    "    \"\"\"\n",
    "\n",
    "    # Defining h3 function.\n",
    "    def h3(w):\n",
    "        if w in [1, 2] :\n",
    "           return h3_1_2\n",
    "        if w in [3, 4] :\n",
    "           return h3_3_4\n",
    "        elif w in [5, 6] :\n",
    "           return h3_5_6\n",
    "        elif w in [7, 8] :\n",
    "           return h3_7_8\n",
    "        elif w in [9, 10] :\n",
    "           return h3_9_10\n",
    "\n",
    "    # Initialize a model.\n",
    "    model = ConcreteModel()\n",
    "\n",
    "    # Initialize ranges for tandems and patients.\n",
    "    model.N = range(0,n)\n",
    "    model.P = range(0,p)\n",
    "\n",
    "    # Defining t_ij decision variables as non-negative reals (t_ij >= 0).\n",
    "    model.t = Var(model.N, model.P, domain=NonNegativeReals) \n",
    "\n",
    "    # Defining y_j as a binary variable (y_j in {0,1}).\n",
    "    model.y = Var(model.P, domain=Binary)\n",
    "\n",
    "    # Objective function to maximize the weighted sum of time spent with patients\n",
    "    model.cost = Objective(expr=sum(model.t[i,j] * w[j] for i in model.N for j in model.P), sense=maximize)\n",
    "\n",
    "    # Constraints\n",
    "    model.constraints = ConstraintList()\n",
    "\n",
    "    # The total time spent by each tandem on all patients must be at most h1.\n",
    "    for i in model.N:\n",
    "        model.constraints.add(sum(model.t[i,j] for j in model.P) <= h1)\n",
    "\n",
    "    # The time spent by tandem i on patient j must be at most h2.\n",
    "    for i in model.N:\n",
    "        for j in model.P:\n",
    "            model.constraints.add(model.t[i, j] <= h2)\n",
    "    \n",
    "    # The total time a patient is seen by all tandems must be at least h3(w[j])\n",
    "    for j in model.P:\n",
    "        model.constraints.add(sum(model.t[i,j] for i in model.N) >= h3(w[j]))\n",
    "\n",
    "    # The total time a patient is seen by all tandems must be at most h4.\n",
    "    for j in model.P:\n",
    "        model.constraints.add(sum(model.t[i,j] for i in model.N) <= h4)\n",
    "\n",
    "    # y[j] is 1 if sum(model.t[i,j] for i in model.N) > 0.\n",
    "    M = 1000000\n",
    "    for j in model.P:\n",
    "        model.constraints.add(sum(model.t[i,j] for i in model.N) <= model.y[j] * M)\n",
    "         \n",
    "    # y[j] is 0 if sum(model.t[i,j] for i in model.N) = 0\n",
    "    epsilon = 0.000001\n",
    "    for j in model.P:\n",
    "        model.constraints.add(epsilon * model.y[j] <= sum(model.t[i,j] for i in model.N))\n",
    "\n",
    "    # The number of patients seen (sum(model.y[j] for j in model.P)) must be equal to the number of patients (p).\n",
    "    model.constraints.add(sum(model.y[j] for j in model.P) == p)\n",
    "\n",
    "    # Load dual information\n",
    "    # model.dual = Suffix(direction=Suffix.IMPORT)\n",
    "\n",
    "    # Solve the model\n",
    "    solver = SolverFactory('glpk')\n",
    "    results = solver.solve(model, tee=False)  # Set tee=True to show solver output\n",
    "\n",
    "    # Check solver status and termination condition\n",
    "    if (results.solver.status == SolverStatus.ok) and (results.solver.termination_condition == TerminationCondition.optimal):\n",
    "        #print(\"Solution Found\")\n",
    "        # Extract optimal values for variables and objective\n",
    "        t_optimal = {(i, j): model.t[i, j].value for i in model.N for j in model.P}\n",
    "        y_optimal = {j: model.y[j].value for j in model.P}\n",
    "        f_optimal = model.cost.expr()\n",
    "    elif results.solver.termination_condition == TerminationCondition.infeasible:\n",
    "        #print(\"No feasible solution\")\n",
    "        t_optimal, y_optimal, f_optimal = None, None, None\n",
    "    else:\n",
    "        #print(\"No feasible solution\")\n",
    "        t_optimal, y_optimal, f_optimal = None, None, None\n",
    "\n",
    "    return model, t_optimal, y_optimal, f_optimal"
   ]
  },
  {
   "cell_type": "markdown",
   "metadata": {},
   "source": [
    "### **Preliminary analysis**"
   ]
  },
  {
   "cell_type": "markdown",
   "metadata": {},
   "source": [
    "In this section we are going to do a preliminary numerical analysis of the problem posed above, for a given set of parameters."
   ]
  },
  {
   "cell_type": "code",
   "execution_count": null,
   "metadata": {},
   "outputs": [],
   "source": [
    "# Parameters definition:\n",
    "n=50; p=500; h1=6; h2=1; h4=4\n",
    "\n",
    "h3_1_2 = 0\n",
    "h3_3_4 = 0.30 \n",
    "h3_5_6 = 0.55  \n",
    "h3_7_8 = 0.80 \n",
    "h3_9_10 = 1 \n",
    "    \n",
    "np.random.seed(123)\n",
    "w = np.random.randint(1, 11, p) \n",
    "\n",
    "# Problem execution:\n",
    "model, t_optimal, y_optimal, f_optimal = hospital_integer_model(n, p, w, h1, h2, h3_1_2, h3_3_4, h3_5_6, h3_7_8, h3_9_10, h4)"
   ]
  },
  {
   "cell_type": "markdown",
   "metadata": {},
   "source": [
    "#### **Optimal values**"
   ]
  },
  {
   "cell_type": "markdown",
   "metadata": {},
   "source": [
    " **Decision variables**"
   ]
  },
  {
   "cell_type": "markdown",
   "metadata": {},
   "source": [
    "The optimal values for the $t_{ij}$ decision variables for the given set of parameters are the following:"
   ]
  },
  {
   "cell_type": "code",
   "execution_count": null,
   "metadata": {},
   "outputs": [],
   "source": [
    "t_optimal"
   ]
  },
  {
   "cell_type": "markdown",
   "metadata": {},
   "source": [
    "The optimal values for the $y_{j}$ decision variables for the given set of parameters are the following:"
   ]
  },
  {
   "cell_type": "code",
   "execution_count": null,
   "metadata": {},
   "outputs": [],
   "source": [
    "y_optimal"
   ]
  },
  {
   "cell_type": "markdown",
   "metadata": {},
   "source": [
    "For example, the time spent in patient $j=5$ by tandem $i=1$, i.e. $t_{15}$, is:"
   ]
  },
  {
   "cell_type": "code",
   "execution_count": null,
   "metadata": {},
   "outputs": [],
   "source": [
    "t_optimal[0,4] # 0 h"
   ]
  },
  {
   "cell_type": "markdown",
   "metadata": {},
   "source": [
    "**Objective function**"
   ]
  },
  {
   "cell_type": "markdown",
   "metadata": {},
   "source": [
    "In this case the optimal value for the objective function is the following:"
   ]
  },
  {
   "cell_type": "code",
   "execution_count": null,
   "metadata": {},
   "outputs": [],
   "source": [
    "f_optimal"
   ]
  },
  {
   "cell_type": "markdown",
   "metadata": {},
   "source": [
    "#### **Time spent in patients**"
   ]
  },
  {
   "cell_type": "markdown",
   "metadata": {},
   "source": [
    "Now we are going to analyze the time spent in the patients, in this particular case.\n",
    "\n",
    "We built a function that computes the time spent seeing patient j in a given day .\n",
    "It's important to notice that a patient could be seen by several nurse-doctor tandems."
   ]
  },
  {
   "cell_type": "code",
   "execution_count": null,
   "metadata": {},
   "outputs": [],
   "source": [
    "# Time spent seeing patient j in a given day (he could be seen by several nurse-doctor tandems).\n",
    "def time_seeing_patient(j):\n",
    "    return np.sum([t_optimal[i, j] for i in range(0,n)])"
   ]
  },
  {
   "cell_type": "markdown",
   "metadata": {},
   "source": [
    "For example, total time spent in patient $j=45$, that is, $\\sum_{i=1}^n t_{i45}$, is the following:"
   ]
  },
  {
   "cell_type": "code",
   "execution_count": null,
   "metadata": {},
   "outputs": [],
   "source": [
    "time_seeing_patient(44)"
   ]
  },
  {
   "cell_type": "markdown",
   "metadata": {},
   "source": [
    "Using the previous function we can collect the total time spent in each patient in an array."
   ]
  },
  {
   "cell_type": "code",
   "execution_count": null,
   "metadata": {},
   "outputs": [],
   "source": [
    "total_times_per_patient = np.array([time_seeing_patient(j) for j in range(0,p)])"
   ]
  },
  {
   "cell_type": "code",
   "execution_count": null,
   "metadata": {},
   "outputs": [],
   "source": [
    "total_times_per_patient"
   ]
  },
  {
   "cell_type": "markdown",
   "metadata": {},
   "source": [
    "#### **Average time spent per patient**"
   ]
  },
  {
   "cell_type": "markdown",
   "metadata": {},
   "source": [
    "Now we can compute some statistics over the time spent in patients, like for example the average time spent per patient."
   ]
  },
  {
   "cell_type": "code",
   "execution_count": null,
   "metadata": {},
   "outputs": [],
   "source": [
    "np.mean(total_times_per_patient)"
   ]
  },
  {
   "cell_type": "markdown",
   "metadata": {},
   "source": [
    "#### **Max time spent per patient**\n",
    "\n",
    "The maximum time spent in a single patient is enforced by $h_4$ constriant, that in this case has been fixed to $4$."
   ]
  },
  {
   "cell_type": "code",
   "execution_count": null,
   "metadata": {},
   "outputs": [],
   "source": [
    "np.max(total_times_per_patient) # 4 hours"
   ]
  },
  {
   "cell_type": "markdown",
   "metadata": {},
   "source": [
    "#### **Min time spent per patient**\n",
    "\n",
    "The minimun time spent in a single patient is set by $h_3^{12}$, in this case, that has been fixed to $0.1$."
   ]
  },
  {
   "cell_type": "code",
   "execution_count": null,
   "metadata": {},
   "outputs": [],
   "source": [
    "np.min(total_times_per_patient) "
   ]
  },
  {
   "cell_type": "markdown",
   "metadata": {},
   "source": [
    "#### **Median of time spent per patient**"
   ]
  },
  {
   "cell_type": "code",
   "execution_count": null,
   "metadata": {},
   "outputs": [],
   "source": [
    "np.median(total_times_per_patient) "
   ]
  },
  {
   "cell_type": "markdown",
   "metadata": {},
   "source": [
    "#### **$75$-quantile of time spent per patient**"
   ]
  },
  {
   "cell_type": "code",
   "execution_count": null,
   "metadata": {},
   "outputs": [],
   "source": [
    "np.quantile(total_times_per_patient, 0.75)"
   ]
  },
  {
   "cell_type": "markdown",
   "metadata": {},
   "source": [
    "#### **$25$-quantile time spent per patient**"
   ]
  },
  {
   "cell_type": "code",
   "execution_count": null,
   "metadata": {},
   "outputs": [],
   "source": [
    "np.quantile(total_times_per_patient, 0.25)"
   ]
  },
  {
   "cell_type": "markdown",
   "metadata": {},
   "source": [
    "#### **Number of patients seen**"
   ]
  },
  {
   "cell_type": "markdown",
   "metadata": {},
   "source": [
    "Another interesting statistic to compute is the number of patients seen. This can be calculated as the number of non zero values in the array `total_times_per_patient`."
   ]
  },
  {
   "cell_type": "markdown",
   "metadata": {},
   "source": [
    "The number of patients seen is $p=500$ even though we have set $h_3^{12}=0$, so the new constraint is working well. In addition, we can see as the number of patient seen match with $\\sum_{j=1}^p y_j$, which is something that must always be fulfilled in this new version of the problem."
   ]
  },
  {
   "cell_type": "code",
   "execution_count": null,
   "metadata": {},
   "outputs": [],
   "source": [
    "np.sum(total_times_per_patient > 0)"
   ]
  },
  {
   "cell_type": "code",
   "execution_count": null,
   "metadata": {},
   "outputs": [],
   "source": [
    "np.sum(list(y_optimal.values()))"
   ]
  },
  {
   "cell_type": "markdown",
   "metadata": {},
   "source": [
    "#### **Relation between total time per patients and theis severity/importance $(w)$**"
   ]
  },
  {
   "cell_type": "markdown",
   "metadata": {},
   "source": [
    "We can do a simple analysis of the relationship between the time spent per patient and the severity/importance of the patient. \n",
    "\n",
    "For example, we can compute the Pearson linear correlation coefficient between this two variables."
   ]
  },
  {
   "cell_type": "code",
   "execution_count": null,
   "metadata": {},
   "outputs": [],
   "source": [
    "pearsonr(w, total_times_per_patient)"
   ]
  },
  {
   "cell_type": "markdown",
   "metadata": {},
   "source": [
    "A linear correlation of $0.74$ indicates a high positive linear relationship between the time spent per patient and their severity/importance."
   ]
  },
  {
   "cell_type": "markdown",
   "metadata": {},
   "source": [
    "We can make an scatter plot of both variables to visualize this relationship."
   ]
  },
  {
   "cell_type": "code",
   "execution_count": null,
   "metadata": {},
   "outputs": [],
   "source": [
    "plt.figure(figsize=(8, 5))\n",
    "ax = sns.scatterplot(x=w, y=total_times_per_patient, color='red')\n",
    "plt.title('w vs time per patient', size=15)\n",
    "ax.set_ylabel('time per patient', size=11)\n",
    "ax.set_xlabel('w', size=11)\n",
    "plt.xticks(np.unique(w))\n",
    "plt.show()"
   ]
  },
  {
   "cell_type": "markdown",
   "metadata": {},
   "source": [
    "It's important to realize that the points are overlapped, since there are $500$ patients and only $13$ points are visible."
   ]
  },
  {
   "cell_type": "markdown",
   "metadata": {},
   "source": [
    "### **Analysis of sensitivity** (c, g)"
   ]
  },
  {
   "cell_type": "markdown",
   "metadata": {},
   "source": [
    "#### **Analysis of individual parameters** (c)"
   ]
  },
  {
   "cell_type": "markdown",
   "metadata": {},
   "source": [
    "In this section we make a sensitivity analysis of some of the parameters of the problem, following an individual approach, in the sense that each parameter will be analyzed separately.\n",
    "\n",
    "This analysis is essentially carried out using the functions `get_results1` and `get_results2`."
   ]
  },
  {
   "cell_type": "markdown",
   "metadata": {},
   "source": [
    "##### **Analysis of $h_1$ parameter**\n",
    "\n",
    "   - $h_1 :=$ maximum time seeing patients per nurse-doctor tandem in a given day.\n"
   ]
  },
  {
   "cell_type": "code",
   "execution_count": null,
   "metadata": {},
   "outputs": [],
   "source": [
    "# Defining the values of the rest of parameters and setting h1 as None.\n",
    "params['n'] = 50 ; params['p']=500 ; params['h1']=None ; params['h2']=1 ; params['h4']=4\n",
    "params['h3_1_2'] = 0\n",
    "params['h3_3_4'] = 0.30 \n",
    "params['h3_5_6'] = 0.55  \n",
    "params['h3_7_8'] = 0.80 \n",
    "params['h3_9_10'] = 1 \n",
    "\n",
    "np.random.seed(123)\n",
    "params['w'] = np.random.randint(1, 11, params['p']) \n",
    "\n",
    "# Defining the parameter values list.\n",
    "parameter_list = np.arange(2, 13)"
   ]
  },
  {
   "cell_type": "markdown",
   "metadata": {},
   "source": [
    "Now we are going to use te results stored in `results1_IM` and `results2_IM` to make some valuable plots, in order to analyze the influence of the $h_1$ parameter in the hospital integer (binary) model."
   ]
  },
  {
   "cell_type": "code",
   "execution_count": null,
   "metadata": {},
   "outputs": [],
   "source": [
    "results1 = get_results1('h1', parameter_list, params, model='integer')"
   ]
  },
  {
   "cell_type": "code",
   "execution_count": null,
   "metadata": {},
   "outputs": [],
   "source": [
    "results2 = get_results2('h1', parameter_list, results1)"
   ]
  },
  {
   "cell_type": "code",
   "execution_count": null,
   "metadata": {},
   "outputs": [],
   "source": [
    "plt.figure(figsize=(8, 5))\n",
    "ax = sns.scatterplot(y=results2['h1']['type'], x=parameter_list, color='red', s=200)\n",
    "plt.title('type vs h1', size=15)\n",
    "ax.set_ylabel('type', size=12)\n",
    "ax.set_xlabel('h1', size=12)\n",
    "plt.xticks(parameter_list, fontsize=12)\n",
    "plt.yticks(fontsize=11)\n",
    "plt.show()"
   ]
  },
  {
   "cell_type": "markdown",
   "metadata": {},
   "source": [
    "**Interpretation of the results:**\n",
    "\n",
    "Analogous interpretation to the one made for the linear model."
   ]
  },
  {
   "cell_type": "markdown",
   "metadata": {},
   "source": [
    "- **Number of patients seen vs $h_1$**"
   ]
  },
  {
   "cell_type": "code",
   "execution_count": null,
   "metadata": {},
   "outputs": [],
   "source": [
    "plt.figure(figsize=(8, 5))\n",
    "ax = sns.lineplot(y=results2['h1']['num_patients_seen'].values(), x=results2['h1']['feasible'], \n",
    "                  marker='o', markersize=7.5, color='red')\n",
    "plt.title('number of patients seen vs h1', size=15)\n",
    "ax.set_ylabel('number of patients seen', size=12)\n",
    "ax.set_xlabel('h1', size=12)\n",
    "plt.xticks(results2['h1']['feasible'], fontsize=12)\n",
    "plt.yticks(fontsize=11)\n",
    "plt.show()"
   ]
  },
  {
   "cell_type": "markdown",
   "metadata": {},
   "source": [
    "**Interpretation of the results:**\n",
    "\n",
    "In this case is not trivial that the number of patients seen is the maximum possible $(=p)$, since $h_3^{12}=0$ unlike the analogous analysis performed with the linear model. This indicates that the new binary variable and the new constraint are working well."
   ]
  },
  {
   "cell_type": "markdown",
   "metadata": {},
   "source": [
    "- **Optimal value of the objective function vs $h_1$**"
   ]
  },
  {
   "cell_type": "code",
   "execution_count": null,
   "metadata": {},
   "outputs": [],
   "source": [
    "plt.figure(figsize=(8, 5))\n",
    "ax = sns.lineplot(y=results2['h1']['f_optimal_feasible'].values(), x=results2['h1']['feasible'], marker='o', markersize=7.5, color='red')\n",
    "plt.title('$f$ optimal vs $h_1$', size=15)\n",
    "ax.set_ylabel('$f$ optimal', size=12)\n",
    "ax.set_xlabel('$h_1$', size=12)\n",
    "plt.xticks(results2['h1']['feasible'], fontsize=12)\n",
    "plt.yticks(fontsize=11)\n",
    "plt.show()"
   ]
  },
  {
   "cell_type": "markdown",
   "metadata": {},
   "source": [
    "**Interpretation of the results:**\n",
    "\n",
    "Analogous interpretation to the one made for the linear model."
   ]
  },
  {
   "cell_type": "markdown",
   "metadata": {},
   "source": [
    "- **Average time spent per patient vs $h_1$**"
   ]
  },
  {
   "cell_type": "code",
   "execution_count": null,
   "metadata": {},
   "outputs": [],
   "source": [
    "plt.figure(figsize=(8, 5))\n",
    "ax = sns.lineplot(y=results2['h1']['avg_time_per_patient'].values(), x=results2['h1']['feasible'], marker='o', markersize=7.5, color='red')\n",
    "plt.title('Avg. time per patient vs $h_1$', size=15)\n",
    "ax.set_ylabel('Avg. time per patient', size=12)\n",
    "ax.set_xlabel('$h_1$', size=12)\n",
    "plt.xticks(results2['h1']['feasible'], fontsize=12)\n",
    "plt.yticks(fontsize=11)\n",
    "plt.show()"
   ]
  },
  {
   "cell_type": "markdown",
   "metadata": {},
   "source": [
    "**Interpretation of the results:**\n",
    "\n",
    "Analogous interpretation to the one made for the linear model."
   ]
  },
  {
   "cell_type": "markdown",
   "metadata": {},
   "source": [
    "- **Median time spent per patient vs $h_1$**"
   ]
  },
  {
   "cell_type": "code",
   "execution_count": null,
   "metadata": {},
   "outputs": [],
   "source": [
    "plt.figure(figsize=(8, 5))\n",
    "ax = sns.lineplot(y=results2['h1']['median_time_per_patient'].values(), x=results2['h1']['feasible'], marker='o', markersize=7.5, color='red')\n",
    "plt.title('Median time per patient vs $h_1$', size=15)\n",
    "ax.set_ylabel('Median time per patient', size=12)\n",
    "ax.set_xlabel('$h_1$', size=12)\n",
    "plt.xticks(results2['h1']['feasible'], fontsize=12)\n",
    "plt.yticks(fontsize=11)\n",
    "plt.show()"
   ]
  },
  {
   "cell_type": "markdown",
   "metadata": {},
   "source": [
    "**Interpretation of the results:**\n",
    "\n",
    "Analogous interpretation to the one made for the linear model."
   ]
  },
  {
   "cell_type": "markdown",
   "metadata": {},
   "source": [
    "- **$75$-quantile time spent per patient vs $h_1$**"
   ]
  },
  {
   "cell_type": "code",
   "execution_count": null,
   "metadata": {},
   "outputs": [],
   "source": [
    "plt.figure(figsize=(8, 5))\n",
    "ax = sns.lineplot(y=results2['h1']['Q75_time_per_patient'].values(), x=results2['h1']['feasible'], marker='o', markersize=7.5, color='red')\n",
    "plt.title('Q75 time per patient vs $h_1$', size=15)\n",
    "ax.set_ylabel('Q75 time per patient', size=12)\n",
    "ax.set_xlabel('$h_1$', size=12)\n",
    "plt.xticks(results2['h1']['feasible'], fontsize=12)\n",
    "plt.yticks(fontsize=11)\n",
    "plt.show()"
   ]
  },
  {
   "cell_type": "markdown",
   "metadata": {},
   "source": [
    "**Interpretation of the results:**\n",
    "\n",
    "Analogous interpretation to the one made for the linear model."
   ]
  },
  {
   "cell_type": "markdown",
   "metadata": {},
   "source": [
    "- **$25$-quantile time spent per patient vs $h_1$**"
   ]
  },
  {
   "cell_type": "code",
   "execution_count": null,
   "metadata": {},
   "outputs": [],
   "source": [
    "plt.figure(figsize=(8, 5))\n",
    "ax = sns.lineplot(y=results2['h1']['Q25_time_per_patient'].values(), x=results2['h1']['feasible'], marker='o', markersize=7.5, color='red')\n",
    "plt.title('Q25 time per patient vs $h_1$', size=15)\n",
    "ax.set_ylabel('Q25 time per patient', size=12)\n",
    "ax.set_xlabel('$h_1$', size=12)\n",
    "plt.xticks(results2['h1']['feasible'], fontsize=12)\n",
    "plt.yticks(fontsize=11)\n",
    "plt.show()"
   ]
  },
  {
   "cell_type": "markdown",
   "metadata": {},
   "source": [
    "**Interpretation of the results:**\n",
    "\n",
    "Analogous interpretation to the one made for the linear model."
   ]
  },
  {
   "cell_type": "markdown",
   "metadata": {},
   "source": [
    "- **Average time spent per patient vs $w$ vs $h_1$**"
   ]
  },
  {
   "cell_type": "code",
   "execution_count": null,
   "metadata": {},
   "outputs": [],
   "source": [
    "plt.figure(figsize=(8, 5))\n",
    "for i, h1 in zip(results2['h1']['avg_time_patient_per_w'].keys(), results2['h1']['feasible']) :\n",
    "    ax = sns.lineplot(y=results2['h1']['avg_time_patient_per_w'][i].values(), x=results2['h1']['avg_time_patient_per_w'][i].keys(), \n",
    "                      label=h1, marker='o', markersize=6)\n",
    "plt.title('Avg. time per patient vs $w$ vs $h_1$', size=15)\n",
    "ax.set_ylabel('Avg. time per patient', size=12)\n",
    "ax.set_xlabel('$w$', size=12)\n",
    "plt.xticks(list(results2['h1']['avg_time_patient_per_w'][i].keys()), fontsize=12)\n",
    "plt.yticks(fontsize=11)\n",
    "plt.legend(title='$h_1$', loc='upper right', bbox_to_anchor=(1.2, 1), fontsize=11)\n",
    "plt.show()"
   ]
  },
  {
   "cell_type": "markdown",
   "metadata": {},
   "source": [
    "**Interpretation of the results:**\n",
    "\n",
    "Analogous interpretation to the one made for the linear model."
   ]
  },
  {
   "cell_type": "markdown",
   "metadata": {},
   "source": [
    "##### **Analysis of $h_2$ parameter**\n",
    "\n",
    "   - $h_2 :=$ maximum time spent by nurse-doctor tandem $i$ seeing the patient $j$, for all $i,j$.\n"
   ]
  },
  {
   "cell_type": "code",
   "execution_count": null,
   "metadata": {},
   "outputs": [],
   "source": [
    "params['n'] = 50 ; params['p']=500 ; params['h1']=6 ; params['h2']=None ; params['h4']=4\n",
    "params['h3_1_2'] = 0\n",
    "params['h3_3_4'] = 0.30 \n",
    "params['h3_5_6'] = 0.55  \n",
    "params['h3_7_8'] = 0.80 \n",
    "params['h3_9_10'] = 1 \n",
    "\n",
    "np.random.seed(123)\n",
    "params['w'] = np.random.randint(1, 11, params['p']) \n",
    "\n",
    "parameter_list = np.round(np.arange(0.4, 2.2, 0.2), 2)"
   ]
  },
  {
   "cell_type": "code",
   "execution_count": null,
   "metadata": {},
   "outputs": [],
   "source": [
    "results1 = get_results1('h2', parameter_list, params, model='integer')"
   ]
  },
  {
   "cell_type": "code",
   "execution_count": null,
   "metadata": {},
   "outputs": [],
   "source": [
    "results2 = get_results2('h2', parameter_list, results1)"
   ]
  },
  {
   "cell_type": "markdown",
   "metadata": {},
   "source": [
    "- **Problem type (feasible - not feasible) vs $h_2$**"
   ]
  },
  {
   "cell_type": "code",
   "execution_count": null,
   "metadata": {},
   "outputs": [],
   "source": [
    "plt.figure(figsize=(8, 5))\n",
    "ax = sns.scatterplot(y=results2['h2']['type'], x=parameter_list, color='red', s=200)\n",
    "plt.title('type vs h2', size=15)\n",
    "ax.set_ylabel('type', size=12)\n",
    "ax.set_xlabel('h2', size=12)\n",
    "plt.xticks(parameter_list, fontsize=12)\n",
    "plt.yticks(fontsize=11)\n",
    "plt.show()"
   ]
  },
  {
   "cell_type": "markdown",
   "metadata": {},
   "source": [
    "**Interpretation of the results:**\n",
    "\n",
    "Analogous interpretation to the one made for the linear model."
   ]
  },
  {
   "cell_type": "markdown",
   "metadata": {},
   "source": [
    "- **Number of patients seen vs $h_2$**"
   ]
  },
  {
   "cell_type": "code",
   "execution_count": null,
   "metadata": {},
   "outputs": [],
   "source": [
    "plt.figure(figsize=(8, 5))\n",
    "ax = sns.lineplot(y=results2['h2']['num_patients_seen'].values(), x=results2['h2']['feasible'], marker='o', markersize=7.5, color='red')\n",
    "plt.title('number of patients seen vs h2', size=15)\n",
    "ax.set_ylabel('number of patients seen', size=12)\n",
    "ax.set_xlabel('h2', size=12)\n",
    "plt.xticks(results2['h2']['feasible'], fontsize=12)\n",
    "plt.yticks(fontsize=11)\n",
    "plt.show()"
   ]
  },
  {
   "cell_type": "markdown",
   "metadata": {},
   "source": [
    "**Interpretation of the results:**\n",
    "\n",
    "Analogous interpretation to the one made for $h_1$."
   ]
  },
  {
   "cell_type": "markdown",
   "metadata": {},
   "source": [
    "- **Optimal value of the objective function vs $h_2$**"
   ]
  },
  {
   "cell_type": "code",
   "execution_count": null,
   "metadata": {},
   "outputs": [],
   "source": [
    "plt.figure(figsize=(8, 5))\n",
    "ax = sns.lineplot(y=np.round(list(results2['h2']['f_optimal_feasible'].values()), 3), x=results2['h2']['feasible'], marker='o', markersize=7.5, color='red')\n",
    "plt.title('$f$ optimal vs $h_2$', size=15)\n",
    "ax.set_ylabel('$f$ optimal', size=12)\n",
    "ax.set_xlabel('$h_2$', size=12)\n",
    "plt.xticks(results2['h2']['feasible'], fontsize=12)\n",
    "plt.yticks(fontsize=11)\n",
    "plt.show()"
   ]
  },
  {
   "cell_type": "markdown",
   "metadata": {},
   "source": [
    "**Interpretation of the results:**\n",
    "\n",
    "Analogous interpretation to the one made for the linear model."
   ]
  },
  {
   "cell_type": "markdown",
   "metadata": {},
   "source": [
    "- **Average time spent per patient vs $h_2$**"
   ]
  },
  {
   "cell_type": "code",
   "execution_count": null,
   "metadata": {},
   "outputs": [],
   "source": [
    "plt.figure(figsize=(8, 5))\n",
    "ax = sns.lineplot(y=results2['h2']['avg_time_per_patient'].values(), x=results2['h2']['feasible'], marker='o', markersize=7.5, color='red')\n",
    "plt.title('Avg. time per patient vs $h_2$', size=15)\n",
    "ax.set_ylabel('Avg. time per patient', size=12)\n",
    "ax.set_xlabel('$h_2$', size=12)\n",
    "plt.xticks(results2['h2']['feasible'], fontsize=12)\n",
    "plt.yticks(fontsize=11)\n",
    "plt.show()"
   ]
  },
  {
   "cell_type": "markdown",
   "metadata": {},
   "source": [
    "**Interpretation of the results:**\n",
    "\n",
    "Analogous interpretation to the one made for the linear model."
   ]
  },
  {
   "cell_type": "markdown",
   "metadata": {},
   "source": [
    "- **Median time spent per patient vs $h_2$**"
   ]
  },
  {
   "cell_type": "code",
   "execution_count": null,
   "metadata": {},
   "outputs": [],
   "source": [
    "plt.figure(figsize=(8, 5))\n",
    "ax = sns.lineplot(y=results2['h2']['median_time_per_patient'].values(), x=results2['h2']['feasible'], marker='o', markersize=7.5, color='red')\n",
    "plt.title('Median time per patient vs $h_2$', size=15)\n",
    "ax.set_ylabel('Median time per patient', size=12)\n",
    "ax.set_xlabel('$h_2$', size=12)\n",
    "plt.xticks(results2['h2']['feasible'], fontsize=12)\n",
    "plt.yticks(fontsize=11)\n",
    "plt.show()"
   ]
  },
  {
   "cell_type": "markdown",
   "metadata": {},
   "source": [
    "**Interpretation of the results:**\n",
    "\n",
    "Analogous interpretation to the one made for the linear model."
   ]
  },
  {
   "cell_type": "markdown",
   "metadata": {},
   "source": [
    "- **$75$-quantile of time spent per patient vs $h_2$**"
   ]
  },
  {
   "cell_type": "code",
   "execution_count": null,
   "metadata": {},
   "outputs": [],
   "source": [
    "plt.figure(figsize=(8, 5))\n",
    "ax = sns.lineplot(y=results2['h2']['Q75_time_per_patient'].values(), x=results2['h2']['feasible'], marker='o', markersize=7.5, color='red')\n",
    "plt.title('Q75 time per patient vs $h_2$', size=15)\n",
    "ax.set_ylabel('Q75 time per patient', size=12)\n",
    "ax.set_xlabel('$h_2$', size=12)\n",
    "plt.xticks(results2['h2']['feasible'], fontsize=12)\n",
    "plt.yticks(fontsize=11)\n",
    "plt.show()"
   ]
  },
  {
   "cell_type": "markdown",
   "metadata": {},
   "source": [
    "**Interpretation of the results:**\n",
    "\n",
    "Analogous interpretation to the one made for the linear model."
   ]
  },
  {
   "cell_type": "markdown",
   "metadata": {},
   "source": [
    "- **$25$-quantile of time spent per patient vs $h_2$**"
   ]
  },
  {
   "cell_type": "code",
   "execution_count": null,
   "metadata": {},
   "outputs": [],
   "source": [
    "plt.figure(figsize=(8, 5))\n",
    "ax = sns.lineplot(y=results2['h2']['Q25_time_per_patient'].values(), x=results2['h2']['feasible'], marker='o', markersize=7.5, color='red')\n",
    "plt.title('Q25 time per patient vs $h_2$', size=15)\n",
    "ax.set_ylabel('Q25 time per patient', size=12)\n",
    "ax.set_xlabel('$h_2$', size=12)\n",
    "plt.xticks(results2['h2']['feasible'], fontsize=12)\n",
    "plt.yticks(fontsize=11)\n",
    "plt.show()"
   ]
  },
  {
   "cell_type": "markdown",
   "metadata": {},
   "source": [
    "**Interpretation of the results:**\n",
    "\n",
    "Analogous interpretation to the one made for the linear model."
   ]
  },
  {
   "cell_type": "markdown",
   "metadata": {},
   "source": [
    "- **Average time spent per patient vs $w$ vs $h_2$**"
   ]
  },
  {
   "cell_type": "code",
   "execution_count": null,
   "metadata": {},
   "outputs": [],
   "source": [
    "plt.figure(figsize=(8, 5))\n",
    "for i, h2 in zip(results2['h2']['avg_time_patient_per_w'].keys(), results2['h2']['feasible']) :\n",
    "    ax = sns.lineplot(y=results2['h2']['avg_time_patient_per_w'][i].values(), x=results2['h2']['avg_time_patient_per_w'][i].keys(), \n",
    "                      label=h2, marker='o', markersize=6)\n",
    "plt.title('Avg. time per patient vs $w$ vs $h_2$', size=15)\n",
    "ax.set_ylabel('Avg. time per patient', size=12)\n",
    "ax.set_xlabel('$w$', size=12)\n",
    "plt.xticks(list(results2['h2']['avg_time_patient_per_w'][i].keys()), fontsize=12)\n",
    "plt.yticks(fontsize=11)\n",
    "plt.legend(title='$h_2$', loc='upper right', bbox_to_anchor=(1.2, 1), fontsize=11)\n",
    "plt.show()"
   ]
  },
  {
   "cell_type": "markdown",
   "metadata": {},
   "source": [
    "**Interpretation of the results:**\n",
    "\n",
    "Analogous interpretation to the one made for the linear model."
   ]
  },
  {
   "cell_type": "markdown",
   "metadata": {},
   "source": [
    "##### **Analysis of $h_3$ parameter**\n",
    "\n",
    "$h_3 :=$  minimum time time spent in each patient, taking into account their severity/importance (this quantity depends on $w_j$).\n"
   ]
  },
  {
   "cell_type": "markdown",
   "metadata": {},
   "source": [
    "##### **$h_3^{12}$ parameter**\n",
    "\n",
    "$h_3^{12} :=$  minimum time time spent in patients with $w_j \\in \\lbrace 1, 2 \\rbrace$"
   ]
  },
  {
   "cell_type": "code",
   "execution_count": null,
   "metadata": {},
   "outputs": [],
   "source": [
    "params['n'] = 50 ; params['p']=500 ; params['h1']=6 ; params['h2']=1 ; params['h4']=4\n",
    "params['h3_1_2'] = None \n",
    "params['h3_3_4'] = 0.30 \n",
    "params['h3_5_6'] = 0.55  \n",
    "params['h3_7_8'] = 0.80 \n",
    "params['h3_9_10'] = 1 \n",
    "\n",
    "np.random.seed(123)\n",
    "params['w'] = np.random.randint(1, 11, params['p']) \n",
    "\n",
    "parameter_list = np.arange(0, 0.50, 0.05)"
   ]
  },
  {
   "cell_type": "code",
   "execution_count": null,
   "metadata": {},
   "outputs": [],
   "source": [
    "results1 = get_results1('h3_1_2', parameter_list, params, model='integer')"
   ]
  },
  {
   "cell_type": "code",
   "execution_count": null,
   "metadata": {},
   "outputs": [],
   "source": [
    "results2 = get_results2('h3_1_2', parameter_list, results1)"
   ]
  },
  {
   "cell_type": "markdown",
   "metadata": {},
   "source": [
    "- **Problem type (feasible - not feasible) vs $h_3^{12}$**"
   ]
  },
  {
   "cell_type": "code",
   "execution_count": null,
   "metadata": {},
   "outputs": [],
   "source": [
    "plt.figure(figsize=(8, 5))\n",
    "ax = sns.scatterplot(y=results2['h3_1_2']['type'], x=parameter_list, color='red', s=200)\n",
    "plt.title('type vs $h_3^{12}$', size=15)\n",
    "ax.set_ylabel('type', size=12)\n",
    "ax.set_xlabel('$h_3^{12}$', size=12)\n",
    "plt.xticks(parameter_list, fontsize=12)\n",
    "plt.yticks(fontsize=11)\n",
    "plt.show()"
   ]
  },
  {
   "cell_type": "markdown",
   "metadata": {},
   "source": [
    "**Interpretation of the results:**\n",
    "\n",
    "Analogous interpretation to the one made for the linear model."
   ]
  },
  {
   "cell_type": "markdown",
   "metadata": {},
   "source": [
    "- **Number of patients seen vs $h_3^{12}$**"
   ]
  },
  {
   "cell_type": "code",
   "execution_count": null,
   "metadata": {},
   "outputs": [],
   "source": [
    "plt.figure(figsize=(8, 5))\n",
    "ax = sns.lineplot(y=results2['h3_1_2']['num_patients_seen'].values(), x=results2['h3_1_2']['feasible'], \n",
    "                  marker='o', markersize=7.5, color='red')\n",
    "plt.title('number of patients seen vs h3_1_2', size=15)\n",
    "ax.set_ylabel('number of patients seen', size=12)\n",
    "ax.set_xlabel('h3_1_2', size=12)\n",
    "plt.xticks(results2['h3_1_2']['feasible'], fontsize=12)\n",
    "plt.yticks(fontsize=11)\n",
    "plt.show()"
   ]
  },
  {
   "cell_type": "markdown",
   "metadata": {},
   "source": [
    "**Interpretation of the results:**\n",
    "\n",
    "Even when $h_3^{12}=0$, the number of patients seen is the maximum possible $(p)$, thanks to the new constraint added in the binary model."
   ]
  },
  {
   "cell_type": "markdown",
   "metadata": {},
   "source": [
    "- **Optimal value of the objective function vs $h_3^{12}$**"
   ]
  },
  {
   "cell_type": "code",
   "execution_count": null,
   "metadata": {},
   "outputs": [],
   "source": [
    "plt.figure(figsize=(8, 5))\n",
    "ax = sns.lineplot(y=results2['h3_1_2']['f_optimal_feasible'].values(), x=results2['h3_1_2']['feasible'], marker='o', markersize=7.5, color='red')\n",
    "plt.title('$f$ optimal vs $h_3^{12}$', size=15)\n",
    "ax.set_ylabel('$f$ optimal', size=12)\n",
    "ax.set_xlabel('$h_3^{12}$', size=12)\n",
    "plt.xticks(results2['h3_1_2']['feasible'], fontsize=12)\n",
    "plt.yticks(fontsize=11)\n",
    "plt.show()"
   ]
  },
  {
   "cell_type": "markdown",
   "metadata": {},
   "source": [
    "**Interpretation of the results:**\n",
    "\n",
    "Analogous interpretation to the one made for the linear model."
   ]
  },
  {
   "cell_type": "markdown",
   "metadata": {},
   "source": [
    "- **Average time spent per patient vs $h_3^{12}$**"
   ]
  },
  {
   "cell_type": "code",
   "execution_count": null,
   "metadata": {},
   "outputs": [],
   "source": [
    "plt.figure(figsize=(8, 5))\n",
    "ax = sns.lineplot(y=results2['h3_1_2']['avg_time_per_patient'].values(), x=results2['h3_1_2']['feasible'], marker='o', markersize=7.5, color='red')\n",
    "plt.title('Avg. time per patient vs $h_3^{12}$', size=15)\n",
    "ax.set_ylabel('Avg. time per patient', size=12)\n",
    "ax.set_xlabel('$h_3^{12}$', size=12)\n",
    "plt.xticks(results2['h3_1_2']['feasible'], fontsize=12)\n",
    "plt.yticks(fontsize=11)\n",
    "plt.show()"
   ]
  },
  {
   "cell_type": "markdown",
   "metadata": {},
   "source": [
    "**Interpretation of the results:**\n",
    "\n",
    "Analogous interpretation to the one made for the linear model."
   ]
  },
  {
   "cell_type": "markdown",
   "metadata": {},
   "source": [
    "- **Median time spent per patient vs $h_3^{12}$**"
   ]
  },
  {
   "cell_type": "code",
   "execution_count": null,
   "metadata": {},
   "outputs": [],
   "source": [
    "plt.figure(figsize=(8, 5))\n",
    "ax = sns.lineplot(y=results2['h3_1_2']['median_time_per_patient'].values(), x=results2['h3_1_2']['feasible'], marker='o', markersize=7.5, color='red')\n",
    "plt.title('Median time per patient vs $h_3^{12}$', size=15)\n",
    "ax.set_ylabel('Median time per patient', size=12)\n",
    "ax.set_xlabel('$h_3^{12}$', size=12)\n",
    "plt.xticks(results2['h3_1_2']['feasible'], fontsize=12)\n",
    "plt.yticks(fontsize=11)\n",
    "plt.show()"
   ]
  },
  {
   "cell_type": "markdown",
   "metadata": {},
   "source": [
    "**Interpretation of the results:**\n",
    "\n",
    "Analogous interpretation to the one made for the linear model."
   ]
  },
  {
   "cell_type": "markdown",
   "metadata": {},
   "source": [
    "- **$75$-quantile time spent per patient vs $h_3^{12}$**"
   ]
  },
  {
   "cell_type": "code",
   "execution_count": null,
   "metadata": {},
   "outputs": [],
   "source": [
    "plt.figure(figsize=(8, 5))\n",
    "ax = sns.lineplot(y=results2['h3_1_2']['Q75_time_per_patient'].values(), x=results2['h3_1_2']['feasible'], marker='o', markersize=7.5, color='red')\n",
    "plt.title('Q75 time per patient vs $h_3^{12}$', size=15)\n",
    "ax.set_ylabel('Q75 time per patient', size=12)\n",
    "ax.set_xlabel('$h_3^{12}$', size=12)\n",
    "plt.xticks(results2['h3_1_2']['feasible'], fontsize=12)\n",
    "plt.yticks(fontsize=11)\n",
    "plt.show()"
   ]
  },
  {
   "cell_type": "markdown",
   "metadata": {},
   "source": [
    "**Interpretation of the results:**\n",
    "\n",
    "Analogous interpretation to the one made for the linear model."
   ]
  },
  {
   "cell_type": "markdown",
   "metadata": {},
   "source": [
    "- **$25$-quantile time spent per patient vs $h_3^{12}$**"
   ]
  },
  {
   "cell_type": "code",
   "execution_count": null,
   "metadata": {},
   "outputs": [],
   "source": [
    "plt.figure(figsize=(8, 5))\n",
    "ax = sns.lineplot(y=results2['h3_1_2']['Q25_time_per_patient'].values(), x=results2['h3_1_2']['feasible'], marker='o', markersize=7.5, color='red')\n",
    "plt.title('Q25 time per patient vs $h_3^{12}$', size=15)\n",
    "ax.set_ylabel('Q25 time per patient', size=12)\n",
    "ax.set_xlabel('$h_3^{12}$', size=12)\n",
    "plt.xticks(results2['h3_1_2']['feasible'], fontsize=12)\n",
    "plt.yticks(fontsize=11)\n",
    "plt.show()"
   ]
  },
  {
   "cell_type": "markdown",
   "metadata": {},
   "source": [
    "**Interpretation of the results:**\n",
    "\n",
    "Analogous interpretation to the one made for the linear model."
   ]
  },
  {
   "cell_type": "markdown",
   "metadata": {},
   "source": [
    "- **Average time spent per patient vs $w$ vs $h_3^{12}$**"
   ]
  },
  {
   "cell_type": "code",
   "execution_count": null,
   "metadata": {},
   "outputs": [],
   "source": [
    "plt.figure(figsize=(9, 6))\n",
    "for i, h3_1_2 in zip(results2['h3_1_2']['avg_time_patient_per_w'].keys(), results2['h3_1_2']['feasible']) :\n",
    "    ax = sns.lineplot(y=results2['h3_1_2']['avg_time_patient_per_w'][i].values(), x=results2['h3_1_2']['avg_time_patient_per_w'][i].keys(), \n",
    "                      label=round(h3_1_2,2), marker='o', markersize=6)\n",
    "plt.title('Avg. time per patient vs $w$ vs $h_3^{12}$', size=15)\n",
    "ax.set_ylabel('Avg. time per patient', size=12)\n",
    "ax.set_xlabel('$w$', size=12)\n",
    "plt.xticks(list(results2['h3_1_2']['avg_time_patient_per_w'][i].keys()), fontsize=12)\n",
    "plt.yticks(np.arange(0,2, 0.15), fontsize=11)\n",
    "plt.legend(title='$h_3^{12}$', loc='upper right', bbox_to_anchor=(1.2, 1), fontsize=11)\n",
    "plt.show()"
   ]
  },
  {
   "cell_type": "markdown",
   "metadata": {},
   "source": [
    "**Interpretation of the results:**\n",
    "\n",
    "Analogous interpretation to the one made for the linear model."
   ]
  },
  {
   "cell_type": "markdown",
   "metadata": {},
   "source": [
    "**Analysis of $h_3^{34}$ parameter**\n",
    "\n",
    "$h_3^{34} :=$  minimum time time spent in patients with $w_j \\in \\lbrace 3, 4 \\rbrace$"
   ]
  },
  {
   "cell_type": "code",
   "execution_count": null,
   "metadata": {},
   "outputs": [],
   "source": [
    "params['n'] = 50 ; params['p']=500 ; params['h1']=6 ; params['h2']=1 ; params['h4']=4\n",
    "params['h3_1_2'] = 0.10 \n",
    "params['h3_3_4'] = None\n",
    "params['h3_5_6'] = 0.55  \n",
    "params['h3_7_8'] = 0.80 \n",
    "params['h3_9_10'] = 1 \n",
    "\n",
    "np.random.seed(123)\n",
    "params['w'] = np.random.randint(1, 11, params['p']) \n",
    "\n",
    "parameter_list = np.arange(0, 0.8, 0.1)"
   ]
  },
  {
   "cell_type": "code",
   "execution_count": null,
   "metadata": {},
   "outputs": [],
   "source": [
    "results1 = get_results1('h3_3_4', parameter_list, params, model='integer')"
   ]
  },
  {
   "cell_type": "code",
   "execution_count": null,
   "metadata": {},
   "outputs": [],
   "source": [
    "results2 = get_results2('h3_3_4', parameter_list, results1)"
   ]
  },
  {
   "cell_type": "markdown",
   "metadata": {},
   "source": [
    "- **Problem type (feasible - not feasible) vs $h_3^{34}$**"
   ]
  },
  {
   "cell_type": "code",
   "execution_count": null,
   "metadata": {},
   "outputs": [],
   "source": [
    "plt.figure(figsize=(8, 5))\n",
    "ax = sns.scatterplot(y=results2['h3_3_4']['type'], x=parameter_list, color='red', s=200)\n",
    "plt.title('type vs $h_3^{34}$', size=15)\n",
    "ax.set_ylabel('type', size=12)\n",
    "ax.set_xlabel('$h_3^{34}$', size=12)\n",
    "plt.xticks(parameter_list, fontsize=12)\n",
    "plt.yticks(fontsize=11)\n",
    "plt.show()"
   ]
  },
  {
   "cell_type": "markdown",
   "metadata": {},
   "source": [
    "**Interpretation of the results:**\n",
    "\n",
    "Analogous interpretation to the one made for the linear model."
   ]
  },
  {
   "cell_type": "markdown",
   "metadata": {},
   "source": [
    "- **Number of patients seen vs $h_3^{34}$**"
   ]
  },
  {
   "cell_type": "code",
   "execution_count": null,
   "metadata": {},
   "outputs": [],
   "source": [
    "plt.figure(figsize=(8, 5))\n",
    "ax = sns.lineplot(y=results2['h3_3_4']['num_patients_seen'].values(), x=results2['h3_3_4']['feasible'], \n",
    "                  marker='o', markersize=7.5, color='red')\n",
    "plt.title('number of patients seen vs h3_3_4', size=15)\n",
    "ax.set_ylabel('number of patients seen', size=12)\n",
    "ax.set_xlabel('h3_3_4', size=12)\n",
    "plt.xticks(results2['h3_3_4']['feasible'], fontsize=12)\n",
    "plt.yticks(fontsize=11)\n",
    "plt.show()"
   ]
  },
  {
   "cell_type": "markdown",
   "metadata": {},
   "source": [
    "**Interpretation of the results:**\n",
    "\n",
    " Even when $h_3^{34}=0$, the number of patients seen is the maximum possible $(p)$, thanks to the new constraint added in the binary model."
   ]
  },
  {
   "cell_type": "markdown",
   "metadata": {},
   "source": [
    "- **Optimal value of the objective function vs $h_3^{34}$**"
   ]
  },
  {
   "cell_type": "code",
   "execution_count": null,
   "metadata": {},
   "outputs": [],
   "source": [
    "plt.figure(figsize=(8, 5))\n",
    "ax = sns.lineplot(y=results2['h3_3_4']['f_optimal_feasible'].values(), x=results2['h3_3_4']['feasible'], marker='o', markersize=7.5, color='red')\n",
    "plt.title('$f$ optimal vs $h_3^{34}$', size=15)\n",
    "ax.set_ylabel('$f$ optimal', size=12)\n",
    "ax.set_xlabel('$h_3^{34}$', size=12)\n",
    "plt.xticks(results2['h3_3_4']['feasible'], fontsize=12)\n",
    "plt.yticks(np.arange(2100, 2550, 50), fontsize=11)\n",
    "plt.show()"
   ]
  },
  {
   "cell_type": "markdown",
   "metadata": {},
   "source": [
    "**Interpretation of the results:**\n",
    "\n",
    "Analogous interpretation to the one made for the linear model."
   ]
  },
  {
   "cell_type": "markdown",
   "metadata": {},
   "source": [
    "- **Average time spent per patient vs $h_3^{34}$**"
   ]
  },
  {
   "cell_type": "code",
   "execution_count": null,
   "metadata": {},
   "outputs": [],
   "source": [
    "plt.figure(figsize=(8, 5))\n",
    "ax = sns.lineplot(y=results2['h3_3_4']['avg_time_per_patient'].values(), x=results2['h3_3_4']['feasible'], marker='o', markersize=7.5, color='red')\n",
    "plt.title('Avg. time per patient vs $h_3^{34}$', size=15)\n",
    "ax.set_ylabel('Avg. time per patient', size=12)\n",
    "ax.set_xlabel('$h_3^{34}$', size=12)\n",
    "plt.xticks(results2['h3_3_4']['feasible'], fontsize=12)\n",
    "plt.yticks(fontsize=11)\n",
    "plt.show()"
   ]
  },
  {
   "cell_type": "markdown",
   "metadata": {},
   "source": [
    "**Interpretation of the results:**\n",
    "\n",
    "Analogous interpretation to the one made for the linear model."
   ]
  },
  {
   "cell_type": "markdown",
   "metadata": {},
   "source": [
    "- **Median time spent per patient vs $h_3^{34}$**"
   ]
  },
  {
   "cell_type": "code",
   "execution_count": null,
   "metadata": {},
   "outputs": [],
   "source": [
    "plt.figure(figsize=(8, 5))\n",
    "ax = sns.lineplot(y=results2['h3_3_4']['median_time_per_patient'].values(), x=results2['h3_3_4']['feasible'], marker='o', markersize=7.5, color='red')\n",
    "plt.title('Median time per patient vs $h_3^{34}$', size=15)\n",
    "ax.set_ylabel('Median time per patient', size=12)\n",
    "ax.set_xlabel('$h_3^{34}$', size=12)\n",
    "plt.xticks(results2['h3_3_4']['feasible'], fontsize=12)\n",
    "plt.yticks(fontsize=11)\n",
    "plt.show()"
   ]
  },
  {
   "cell_type": "markdown",
   "metadata": {},
   "source": [
    "**Interpretation of the results:**\n",
    "\n",
    "Analogous interpretation to the one made for the linear model."
   ]
  },
  {
   "cell_type": "markdown",
   "metadata": {},
   "source": [
    "- **$75$-quantile time spent per patient vs $h_3^{34}$**"
   ]
  },
  {
   "cell_type": "code",
   "execution_count": null,
   "metadata": {},
   "outputs": [],
   "source": [
    "plt.figure(figsize=(8, 5))\n",
    "ax = sns.lineplot(y=results2['h3_3_4']['Q75_time_per_patient'].values(), x=results2['h3_3_4']['feasible'], marker='o', markersize=7.5, color='red')\n",
    "plt.title('Q75 time per patient vs $h_3^{34}$', size=15)\n",
    "ax.set_ylabel('Q75 time per patient', size=12)\n",
    "ax.set_xlabel('$h_3^{34}$', size=12)\n",
    "plt.xticks(results2['h3_3_4']['feasible'], fontsize=12)\n",
    "plt.yticks(fontsize=11)\n",
    "plt.show()"
   ]
  },
  {
   "cell_type": "markdown",
   "metadata": {},
   "source": [
    "**Interpretation of the results:**\n",
    "\n",
    "Analogous interpretation to the one made for the linear model."
   ]
  },
  {
   "cell_type": "markdown",
   "metadata": {},
   "source": [
    "- **$25$-quantile time spent per patient vs $h_3^{34}$**"
   ]
  },
  {
   "cell_type": "code",
   "execution_count": null,
   "metadata": {},
   "outputs": [],
   "source": [
    "plt.figure(figsize=(8, 5))\n",
    "ax = sns.lineplot(y=results2['h3_3_4']['Q25_time_per_patient'].values(), x=results2['h3_3_4']['feasible'], marker='o', markersize=7.5, color='red')\n",
    "plt.title('Q25 time per patient vs $h_3^{34}$', size=15)\n",
    "ax.set_ylabel('Q25 time per patient', size=12)\n",
    "ax.set_xlabel('$h_3^{34}$', size=12)\n",
    "plt.xticks(results2['h3_3_4']['feasible'], fontsize=12)\n",
    "plt.yticks(fontsize=11)\n",
    "plt.show()"
   ]
  },
  {
   "cell_type": "markdown",
   "metadata": {},
   "source": [
    "**Interpretation of the results:**\n",
    "\n",
    "Analogous interpretation to the one made for the linear model."
   ]
  },
  {
   "cell_type": "markdown",
   "metadata": {},
   "source": [
    "- **Average time spent per patient vs $w$ vs $h_3^{34}$**"
   ]
  },
  {
   "cell_type": "code",
   "execution_count": null,
   "metadata": {},
   "outputs": [],
   "source": [
    "plt.figure(figsize=(9, 6))\n",
    "for i, h3_3_4 in zip(results2['h3_3_4']['avg_time_patient_per_w'].keys(), results2['h3_3_4']['feasible']) :\n",
    "    ax = sns.lineplot(y=results2['h3_3_4']['avg_time_patient_per_w'][i].values(), x=results2['h3_3_4']['avg_time_patient_per_w'][i].keys(), \n",
    "                      label=round(h3_3_4, 2), marker='o', markersize=6)\n",
    "plt.title('Avg. time per patient vs $w$ vs $h_3^{34}$', size=15)\n",
    "ax.set_ylabel('Avg. time per patient', size=12)\n",
    "ax.set_xlabel('$w$', size=12)\n",
    "plt.xticks(list(results2['h3_3_4']['avg_time_patient_per_w'][i].keys()), fontsize=12)\n",
    "plt.yticks(np.arange(0, 2.45, 0.15), fontsize=11)\n",
    "plt.legend(title='$h_3^{34}$', loc='upper right', bbox_to_anchor=(1.2, 1), fontsize=11)\n",
    "plt.show()"
   ]
  },
  {
   "cell_type": "markdown",
   "metadata": {},
   "source": [
    "**Interpretation of the results:**\n",
    "\n",
    "Analogous interpretation to the one made for the linear model."
   ]
  },
  {
   "cell_type": "markdown",
   "metadata": {},
   "source": [
    "**Analysis of $h_3^{56}$ parameter**\n",
    "\n",
    "$h_3^{56} :=$  minimum time time spent in patients with $w_j \\in \\lbrace 5, 6 \\rbrace$"
   ]
  },
  {
   "cell_type": "code",
   "execution_count": null,
   "metadata": {},
   "outputs": [],
   "source": [
    "params['n'] = 50 ; params['p']=500 ; params['h1']=6 ; params['h2']=1 ; params['h4']=4\n",
    "params['h3_1_2'] = 0.10 \n",
    "params['h3_3_4'] = 0.30\n",
    "params['h3_5_6'] = None  \n",
    "params['h3_7_8'] = 0.80 \n",
    "params['h3_9_10'] = 1 \n",
    "\n",
    "np.random.seed(123)\n",
    "params['w'] = np.random.randint(1, 11, params['p']) \n",
    "\n",
    "parameter_list = np.arange(0, 1.1, 0.1)"
   ]
  },
  {
   "cell_type": "code",
   "execution_count": null,
   "metadata": {},
   "outputs": [],
   "source": [
    "results1 = get_results1('h3_5_6', parameter_list, params, model='integer')"
   ]
  },
  {
   "cell_type": "code",
   "execution_count": null,
   "metadata": {},
   "outputs": [],
   "source": [
    "results2 = get_results2('h3_5_6', parameter_list, results1)"
   ]
  },
  {
   "cell_type": "markdown",
   "metadata": {},
   "source": [
    "- **Problem type (feasible - not feasible) vs $h_3^{56}$**"
   ]
  },
  {
   "cell_type": "code",
   "execution_count": null,
   "metadata": {},
   "outputs": [],
   "source": [
    "plt.figure(figsize=(8, 5))\n",
    "ax = sns.scatterplot(y=results2['h3_5_6']['type'], x=parameter_list, color='red', s=200)\n",
    "plt.title('type vs $h_3^{56}$', size=15)\n",
    "ax.set_ylabel('type', size=12)\n",
    "ax.set_xlabel('$h_3^{56}$', size=12)\n",
    "plt.xticks(parameter_list, fontsize=12)\n",
    "plt.yticks(fontsize=11)\n",
    "plt.show()"
   ]
  },
  {
   "cell_type": "markdown",
   "metadata": {},
   "source": [
    "**Interpretation of the results:**\n",
    "\n",
    "Analogous interpretation to the one made for the linear model."
   ]
  },
  {
   "cell_type": "markdown",
   "metadata": {},
   "source": [
    "- **Number of patients seen vs $h_3^{56}$**"
   ]
  },
  {
   "cell_type": "code",
   "execution_count": null,
   "metadata": {},
   "outputs": [],
   "source": [
    "plt.figure(figsize=(8, 5))\n",
    "ax = sns.lineplot(y=results2['h3_5_6']['num_patients_seen'].values(), x=results2['h3_5_6']['feasible'], \n",
    "                  marker='o', markersize=7.5, color='red')\n",
    "plt.title('number of patients seen vs h3_5_6', size=15)\n",
    "ax.set_ylabel('number of patients seen', size=12)\n",
    "ax.set_xlabel('h3_5_6', size=12)\n",
    "plt.xticks(results2['h3_5_6']['feasible'], fontsize=12)\n",
    "# plt.yticks(np.arange(400, 520, 20), fontsize=11)\n",
    "plt.show()"
   ]
  },
  {
   "cell_type": "markdown",
   "metadata": {},
   "source": [
    "**Interpretation of the results:**\n",
    "\n",
    " Even when $h_3^{56}=0$, the number of patients seen is the maximum possible $(p)$, thanks to the new constraint added in the binary model."
   ]
  },
  {
   "cell_type": "markdown",
   "metadata": {},
   "source": [
    "- **Optimal value of the objective function vs $h_3^{56}$**"
   ]
  },
  {
   "cell_type": "code",
   "execution_count": null,
   "metadata": {},
   "outputs": [],
   "source": [
    "plt.figure(figsize=(8, 5))\n",
    "ax = sns.lineplot(y=results2['h3_5_6']['f_optimal_feasible'].values(), x=results2['h3_5_6']['feasible'], marker='o', markersize=7.5, color='red')\n",
    "plt.title('$f$ optimal vs $h_3^{56}$', size=15)\n",
    "ax.set_ylabel('$f$ optimal', size=12)\n",
    "ax.set_xlabel('$h_3^{56}$', size=12)\n",
    "plt.xticks(results2['h3_5_6']['feasible'], fontsize=12)\n",
    "plt.yticks(np.arange(2100, 2550, 50), fontsize=11)\n",
    "plt.show()"
   ]
  },
  {
   "cell_type": "markdown",
   "metadata": {},
   "source": [
    "**Interpretation of the results:**\n",
    "\n",
    "Analogous interpretation to the one made for the linear model."
   ]
  },
  {
   "cell_type": "markdown",
   "metadata": {},
   "source": [
    "- **Average time spent per patient vs $h_3^{56}$**"
   ]
  },
  {
   "cell_type": "code",
   "execution_count": null,
   "metadata": {},
   "outputs": [],
   "source": [
    "plt.figure(figsize=(8, 5))\n",
    "ax = sns.lineplot(y=results2['h3_5_6']['avg_time_per_patient'].values(), x=results2['h3_5_6']['feasible'], marker='o', markersize=7.5, color='red')\n",
    "plt.title('Avg. time per patient vs $h_3^{56}$', size=15)\n",
    "ax.set_ylabel('Avg. time per patient', size=12)\n",
    "ax.set_xlabel('$h_3^{56}$', size=12)\n",
    "plt.xticks(results2['h3_5_6']['feasible'], fontsize=12)\n",
    "plt.yticks(fontsize=11)\n",
    "plt.show()"
   ]
  },
  {
   "cell_type": "markdown",
   "metadata": {},
   "source": [
    "**Interpretation of the results:**\n",
    "\n",
    "Analogous interpretation to the one made for the linear model."
   ]
  },
  {
   "cell_type": "markdown",
   "metadata": {},
   "source": [
    "- **Median time spent per patient vs $h_3^{56}$**"
   ]
  },
  {
   "cell_type": "code",
   "execution_count": null,
   "metadata": {},
   "outputs": [],
   "source": [
    "plt.figure(figsize=(8, 5))\n",
    "ax = sns.lineplot(y=results2['h3_5_6']['median_time_per_patient'].values(), x=results2['h3_5_6']['feasible'], marker='o', markersize=7.5, color='red')\n",
    "plt.title('Median time per patient vs $h_3^{56}$', size=15)\n",
    "ax.set_ylabel('Median time per patient', size=12)\n",
    "ax.set_xlabel('$h_3^{56}$', size=12)\n",
    "plt.xticks(results2['h3_5_6']['feasible'], fontsize=12)\n",
    "plt.yticks(fontsize=11)\n",
    "plt.show()"
   ]
  },
  {
   "cell_type": "markdown",
   "metadata": {},
   "source": [
    "**Interpretation of the results:**\n",
    "\n",
    "Analogous interpretation to the one made for the linear model."
   ]
  },
  {
   "cell_type": "markdown",
   "metadata": {},
   "source": [
    "- **$75$-quantile time spent per patient vs $h_3^{56}$**"
   ]
  },
  {
   "cell_type": "code",
   "execution_count": null,
   "metadata": {},
   "outputs": [],
   "source": [
    "plt.figure(figsize=(8, 5))\n",
    "ax = sns.lineplot(y=results2['h3_5_6']['Q75_time_per_patient'].values(), x=results2['h3_5_6']['feasible'], marker='o', markersize=7.5, color='red')\n",
    "plt.title('Q75 time per patient vs $h_3^{56}$', size=15)\n",
    "ax.set_ylabel('Q75 time per patient', size=12)\n",
    "ax.set_xlabel('$h_3^{56}$', size=12)\n",
    "plt.xticks(results2['h3_5_6']['feasible'], fontsize=12)\n",
    "plt.yticks(fontsize=11)\n",
    "plt.show()"
   ]
  },
  {
   "cell_type": "markdown",
   "metadata": {},
   "source": [
    "**Interpretation of the results:**\n",
    "\n",
    "Analogous interpretation to the one made for the linear model."
   ]
  },
  {
   "cell_type": "markdown",
   "metadata": {},
   "source": [
    "- **$25$-quantile time spent per patient vs $h_3^{34}$**"
   ]
  },
  {
   "cell_type": "code",
   "execution_count": null,
   "metadata": {},
   "outputs": [],
   "source": [
    "plt.figure(figsize=(8, 5))\n",
    "ax = sns.lineplot(y=results2['h3_5_6']['Q25_time_per_patient'].values(), x=results2['h3_5_6']['feasible'], marker='o', markersize=7.5, color='red')\n",
    "plt.title('Q25 time per patient vs $h_3^{56}$', size=15)\n",
    "ax.set_ylabel('Q25 time per patient', size=12)\n",
    "ax.set_xlabel('$h_3^{56}$', size=12)\n",
    "plt.xticks(results2['h3_5_6']['feasible'], fontsize=12)\n",
    "plt.yticks(fontsize=11)\n",
    "plt.show()"
   ]
  },
  {
   "cell_type": "markdown",
   "metadata": {},
   "source": [
    "**Interpretation of the results:**\n",
    "\n",
    "Analogous interpretation to the one made for the linear model."
   ]
  },
  {
   "cell_type": "markdown",
   "metadata": {},
   "source": [
    "- **Average time spent per patient vs $w$ vs $h_3^{56}$**"
   ]
  },
  {
   "cell_type": "code",
   "execution_count": null,
   "metadata": {},
   "outputs": [],
   "source": [
    "plt.figure(figsize=(9, 6))\n",
    "for i, h3_5_6 in zip(results2['h3_5_6']['avg_time_patient_per_w'].keys(), results2['h3_5_6']['feasible']) :\n",
    "    ax = sns.lineplot(y=results2['h3_5_6']['avg_time_patient_per_w'][i].values(), x=results2['h3_5_6']['avg_time_patient_per_w'][i].keys(), \n",
    "                      label=round(h3_5_6, 2), marker='o', markersize=6)\n",
    "plt.title('Avg. time per patient vs $w$ vs $h_3^{56}$', size=15)\n",
    "ax.set_ylabel('Avg. time per patient', size=12)\n",
    "ax.set_xlabel('$w$', size=12)\n",
    "plt.xticks(list(results2['h3_5_6']['avg_time_patient_per_w'][i].keys()), fontsize=12)\n",
    "plt.yticks(np.arange(0,3, 0.25), fontsize=11)\n",
    "plt.legend(title='$h_3^{56}$', loc='upper right', bbox_to_anchor=(1.2, 1), fontsize=11)\n",
    "plt.show()"
   ]
  },
  {
   "cell_type": "markdown",
   "metadata": {},
   "source": [
    "**Interpretation of the results:**\n",
    "\n",
    "Analogous interpretation to the one made for the linear model."
   ]
  },
  {
   "cell_type": "markdown",
   "metadata": {},
   "source": [
    "**Analysis of $h_3^{78}$ parameter**\n",
    "\n",
    "$h_3^{78} :=$  minimum time time spent in patients with $w_j \\in \\lbrace 7, 8 \\rbrace$"
   ]
  },
  {
   "cell_type": "code",
   "execution_count": null,
   "metadata": {},
   "outputs": [],
   "source": [
    "params['n'] = 50 ; params['p']=500 ; params['h1']=6 ; params['h2']=1 ; params['h4']=4\n",
    "params['h3_1_2'] = 0.10 \n",
    "params['h3_3_4'] = 0.30\n",
    "params['h3_5_6'] = 0.55  \n",
    "params['h3_7_8'] = None \n",
    "params['h3_9_10'] = 1 \n",
    "\n",
    "np.random.seed(123)\n",
    "params['w'] = np.random.randint(1, 11, params['p']) \n",
    "\n",
    "parameter_list = np.arange(0, 1.3, 0.1)"
   ]
  },
  {
   "cell_type": "code",
   "execution_count": null,
   "metadata": {},
   "outputs": [],
   "source": [
    "results1 = get_results1('h3_7_8', parameter_list, params, model='integer')"
   ]
  },
  {
   "cell_type": "code",
   "execution_count": null,
   "metadata": {},
   "outputs": [],
   "source": [
    "results2 = get_results2('h3_7_8', parameter_list, results1)"
   ]
  },
  {
   "cell_type": "markdown",
   "metadata": {},
   "source": [
    "- **Problem type (feasible - not feasible) vs $h_3^{78}$**"
   ]
  },
  {
   "cell_type": "code",
   "execution_count": null,
   "metadata": {},
   "outputs": [],
   "source": [
    "plt.figure(figsize=(8, 5))\n",
    "ax = sns.scatterplot(y=results2['h3_7_8']['type'], x=parameter_list, color='red', s=200)\n",
    "plt.title('type vs $h_3^{78}$', size=15)\n",
    "ax.set_ylabel('type', size=12)\n",
    "ax.set_xlabel('$h_3^{78}$', size=12)\n",
    "plt.xticks(parameter_list, fontsize=12)\n",
    "plt.yticks(fontsize=11)\n",
    "plt.show()"
   ]
  },
  {
   "cell_type": "markdown",
   "metadata": {},
   "source": [
    "**Interpretation of the results:**\n",
    "\n",
    "Analogous interpretation to the one made for the linear model."
   ]
  },
  {
   "cell_type": "markdown",
   "metadata": {},
   "source": [
    "- **Number of patients seen vs $h_3^{78}$**"
   ]
  },
  {
   "cell_type": "code",
   "execution_count": null,
   "metadata": {},
   "outputs": [],
   "source": [
    "plt.figure(figsize=(8, 5))\n",
    "ax = sns.lineplot(y=results2['h3_7_8']['num_patients_seen'].values(), x=results2['h3_7_8']['feasible'], \n",
    "                  marker='o', markersize=7.5, color='red')\n",
    "plt.title('number of patients seen vs h3_7_8', size=15)\n",
    "ax.set_ylabel('number of patients seen', size=12)\n",
    "ax.set_xlabel('h3_7_8', size=12)\n",
    "plt.xticks(results2['h3_7_8']['feasible'], fontsize=12)\n",
    "plt.yticks(np.arange(380, 520, 20), fontsize=11)\n",
    "plt.show()"
   ]
  },
  {
   "cell_type": "markdown",
   "metadata": {},
   "source": [
    "**Interpretation of the results:**\n",
    "\n",
    " Even when $h_3^{78}=0$, the number of patients seen is the maximum possible $(p)$, thanks to the new constraint added in the binary model."
   ]
  },
  {
   "cell_type": "markdown",
   "metadata": {},
   "source": [
    "- **Optimal value of the objective function vs $h_3^{78}$**"
   ]
  },
  {
   "cell_type": "code",
   "execution_count": null,
   "metadata": {},
   "outputs": [],
   "source": [
    "plt.figure(figsize=(8, 5))\n",
    "ax = sns.lineplot(y=results2['h3_7_8']['f_optimal_feasible'].values(), x=results2['h3_7_8']['feasible'], marker='o', markersize=7.5, color='red')\n",
    "plt.title('$f$ optimal vs $h_3^{78}$', size=15)\n",
    "ax.set_ylabel('$f$ optimal', size=12)\n",
    "ax.set_xlabel('$h_3^{78}$', size=12)\n",
    "plt.xticks(results2['h3_7_8']['feasible'], fontsize=12)\n",
    "plt.yticks(np.arange(2100, 2550, 50), fontsize=11)\n",
    "plt.show()"
   ]
  },
  {
   "cell_type": "markdown",
   "metadata": {},
   "source": [
    "**Interpretation of the results:**\n",
    "\n",
    "Analogous interpretation to the one made for the linear model."
   ]
  },
  {
   "cell_type": "markdown",
   "metadata": {},
   "source": [
    "- **Average time spent per patient vs $h_3^{78}$**"
   ]
  },
  {
   "cell_type": "code",
   "execution_count": null,
   "metadata": {},
   "outputs": [],
   "source": [
    "plt.figure(figsize=(8, 5))\n",
    "ax = sns.lineplot(y=results2['h3_7_8']['avg_time_per_patient'].values(), x=results2['h3_7_8']['feasible'], marker='o', markersize=7.5, color='red')\n",
    "plt.title('Avg. time per patient vs $h_3^{78}$', size=15)\n",
    "ax.set_ylabel('Avg. time per patient', size=12)\n",
    "ax.set_xlabel('$h_3^{78}$', size=12)\n",
    "plt.xticks(results2['h3_7_8']['feasible'], fontsize=12)\n",
    "plt.yticks(fontsize=11)\n",
    "plt.show()"
   ]
  },
  {
   "cell_type": "markdown",
   "metadata": {},
   "source": [
    "**Interpretation of the results:**\n",
    "\n",
    "Analogous interpretation to the one made for the linear model."
   ]
  },
  {
   "cell_type": "markdown",
   "metadata": {},
   "source": [
    "- **Median time spent per patient vs $h_3^{78}$**"
   ]
  },
  {
   "cell_type": "code",
   "execution_count": null,
   "metadata": {},
   "outputs": [],
   "source": [
    "plt.figure(figsize=(8, 5))\n",
    "ax = sns.lineplot(y=results2['h3_7_8']['median_time_per_patient'].values(), x=results2['h3_7_8']['feasible'], marker='o', markersize=7.5, color='red')\n",
    "plt.title('Median time per patient vs $h_3^{78}$', size=15)\n",
    "ax.set_ylabel('Median time per patient', size=12)\n",
    "ax.set_xlabel('$h_3^{78}$', size=12)\n",
    "plt.xticks(results2['h3_7_8']['feasible'], fontsize=12)\n",
    "plt.yticks(fontsize=11)\n",
    "plt.show()"
   ]
  },
  {
   "cell_type": "markdown",
   "metadata": {},
   "source": [
    "**Interpretation of the results:**\n",
    "\n",
    "Analogous interpretation to the one made for the linear model."
   ]
  },
  {
   "cell_type": "markdown",
   "metadata": {},
   "source": [
    "- **$75$-quantile time spent per patient vs $h_3^{78}$**"
   ]
  },
  {
   "cell_type": "code",
   "execution_count": null,
   "metadata": {},
   "outputs": [],
   "source": [
    "plt.figure(figsize=(8, 5))\n",
    "ax = sns.lineplot(y=results2['h3_7_8']['Q75_time_per_patient'].values(), x=results2['h3_7_8']['feasible'], marker='o', markersize=7.5, color='red')\n",
    "plt.title('Q75 time per patient vs $h_3^{78}$', size=15)\n",
    "ax.set_ylabel('Q75 time per patient', size=12)\n",
    "ax.set_xlabel('$h_3^{78}$', size=12)\n",
    "plt.xticks(results2['h3_7_8']['feasible'], fontsize=12)\n",
    "plt.yticks(fontsize=11)\n",
    "plt.show()"
   ]
  },
  {
   "cell_type": "markdown",
   "metadata": {},
   "source": [
    "**Interpretation of the results:**\n",
    "\n",
    "Analogous interpretation to the one made for the linear model."
   ]
  },
  {
   "cell_type": "markdown",
   "metadata": {},
   "source": [
    "- **$25$-quantile time spent per patient vs $h_3^{78}$**"
   ]
  },
  {
   "cell_type": "code",
   "execution_count": null,
   "metadata": {},
   "outputs": [],
   "source": [
    "plt.figure(figsize=(8, 5))\n",
    "ax = sns.lineplot(y=results2['h3_7_8']['Q25_time_per_patient'].values(), x=results2['h3_7_8']['feasible'], marker='o', markersize=7.5, color='red')\n",
    "plt.title('Q25 time per patient vs $h_3^{78}$', size=15)\n",
    "ax.set_ylabel('Q25 time per patient', size=12)\n",
    "ax.set_xlabel('$h_3^{78}$', size=12)\n",
    "plt.xticks(results2['h3_7_8']['feasible'], fontsize=12)\n",
    "plt.yticks(fontsize=11)\n",
    "plt.show()"
   ]
  },
  {
   "cell_type": "markdown",
   "metadata": {},
   "source": [
    "**Interpretation of the results:**\n",
    "\n",
    "Analogous interpretation to the one made for the linear model."
   ]
  },
  {
   "cell_type": "markdown",
   "metadata": {},
   "source": [
    "- **Average time spent per patient vs $w$ vs $h_3^{78}$**"
   ]
  },
  {
   "cell_type": "code",
   "execution_count": null,
   "metadata": {},
   "outputs": [],
   "source": [
    "plt.figure(figsize=(9, 6))\n",
    "for i, h3_7_8 in zip(results2['h3_7_8']['avg_time_patient_per_w'].keys(), results2['h3_7_8']['feasible']) :\n",
    "    ax = sns.lineplot(y=results2['h3_7_8']['avg_time_patient_per_w'][i].values(), x=results2['h3_7_8']['avg_time_patient_per_w'][i].keys(), \n",
    "                      label=round(h3_7_8, 2), marker='o', markersize=6)\n",
    "plt.title('Avg. time per patient vs $w$ vs $h_3^{78}$', size=15)\n",
    "ax.set_ylabel('Avg. time per patient', size=12)\n",
    "ax.set_xlabel('$w$', size=12)\n",
    "plt.xticks(list(results2['h3_7_8']['avg_time_patient_per_w'][i].keys()), fontsize=12)\n",
    "plt.yticks(np.arange(0,4, 0.25), fontsize=11)\n",
    "plt.legend(title='$h_3^{78}$', loc='upper right', bbox_to_anchor=(1.2, 1), fontsize=11)\n",
    "plt.show()"
   ]
  },
  {
   "cell_type": "markdown",
   "metadata": {},
   "source": [
    "**Interpretation of the results:**\n",
    "\n",
    "Analogous interpretation to the one made for the linear model."
   ]
  },
  {
   "cell_type": "markdown",
   "metadata": {},
   "source": [
    "**Analysis of $h_3^{910}$ parameter**\n",
    "\n",
    "$h_3^{910} :=$  minimum time time spent in patients with $w_j \\in \\lbrace 9, 10 \\rbrace$"
   ]
  },
  {
   "cell_type": "code",
   "execution_count": null,
   "metadata": {},
   "outputs": [],
   "source": [
    "params['n'] = 50 ; params['p']=500 ; params['h1']=6 ; params['h2']=1 ; params['h4']=4\n",
    "params['h3_1_2'] = 0.10 \n",
    "params['h3_3_4'] = 0.30\n",
    "params['h3_5_6'] = 0.55  \n",
    "params['h3_7_8'] = 0.80 \n",
    "params['h3_9_10'] = None \n",
    "\n",
    "np.random.seed(123)\n",
    "params['w'] = np.random.randint(1, 11, params['p']) \n",
    "\n",
    "parameter_list = np.arange(0, 1.6, 0.1)"
   ]
  },
  {
   "cell_type": "code",
   "execution_count": null,
   "metadata": {},
   "outputs": [],
   "source": [
    "results1 = get_results1('h3_9_10', parameter_list, params, model='integer')"
   ]
  },
  {
   "cell_type": "code",
   "execution_count": null,
   "metadata": {},
   "outputs": [],
   "source": [
    "results2 = get_results2('h3_9_10', parameter_list, results1)"
   ]
  },
  {
   "cell_type": "markdown",
   "metadata": {},
   "source": [
    "- **Problem type (feasible - not feasible) vs $h_3^{910}$**"
   ]
  },
  {
   "cell_type": "code",
   "execution_count": null,
   "metadata": {},
   "outputs": [],
   "source": [
    "plt.figure(figsize=(8, 5))\n",
    "ax = sns.scatterplot(y=results2['h3_9_10']['type'], x=parameter_list, color='red', s=200)\n",
    "plt.title('type vs $h_3^{910}$', size=15)\n",
    "ax.set_ylabel('type', size=12)\n",
    "ax.set_xlabel('$h_3^{910}$', size=12)\n",
    "plt.xticks(parameter_list, fontsize=12)\n",
    "plt.yticks(fontsize=11)\n",
    "plt.show()"
   ]
  },
  {
   "cell_type": "markdown",
   "metadata": {},
   "source": [
    "**Interpretation of the results:**\n",
    "\n",
    "Analogous interpretation to the one made for the linear model."
   ]
  },
  {
   "cell_type": "markdown",
   "metadata": {},
   "source": [
    "- **Number of patients seen vs $h_3^{910}$**"
   ]
  },
  {
   "cell_type": "code",
   "execution_count": null,
   "metadata": {},
   "outputs": [],
   "source": [
    "plt.figure(figsize=(8, 5))\n",
    "ax = sns.lineplot(y=results2['h3_9_10']['num_patients_seen'].values(), x=results2['h3_9_10']['feasible'], \n",
    "                  marker='o', markersize=7.5, color='red')\n",
    "plt.title('number of patients seen vs h3_9_10', size=15)\n",
    "ax.set_ylabel('number of patients seen', size=12)\n",
    "ax.set_xlabel('h3_9_10', size=12)\n",
    "plt.xticks(results2['h3_9_10']['feasible'], fontsize=12)\n",
    "# plt.yticks(np.arange(420, 520, 20), fontsize=11)\n",
    "plt.show()"
   ]
  },
  {
   "cell_type": "markdown",
   "metadata": {},
   "source": [
    "**Interpretation of the results:**\n",
    "\n",
    " Even when $h_3^{910}=0$, the number of patients seen is the maximum possible $(p)$, thanks to the new constraint added in the binary model."
   ]
  },
  {
   "cell_type": "markdown",
   "metadata": {},
   "source": [
    "- **Optimal value of the objective function vs $h_3^{910}$**"
   ]
  },
  {
   "cell_type": "code",
   "execution_count": null,
   "metadata": {},
   "outputs": [],
   "source": [
    "plt.figure(figsize=(8, 5))\n",
    "ax = sns.lineplot(y=results2['h3_9_10']['f_optimal_feasible'].values(), x=results2['h3_9_10']['feasible'], marker='o', markersize=7.5, color='red')\n",
    "plt.title('$f$ optimal vs $h_3^{910}$', size=15)\n",
    "ax.set_ylabel('$f$ optimal', size=12)\n",
    "ax.set_xlabel('$h_3^{910}$', size=12)\n",
    "plt.xticks(results2['h3_9_10']['feasible'], fontsize=12)\n",
    "# plt.yticks(np.arange(2100, 2550, 50), fontsize=11)\n",
    "plt.show()"
   ]
  },
  {
   "cell_type": "markdown",
   "metadata": {},
   "source": [
    "**Interpretation of the results:**\n",
    "\n",
    "Analogous interpretation to the one made for the linear model."
   ]
  },
  {
   "cell_type": "markdown",
   "metadata": {},
   "source": [
    "- **Average time spent per patient vs $h_3^{910}$**"
   ]
  },
  {
   "cell_type": "code",
   "execution_count": null,
   "metadata": {},
   "outputs": [],
   "source": [
    "plt.figure(figsize=(8, 5))\n",
    "ax = sns.lineplot(y=results2['h3_9_10']['avg_time_per_patient'].values(), x=results2['h3_9_10']['feasible'], marker='o', markersize=7.5, color='red')\n",
    "plt.title('Avg. time per patient vs $h_3^{910}$', size=15)\n",
    "ax.set_ylabel('Avg. time per patient', size=12)\n",
    "ax.set_xlabel('$h_3^{910}$', size=12)\n",
    "plt.xticks(results2['h3_9_10']['feasible'], fontsize=12)\n",
    "plt.yticks(fontsize=11)\n",
    "plt.show()"
   ]
  },
  {
   "cell_type": "markdown",
   "metadata": {},
   "source": [
    "**Interpretation of the results:**\n",
    "\n",
    "Analogous interpretation to the one made for the linear model."
   ]
  },
  {
   "cell_type": "markdown",
   "metadata": {},
   "source": [
    "- **Median time spent per patient vs $h_3^{910}$**"
   ]
  },
  {
   "cell_type": "code",
   "execution_count": null,
   "metadata": {},
   "outputs": [],
   "source": [
    "plt.figure(figsize=(8, 5))\n",
    "ax = sns.lineplot(y=results2['h3_9_10']['median_time_per_patient'].values(), x=results2['h3_9_10']['feasible'], marker='o', markersize=7.5, color='red')\n",
    "plt.title('Median time per patient vs $h_3^{910}$', size=15)\n",
    "ax.set_ylabel('Median time per patient', size=12)\n",
    "ax.set_xlabel('$h_3^{910}$', size=12)\n",
    "plt.xticks(results2['h3_9_10']['feasible'], fontsize=12)\n",
    "plt.yticks(fontsize=11)\n",
    "plt.show()"
   ]
  },
  {
   "cell_type": "markdown",
   "metadata": {},
   "source": [
    "**Interpretation of the results:**\n",
    "\n",
    "Analogous interpretation to the one made for the linear model."
   ]
  },
  {
   "cell_type": "markdown",
   "metadata": {},
   "source": [
    "- **$75$-quantile time spent per patient vs $h_3^{910}$**"
   ]
  },
  {
   "cell_type": "code",
   "execution_count": null,
   "metadata": {},
   "outputs": [],
   "source": [
    "plt.figure(figsize=(8, 5))\n",
    "ax = sns.lineplot(y=results2['h3_9_10']['Q75_time_per_patient'].values(), x=results2['h3_9_10']['feasible'], marker='o', markersize=7.5, color='red')\n",
    "plt.title('Q75 time per patient vs $h_3^{910}$', size=15)\n",
    "ax.set_ylabel('Q75 time per patient', size=12)\n",
    "ax.set_xlabel('$h_3^{910}$', size=12)\n",
    "plt.xticks(results2['h3_9_10']['feasible'], fontsize=12)\n",
    "plt.yticks(fontsize=11)\n",
    "plt.show()"
   ]
  },
  {
   "cell_type": "markdown",
   "metadata": {},
   "source": [
    "**Interpretation of the results:**\n",
    "\n",
    "Analogous interpretation to the one made for the linear model."
   ]
  },
  {
   "cell_type": "markdown",
   "metadata": {},
   "source": [
    "- **$25$-quantile time spent per patient vs $h_3^{910}$**"
   ]
  },
  {
   "cell_type": "code",
   "execution_count": null,
   "metadata": {},
   "outputs": [],
   "source": [
    "plt.figure(figsize=(8, 5))\n",
    "ax = sns.lineplot(y=results2['h3_9_10']['Q25_time_per_patient'].values(), x=results2['h3_9_10']['feasible'], marker='o', markersize=7.5, color='red')\n",
    "plt.title('Q25 time per patient vs $h_3^{910}$', size=15)\n",
    "ax.set_ylabel('Q25 time per patient', size=12)\n",
    "ax.set_xlabel('$h_3^{910}$', size=12)\n",
    "plt.xticks(results2['h3_9_10']['feasible'], fontsize=12)\n",
    "plt.yticks(fontsize=11)\n",
    "plt.show()"
   ]
  },
  {
   "cell_type": "markdown",
   "metadata": {},
   "source": [
    "**Interpretation of the results:**\n",
    "\n",
    "Analogous interpretation to the one made for the linear model."
   ]
  },
  {
   "cell_type": "markdown",
   "metadata": {},
   "source": [
    "- **Average time spent per patient vs $w$ vs $h_3^{910}$**"
   ]
  },
  {
   "cell_type": "code",
   "execution_count": null,
   "metadata": {},
   "outputs": [],
   "source": [
    "plt.figure(figsize=(9, 6))\n",
    "for i, h3_9_10 in zip(results2['h3_9_10']['avg_time_patient_per_w'].keys(), results2['h3_9_10']['feasible']) :\n",
    "    ax = sns.lineplot(y=results2['h3_9_10']['avg_time_patient_per_w'][i].values(), x=results2['h3_9_10']['avg_time_patient_per_w'][i].keys(), \n",
    "                      label=round(h3_9_10, 2), marker='o', markersize=6)\n",
    "plt.title('Avg. time per patient vs $w$ vs $h_3^{910}$', size=15)\n",
    "ax.set_ylabel('Avg. time per patient', size=12)\n",
    "ax.set_xlabel('$w$', size=12)\n",
    "plt.xticks(list(results2['h3_9_10']['avg_time_patient_per_w'][i].keys()), fontsize=12)\n",
    "plt.yticks(np.arange(0,3, 0.25), fontsize=11)\n",
    "plt.legend(title='$h_3^{910}$', loc='upper right', bbox_to_anchor=(1.2, 1), fontsize=11)\n",
    "plt.show()"
   ]
  },
  {
   "cell_type": "markdown",
   "metadata": {},
   "source": [
    "**Interpretation of the results:**\n",
    "\n",
    "Analogous interpretation to the one made for the linear model."
   ]
  },
  {
   "cell_type": "markdown",
   "metadata": {},
   "source": [
    "#### **Analysis of multiple parameters** (g)"
   ]
  },
  {
   "cell_type": "markdown",
   "metadata": {},
   "source": [
    "In this section we make a sensitivity analysis of some of the parameters of the problem, following an multiple  approach, in the sense that we analyzed several parameters at once.\n",
    "\n",
    "This analysis is essentially carried out using the function `get_results1_multi_IM` and `get_results2_multi_IM`."
   ]
  },
  {
   "cell_type": "code",
   "execution_count": null,
   "metadata": {},
   "outputs": [],
   "source": [
    "params = dict()\n",
    "\n",
    "def time_seeing_patient(j, t_optimal, params):\n",
    "    return np.sum([t_optimal[i, j] for i in range(0,params['n'])])"
   ]
  },
  {
   "cell_type": "markdown",
   "metadata": {},
   "source": [
    "##### **Analysis of $(h_3^{12}, h_3^{34}, h_3^{56}, h_3^{78}, h_3^{910})$ combination of parameters**\n",
    "\n",
    "- $h_3 :=$  minimum time time spent in each patient, taking into account their severity/importance (this quantity depends on $w_j$).\n"
   ]
  },
  {
   "cell_type": "code",
   "execution_count": null,
   "metadata": {},
   "outputs": [],
   "source": [
    "# Defining the values of the rest of parameters and setting h3_1_2, h3_3_4, h3_5_6, h3_7_8, h3_9_10 as None.\n",
    "\n",
    "params['n'] = 50 ; params['p']=500 ; params['h1']=6 ; params['h2']=1 ; params['h4']=4\n",
    "params['h3_1_2'] = None \n",
    "params['h3_3_4'] = None\n",
    "params['h3_5_6'] = None  \n",
    "params['h3_7_8'] = None \n",
    "params['h3_9_10'] = None \n",
    "\n",
    "np.random.seed(123)\n",
    "params['w'] = np.random.randint(1, 11, params['p']) \n",
    "\n",
    "# Defining the parameter combination values as a list.\n",
    "param_combi_list = product([0, 0.1, 0.4], [0, 0.2, 0.5], [0, 0.4, 0.8], [0, 0.6, 1], [0, 0.7, 1.2])\n",
    "param_combi_list = list(param_combi_list)\n",
    "\n",
    "# Defining the parameter names as a tuple.\n",
    "param_names = ('h3_1_2', 'h3_3_4', 'h3_5_6', 'h3_7_8', 'h3_9_10')"
   ]
  },
  {
   "cell_type": "markdown",
   "metadata": {},
   "source": [
    "As before, we have run the code once and then saved the results in pickle files, in order to save time."
   ]
  },
  {
   "cell_type": "code",
   "execution_count": null,
   "metadata": {},
   "outputs": [],
   "source": [
    "#results1_multi = get_results1_multi(('h3_1_2', 'h3_3_4', 'h3_5_6', 'h3_7_8', 'h3_9_10'), param_combi_list, params, model='integer')\n",
    "#results2_multi = get_results2_multi(('h3_1_2', 'h3_3_4', 'h3_5_6', 'h3_7_8', 'h3_9_10'), param_combi_list, results1_multi)"
   ]
  },
  {
   "cell_type": "code",
   "execution_count": null,
   "metadata": {},
   "outputs": [],
   "source": [
    "# save a dictionary as a pickle\n",
    "#with open('results1_multi_IM.pickle', 'wb') as file:\n",
    "    # Use pickle's dump function to write the dict to the opened file.\n",
    "    #pickle.dump(results1_multi, file)\n",
    "\n",
    "#with open('results2_multi_IM.pickle', 'wb') as file:\n",
    "    # Use pickle's dump function to write the dict to the opened file.\n",
    "    #pickle.dump(results2_multi, file)"
   ]
  },
  {
   "cell_type": "code",
   "execution_count": null,
   "metadata": {},
   "outputs": [],
   "source": [
    "# Open a dictionary saved as a pickle\n",
    "with open(r\"C:\\Users\\fscielzo\\Documents\\Large-Data\\Optimization\\results1_multi_IM.pickle\", 'rb') as file:\n",
    "    # Read back the pickled file\n",
    "    results1_multi = pickle.load(file)\n",
    "\n",
    "# Open a dictionary saved as a pickle\n",
    "with open(r\"C:\\Users\\fscielzo\\Documents\\Large-Data\\Optimization\\results2_multi_IM.pickle\", 'rb') as file:\n",
    "    # Read back the pickled file\n",
    "    results2_multi = pickle.load(file)"
   ]
  },
  {
   "cell_type": "markdown",
   "metadata": {},
   "source": [
    "- **Problem type (feasible - not feasible) vs $(h_3^{12}, h_3^{34}, h_3^{56}, h_3^{78}, h_3^{910})$**"
   ]
  },
  {
   "cell_type": "code",
   "execution_count": null,
   "metadata": {},
   "outputs": [],
   "source": [
    "type_multi_plot(results2_multi=results2_multi, n_cols=2, figsize=(20, 20), interval_width=30)"
   ]
  },
  {
   "cell_type": "markdown",
   "metadata": {},
   "source": [
    "**Interpretation of the results:**\n",
    "\n",
    "Same interpretation to the one made for the linear model, because the results are the same."
   ]
  },
  {
   "cell_type": "markdown",
   "metadata": {},
   "source": [
    "- **Number of patients seen vs $(h_3^{12}, h_3^{34}, h_3^{56}, h_3^{78}, h_3^{910})$**"
   ]
  },
  {
   "cell_type": "code",
   "execution_count": null,
   "metadata": {},
   "outputs": [],
   "source": [
    "num_patients_seen_multi_plot(results2_multi=results2_multi, n_cols=2, figsize=(20, 20), interval_width=30)"
   ]
  },
  {
   "cell_type": "markdown",
   "metadata": {},
   "source": [
    "**Interpretation of the results:**\n",
    "\n",
    "In this case in all the cases the number of patients seen is the maximum possible $(p)$, since the new binary constraint enforce that."
   ]
  },
  {
   "cell_type": "markdown",
   "metadata": {},
   "source": [
    "- **Optimal value of the objective function vs $(h_3^{12}, h_3^{34}, h_3^{56}, h_3^{78}, h_3^{910})$**"
   ]
  },
  {
   "cell_type": "code",
   "execution_count": null,
   "metadata": {},
   "outputs": [],
   "source": [
    "f_optimal_multi_plot(results2_multi=results2_multi, n_cols=2, figsize=(20, 20), interval_width=30)"
   ]
  },
  {
   "cell_type": "markdown",
   "metadata": {},
   "source": [
    "**Interpretation of the results:**\n",
    "\n",
    "Same interpretation to the one made for the linear model, because the results are the same."
   ]
  },
  {
   "cell_type": "markdown",
   "metadata": {},
   "source": [
    "- **Average time spent per patient vs $(h_3^{12}, h_3^{34}, h_3^{56}, h_3^{78}, h_3^{910})$**"
   ]
  },
  {
   "cell_type": "code",
   "execution_count": null,
   "metadata": {},
   "outputs": [],
   "source": [
    "avg_time_multi_plot(results2_multi=results2_multi, n_cols=2, figsize = (20, 20), interval_width=30)"
   ]
  },
  {
   "cell_type": "markdown",
   "metadata": {},
   "source": [
    "**Interpretation of the results:**\n",
    "\n",
    "Same interpretation to the one made for the linear model, because the results are the same."
   ]
  },
  {
   "cell_type": "markdown",
   "metadata": {},
   "source": [
    "- **Median time spent per patient vs $(h_3^{12}, h_3^{34}, h_3^{56}, h_3^{78}, h_3^{910})$**"
   ]
  },
  {
   "cell_type": "code",
   "execution_count": null,
   "metadata": {},
   "outputs": [],
   "source": [
    "median_time_multi_plot(results2_multi=results2_multi, n_cols=2, figsize = (20, 20), interval_width=30)"
   ]
  },
  {
   "cell_type": "markdown",
   "metadata": {},
   "source": [
    "**Interpretation of the results:**\n",
    "\n",
    "Same interpretation to the one made for the linear model, because the results are the same."
   ]
  },
  {
   "cell_type": "markdown",
   "metadata": {},
   "source": [
    "- **$75$-quantile of time spent per patient vs $(h_3^{12}, h_3^{34}, h_3^{56}, h_3^{78}, h_3^{910})$**"
   ]
  },
  {
   "cell_type": "code",
   "execution_count": null,
   "metadata": {},
   "outputs": [],
   "source": [
    "Q75_time_multi_plot(results2_multi=results2_multi, n_cols=2, figsize=(20, 20), interval_width=30)"
   ]
  },
  {
   "cell_type": "markdown",
   "metadata": {},
   "source": [
    "**Interpretation of the results:**\n",
    "\n",
    "Same interpretation to the one made for the linear model, because the results are the same."
   ]
  },
  {
   "cell_type": "markdown",
   "metadata": {},
   "source": [
    "- **$25$-quantile of time spent per patient vs $(h_3^{12}, h_3^{34}, h_3^{56}, h_3^{78}, h_3^{910})$**"
   ]
  },
  {
   "cell_type": "code",
   "execution_count": null,
   "metadata": {},
   "outputs": [],
   "source": [
    "Q25_time_multi_plot(results2_multi=results2_multi, n_cols=2, figsize=(20, 20), interval_width=30)"
   ]
  },
  {
   "cell_type": "markdown",
   "metadata": {},
   "source": [
    "**Interpretation of the results:**\n",
    "\n",
    "Same interpretation to the one made for the linear model, because the results are the same."
   ]
  },
  {
   "cell_type": "markdown",
   "metadata": {},
   "source": [
    "- **Average time spent per patient vs $w$ vs $(h_3^{12}, h_3^{34}, h_3^{56}, h_3^{78}, h_3^{910})$**"
   ]
  },
  {
   "cell_type": "code",
   "execution_count": null,
   "metadata": {},
   "outputs": [],
   "source": [
    "avg_time_w_multi_plot(results2_multi=results2_multi, n_cols = 3, figsize = (22, 80), interval_width=3)"
   ]
  },
  {
   "cell_type": "markdown",
   "metadata": {},
   "source": [
    "**Interpretation of the results:**\n",
    "\n",
    "Same interpretation to the one made for the linear model, because the results are the same."
   ]
  },
  {
   "cell_type": "markdown",
   "metadata": {},
   "source": [
    "## **Dimensionality analysis** (f)"
   ]
  },
  {
   "cell_type": "markdown",
   "metadata": {},
   "source": [
    "### **Analysis of $(n,p)$ combination of parameters**"
   ]
  },
  {
   "cell_type": "markdown",
   "metadata": {},
   "source": [
    "$n:= $ number of nurse-doctor tandem that  the hospital has in a given day.\n",
    "\n",
    "$p:=$ number of patients that visit the hospital in a given day."
   ]
  },
  {
   "cell_type": "markdown",
   "metadata": {},
   "source": [
    "In this section we will carry out a big data analysis of the linear model, in the sense that we will analyze how the model performs with big dimensionality (big $(n,p)$ combinations). We will don't apply this analysis to the integer model because the same results in terms of time would be obtained, so it wouldn't be very fruitful.\n",
    "\n",
    "On one hand, we are going to analyze the execution time of the model for those combinations. And, on the other hand, we will analyze the metrics seen before, focusing on these parameters."
   ]
  },
  {
   "cell_type": "markdown",
   "metadata": {},
   "source": [
    "#### Enforcing the number of patients seen to be the maximum possible $(p)$, setting $h_3^{12} > h_3^{12} > \\dots > h_3^{12} > 0$."
   ]
  },
  {
   "cell_type": "code",
   "execution_count": null,
   "metadata": {},
   "outputs": [],
   "source": [
    "# Defining the values of the rest of parameters and setting h3_1_2, h3_3_4, h3_5_6, h3_7_8, h3_9_10 as None.\n",
    "params['n'] = None ; params['p']=None ; params['h1']=6 ; params['h2']=1 ; params['h4']=4\n",
    "params['h3_1_2'] = 0.1 \n",
    "params['h3_3_4'] = 0.30\n",
    "params['h3_5_6'] = 0.55  \n",
    "params['h3_7_8'] = 0.80 \n",
    "params['h3_9_10'] = 1 \n",
    "\n",
    "params['w'] = None\n",
    "\n",
    "# Defining the parameter combination values as a list.\n",
    "p_list = [100, 300, 500, 2000, 5000]\n",
    "n_list = [50, 300, 700]\n",
    "np.random.seed(123)\n",
    "w_dict = {p: np.random.randint(1, 11, p) for p in p_list}\n",
    "param_combi_list_1 = product(n_list, p_list)\n",
    "param_combi_list_1 = list(param_combi_list_1)\n",
    "param_combi_list_2 = [(n,p, w_dict[p]) for (n,p) in param_combi_list_1]\n",
    "\n",
    "# Defining the parameter names as a tuple.\n",
    "param_names = ('n', 'p', 'w')"
   ]
  },
  {
   "cell_type": "code",
   "execution_count": null,
   "metadata": {},
   "outputs": [],
   "source": [
    "# results1_multi = get_results1_multi(('n', 'p', 'w'), param_combi_list_2, params, model='linear')"
   ]
  },
  {
   "cell_type": "code",
   "execution_count": null,
   "metadata": {},
   "outputs": [],
   "source": [
    "# results2_multi = get_results2_multi(('n', 'p', 'w'), results1_multi, n_p_analysis=True, w_dict=w_dict)"
   ]
  },
  {
   "cell_type": "code",
   "execution_count": null,
   "metadata": {},
   "outputs": [],
   "source": [
    "# save a dictionary as a pickle\n",
    "#with open('results1_multi_n_p.pickle', 'wb') as file:\n",
    "    # Use pickle's dump function to write the dict to the opened file.\n",
    "    #pickle.dump(results1_multi, file)\n",
    "\n",
    "#with open('results2_multi_n_p.pickle', 'wb') as file:\n",
    "    # Use pickle's dump function to write the dict to the opened file.\n",
    "    #pickle.dump(results2_multi, file)"
   ]
  },
  {
   "cell_type": "code",
   "execution_count": null,
   "metadata": {},
   "outputs": [],
   "source": [
    "# Open a dictionary saved as a pickle\n",
    "with open(r\"C:\\Users\\fscielzo\\Documents\\Large-Data\\Optimization\\results1_multi_n_p.pickle\", 'rb') as file:\n",
    "    # Read back the pickled file\n",
    "    results1_multi = pickle.load(file)\n",
    "\n",
    "# Open a dictionary saved as a pickle\n",
    "with open(r\"C:\\Users\\fscielzo\\Documents\\Large-Data\\Optimization\\results2_multi_n_p.pickle\", 'rb') as file:\n",
    "    # Read back the pickled file\n",
    "    results2_multi = pickle.load(file)\n",
    "# Time: 2.45 - 3.21 mins"
   ]
  },
  {
   "cell_type": "code",
   "execution_count": null,
   "metadata": {},
   "outputs": [],
   "source": [
    "param_combi_str = [str(x) for x in param_combi_list_1]\n",
    "problem_dimension_str = [str(round(n*p/1000))+'k' for (n,p) in param_combi_list_1]\n",
    "problem_dimension = [n*p/1000 for (n,p) in param_combi_list_1]\n",
    "patient_tandem_ratio_str = [str(round(p/n, 2)) for (n,p) in param_combi_list_1] # number patients per nurse-doctor tandem\n",
    "\n",
    "param_combi_feasible = [x for x in results2_multi[param_names]['feasible']]\n",
    "param_combi_feasible_str = [str(x) for x in results2_multi[param_names]['feasible']]\n",
    "problem_dimension_feasible_str = [str(round(n*p/1000))+'k' for (n,p) in results2_multi[param_names]['feasible']]\n",
    "patient_tandem_ratio_feasible_str = [str(round(p/n, 2)) for (n,p) in results2_multi[param_names]['feasible']] "
   ]
  },
  {
   "cell_type": "markdown",
   "metadata": {},
   "source": [
    "- **Model execution time vs $(n,p)$**"
   ]
  },
  {
   "cell_type": "code",
   "execution_count": null,
   "metadata": {},
   "outputs": [],
   "source": [
    "plt.subplots(figsize=(10,6))\n",
    "ax = sns.lineplot(y=[results1_multi[param_names][i]['model_time'] for i in param_combi_list_1], \n",
    "                     x=param_combi_str, \n",
    "                     marker='o', markersize=7.5, color='red')\n",
    "plt.title('Model execution time vs $(n, p)$', fontsize=13) \n",
    "ax.set_xlabel('$(n, p)$', fontsize=12, rotation=0)\n",
    "ax.set_ylabel('Model execution time (secs)', fontsize=12)\n",
    "plt.yticks(np.arange(0, 500, 50))\n",
    "plt.xticks(rotation=90)\n",
    "plt.show()"
   ]
  },
  {
   "cell_type": "markdown",
   "metadata": {},
   "source": [
    "- **Model execution time vs Problem dimensionality $(n\\cdot p)$**"
   ]
  },
  {
   "cell_type": "code",
   "execution_count": null,
   "metadata": {},
   "outputs": [],
   "source": [
    "plt.subplots(figsize=(10,6))\n",
    "ax = sns.lineplot(y=[results1_multi[param_names][i]['model_time'] for i in param_combi_list_1], \n",
    "                     x=problem_dimension_str, \n",
    "                     marker='o', markersize=7.5, color='red')\n",
    "plt.title('Model execution time vs Problem dimensionality $(n\\cdot p)$', fontsize=13) \n",
    "ax.set_xlabel('Problem dimensionality $(n\\cdot p)$', fontsize=12)\n",
    "ax.set_ylabel('Model execution time (secs)', fontsize=13)\n",
    "plt.yticks(np.arange(0, 500, 50))\n",
    "plt.show()"
   ]
  },
  {
   "cell_type": "markdown",
   "metadata": {},
   "source": [
    "**Interpretation of the results:**\n",
    "\n",
    "These results  have an easy and intuitive interpretation.\n",
    "\n",
    "When the dimensionality of the problem increase (in this case $n\\cdot p$), the execution time of the model increases as well. And vice versa.\n"
   ]
  },
  {
   "cell_type": "markdown",
   "metadata": {},
   "source": [
    "- **Type vs $(n,p)$**"
   ]
  },
  {
   "cell_type": "code",
   "execution_count": null,
   "metadata": {},
   "outputs": [],
   "source": [
    "plt.figure(figsize=(9, 5))\n",
    "param_combi_str = [str(x) for x in param_combi_list_1]\n",
    "ax = sns.scatterplot(y=results2_multi[param_names]['type'], x=param_combi_str, color='red', s=200)\n",
    "plt.title('Type vs $(n,p)$', size=15)\n",
    "ax.set_ylabel('type', size=12)\n",
    "ax.set_xlabel('$(n,p)$', size=12)\n",
    "plt.xticks(param_combi_str, fontsize=10, rotation=90)\n",
    "plt.yticks(fontsize=11)\n",
    "plt.show()"
   ]
  },
  {
   "cell_type": "markdown",
   "metadata": {},
   "source": [
    "- **Type vs Problem dimensionality $(n\\cdot p)$**"
   ]
  },
  {
   "cell_type": "code",
   "execution_count": null,
   "metadata": {},
   "outputs": [],
   "source": [
    "plt.figure(figsize=(9, 5))\n",
    "param_combi_str = [str(x) for x in param_combi_list_1]\n",
    "ax = sns.scatterplot(y=results2_multi[param_names]['type'], x=problem_dimension_str, color='red', s=200)\n",
    "plt.title('Type vs Problem dimensionality $(n\\cdot p)$', size=15)\n",
    "ax.set_ylabel('Type', size=12)\n",
    "ax.set_xlabel('Problem dimensionality $(n\\cdot p)$', size=12)\n",
    "plt.xticks(problem_dimension_str, fontsize=11, rotation=0)\n",
    "plt.yticks(fontsize=11)\n",
    "plt.show()"
   ]
  },
  {
   "cell_type": "markdown",
   "metadata": {},
   "source": [
    "- **Type vs Ratio patients per tandem $(p/n)$**"
   ]
  },
  {
   "cell_type": "code",
   "execution_count": null,
   "metadata": {},
   "outputs": [],
   "source": [
    "plt.figure(figsize=(9, 5))\n",
    "param_combi_str = [str(x) for x in param_combi_list_1]\n",
    "ax = sns.scatterplot(y=results2_multi[param_names]['type'], x=patient_tandem_ratio_str, color='red', s=200)\n",
    "plt.title('Type vs Ratio patients per tandem $(p/n)$', size=15)\n",
    "ax.set_ylabel('type', size=12)\n",
    "ax.set_xlabel('ratio patients per tandem $(p/n)$', size=12)\n",
    "plt.xticks(patient_tandem_ratio_str, fontsize=11, rotation=0)\n",
    "plt.yticks(fontsize=11)\n",
    "plt.show()"
   ]
  },
  {
   "cell_type": "markdown",
   "metadata": {},
   "source": [
    "**Interpretation of the results:**\n",
    "\n",
    "When the ratio patients per tandem $(p/n)$ is large enough, the problem becomes not feasible, as there are not enough tandems to handle such amount of patients, since minimum work constrains cannot be satisfy under good working conditions. \n"
   ]
  },
  {
   "cell_type": "markdown",
   "metadata": {},
   "source": [
    "- **Number of patients seen vs $(n,p)$**"
   ]
  },
  {
   "cell_type": "code",
   "execution_count": null,
   "metadata": {},
   "outputs": [],
   "source": [
    "plt.figure(figsize=(10, 6))\n",
    "ax = sns.lineplot(y=results2_multi[param_names]['num_patients_seen'].values(), x=param_combi_feasible_str, \n",
    "                  marker='o', markersize=7.5, color='red')\n",
    "plt.title('Number of patients seen vs $(n,p)$', size=15)\n",
    "ax.set_ylabel('number of patients seen', size=12)\n",
    "ax.set_xlabel('$(n,p)$', size=12)\n",
    "plt.xticks(param_combi_feasible_str, fontsize=11, rotation=90)\n",
    "plt.yticks(np.arange(100, 5500, 500))\n",
    "plt.show()"
   ]
  },
  {
   "cell_type": "markdown",
   "metadata": {},
   "source": [
    "**Interpretation of the results:**\n",
    "\n",
    "Since we have enforced the number of patients seen to be as much as possible $(=p)$, the results are coherent with that. \n"
   ]
  },
  {
   "cell_type": "markdown",
   "metadata": {},
   "source": [
    "- **$f$ optimal vs $(n,p)$**"
   ]
  },
  {
   "cell_type": "code",
   "execution_count": null,
   "metadata": {},
   "outputs": [],
   "source": [
    "plt.figure(figsize=(10, 6))\n",
    "ax = sns.lineplot(y=results2_multi[param_names]['f_optimal_feasible'].values(), x=param_combi_feasible_str,\n",
    "                  marker='o', markersize=7.5, color='red')\n",
    "plt.title('$f$ optimal vs $(n,p)$', size=15)\n",
    "ax.set_ylabel('$f$ optimal', size=12)\n",
    "ax.set_xlabel('$(n,p)$', size=10)\n",
    "plt.xticks(param_combi_feasible_str, fontsize=11, rotation=90)\n",
    "# plt.yticks(np.arange(2100, 2550, 50), fontsize=11)\n",
    "plt.show()"
   ]
  },
  {
   "cell_type": "markdown",
   "metadata": {},
   "source": [
    "- **$f$ optimal vs Problem dimensionality $(n\\cdot p)$**"
   ]
  },
  {
   "cell_type": "code",
   "execution_count": null,
   "metadata": {},
   "outputs": [],
   "source": [
    "plt.figure(figsize=(10, 6))\n",
    "ax = sns.lineplot(y=results2_multi[param_names]['f_optimal_feasible'].values(), x=problem_dimension_feasible_str,\n",
    "                  marker='o', markersize=7.5, color='red')\n",
    "plt.title('$f$ optimal vs Problem dimensionality $(n\\cdot p)$', size=15)\n",
    "ax.set_ylabel('$f$ optimal', size=12)\n",
    "ax.set_xlabel('Problem dimensionality $(n\\cdot p)$', size=12)\n",
    "plt.xticks(problem_dimension_feasible_str, fontsize=11)\n",
    "# plt.yticks(np.arange(2100, 2550, 50), fontsize=11)\n",
    "plt.show()"
   ]
  },
  {
   "cell_type": "markdown",
   "metadata": {},
   "source": [
    "**Interpretation of the results:**\n",
    "\n",
    "The more dimensionality $(n\\cdot p)$, the higher optimal value of the objective function. \n"
   ]
  },
  {
   "cell_type": "markdown",
   "metadata": {},
   "source": [
    "- **Avg. time per patient vs $(n,p)$**"
   ]
  },
  {
   "cell_type": "code",
   "execution_count": null,
   "metadata": {},
   "outputs": [],
   "source": [
    "plt.figure(figsize=(10, 6))\n",
    "ax = sns.lineplot(y=results2_multi[param_names]['avg_time_per_patient'].values(), x=param_combi_feasible_str, \n",
    "                  marker='o', markersize=7.5, color='red')\n",
    "plt.title('Avg. time per patient vs $(n,p)$', size=15)\n",
    "ax.set_ylabel('Avg. time per patient', size=12)\n",
    "ax.set_xlabel('$(n,p)$', size=12)\n",
    "plt.xticks(param_combi_feasible_str, fontsize=11, rotation=90)\n",
    "plt.yticks(fontsize=11)\n",
    "plt.show()"
   ]
  },
  {
   "cell_type": "markdown",
   "metadata": {},
   "source": [
    "- **Avg. time per patient vs Problem dimensionality $(n\\cdot p)$**"
   ]
  },
  {
   "cell_type": "code",
   "execution_count": null,
   "metadata": {},
   "outputs": [],
   "source": [
    "plt.figure(figsize=(10, 6))\n",
    "ax = sns.lineplot(y=results2_multi[param_names]['avg_time_per_patient'].values(), x=problem_dimension_feasible_str, \n",
    "                  marker='o', markersize=7.5, color='red')\n",
    "plt.title('Avg. time per patient vs Problem dimensionality $(n\\cdot p)$', size=15)\n",
    "ax.set_ylabel('Avg. time per patient', size=12)\n",
    "ax.set_xlabel('Problem dimensionality $(n\\cdot p)$', size=12)\n",
    "plt.xticks(problem_dimension_feasible_str, fontsize=11)\n",
    "plt.yticks(fontsize=11)\n",
    "plt.show()"
   ]
  },
  {
   "cell_type": "markdown",
   "metadata": {},
   "source": [
    "- **Avg. time per patient vs Ratio patients per tandem $(p/n)$**"
   ]
  },
  {
   "cell_type": "code",
   "execution_count": null,
   "metadata": {},
   "outputs": [],
   "source": [
    "plt.figure(figsize=(10, 6))\n",
    "ax = sns.lineplot(y=results2_multi[param_names]['avg_time_per_patient'].values(), x=patient_tandem_ratio_feasible_str, \n",
    "                  marker='o', markersize=7.5, color='red')\n",
    "plt.title('Avg. time per patient vs Ratio patients per tandem $(p/n)$', size=15)\n",
    "ax.set_ylabel('Avg. time per patient', size=12)\n",
    "ax.set_xlabel('Ratio patients per tandem $(p/n)$', size=12)\n",
    "plt.xticks(patient_tandem_ratio_feasible_str, fontsize=11)\n",
    "plt.yticks(fontsize=11)\n",
    "plt.show()"
   ]
  },
  {
   "cell_type": "markdown",
   "metadata": {},
   "source": [
    "**Interpretation of the results:**\n",
    "\n",
    "The interpretation is simple and makes perfect sense. When the ration patients per tandem $(p/n)$ increases, the average time spent per patient decrease. and vice versa. "
   ]
  },
  {
   "cell_type": "markdown",
   "metadata": {},
   "source": [
    "- **Avg. time per patient vs $w$ vs $(n,p)$**"
   ]
  },
  {
   "cell_type": "code",
   "execution_count": null,
   "metadata": {},
   "outputs": [],
   "source": [
    "n_cols = 3\n",
    "interval_width = 4\n",
    "figsize = (20,4)\n",
    "\n",
    "limits = list(np.arange(0, len(results2_multi[param_names]['feasible']), interval_width))\n",
    "limits.append(len(results2_multi[param_names]['feasible']))\n",
    "n_intervals = len(limits) - 1\n",
    "\n",
    "# Define the number of rows and columns for the matrix plot\n",
    "n_rows = int(np.ceil(n_intervals / n_cols))\n",
    "\n",
    "# Create a subplot with the specified number of rows and columns\n",
    "fig, axes = plt.subplots(n_rows, n_cols, figsize=figsize)\n",
    "\n",
    "# Flatten the axes array to make it easier to iterate\n",
    "axes = axes.flatten()  \n",
    "\n",
    "# Defining a ecdf-plot for each variable considered.\n",
    "for i in range(0, n_intervals) :\n",
    "\n",
    "    ax = axes[i]  # Get the current axis\n",
    "    #ax.figure(figsize=(20, 10))\n",
    "    for combi in param_combi_feasible[limits[i]:limits[i+1]] :\n",
    "        sns.lineplot(y=results2_multi[param_names]['avg_time_patient_per_w'][combi].values(), \n",
    "                         x=results2_multi[param_names]['avg_time_patient_per_w'][combi].keys(), \n",
    "                      label=str(combi), marker='o', markersize=6, ax=ax)\n",
    "    ax.set_title(f'$(n,p)$ combination {limits[i]}:{limits[i+1]}', fontsize=13)\n",
    "    ax.tick_params(axis='x', rotation=0)\n",
    "    ax.set_yticks(range(0,5))\n",
    "    ax.set_xticks(range(1,11))\n",
    "    ax.set_xlabel('w', fontsize=12)\n",
    "    ax.set_ylabel('Avg. time per patient', fontsize=12)\n",
    "    ax.legend(title='$(n,p)$ combination', loc='upper right', bbox_to_anchor=(1.39, 1), fontsize=11, ncol=1)\n",
    "\n",
    "# Remove any unused subplots in case the number of 'geo' values is less than num_rows * num_cols\n",
    "for j in range(n_intervals, n_rows*n_cols):\n",
    "    fig.delaxes(axes[j])\n",
    "\n",
    "# Establishing a general tittle for the plot.\n",
    "plt.suptitle('Avg. time per patient vs $w$ vs $(n,p)$', fontsize=15, y=1.01)\n",
    "    \n",
    "plt.subplots_adjust(hspace=1, wspace=0.6) "
   ]
  },
  {
   "cell_type": "markdown",
   "metadata": {},
   "source": [
    "- **Avg. time per patient vs $w$ vs Problem dimensionality $(n\\cdot p)$**"
   ]
  },
  {
   "cell_type": "code",
   "execution_count": null,
   "metadata": {},
   "outputs": [],
   "source": [
    "n_cols = 3\n",
    "interval_width = 4\n",
    "figsize = (20,4)\n",
    "\n",
    "limits = list(np.arange(0, len(results2_multi[param_names]['feasible']), interval_width))\n",
    "limits.append(len(results2_multi[param_names]['feasible']))\n",
    "n_intervals = len(limits) - 1\n",
    "\n",
    "# Define the number of rows and columns for the matrix plot\n",
    "n_rows = int(np.ceil(n_intervals / n_cols))\n",
    "\n",
    "# Create a subplot with the specified number of rows and columns\n",
    "fig, axes = plt.subplots(n_rows, n_cols, figsize=figsize)\n",
    "\n",
    "# Flatten the axes array to make it easier to iterate\n",
    "axes = axes.flatten()  \n",
    "\n",
    "# Defining a ecdf-plot for each variable considered.\n",
    "for i in range(0, n_intervals) :\n",
    "\n",
    "    ax = axes[i]  # Get the current axis\n",
    "    #ax.figure(figsize=(20, 10))\n",
    "    for label, combi in zip(problem_dimension_feasible_str[limits[i]:limits[i+1]], param_combi_feasible[limits[i]:limits[i+1]]) :\n",
    "        sns.lineplot(y=results2_multi[param_names]['avg_time_patient_per_w'][combi].values(), \n",
    "                         x=results2_multi[param_names]['avg_time_patient_per_w'][combi].keys(), \n",
    "                      label=label, marker='o', markersize=6, ax=ax)\n",
    "    # ax.set_title(f'$n\\cdot p$ {limits[i]}:{limits[i+1]}', fontsize=13)\n",
    "    ax.tick_params(axis='x', rotation=0)\n",
    "    ax.set_yticks(range(0,5))\n",
    "    ax.set_xticks(range(1,11))\n",
    "    ax.set_xlabel('w', fontsize=12)\n",
    "    ax.set_ylabel('Avg. time per patient', fontsize=12)\n",
    "    ax.legend(title='$n\\cdot p$', loc='upper right', bbox_to_anchor=(1.30, 1), fontsize=11, ncol=1)\n",
    "\n",
    "# Remove any unused subplots in case the number of 'geo' values is less than num_rows * num_cols\n",
    "for j in range(n_intervals, n_rows*n_cols):\n",
    "    fig.delaxes(axes[j])\n",
    "\n",
    "# Establishing a general tittle for the plot.\n",
    "plt.suptitle('Avg. time per patient vs $w$ vs Problem dimensionality $(n\\cdot p)$', fontsize=15, y=1.01)\n",
    "    \n",
    "plt.subplots_adjust(hspace=1, wspace=0.6) "
   ]
  },
  {
   "cell_type": "markdown",
   "metadata": {},
   "source": [
    "- **Average time spent per patient vs $w$ vs Ratio patients per tandem $(p/n)$**"
   ]
  },
  {
   "cell_type": "code",
   "execution_count": null,
   "metadata": {},
   "outputs": [],
   "source": [
    "n_cols = 3\n",
    "interval_width = 4\n",
    "figsize = (20,5)\n",
    "\n",
    "limits = list(np.arange(0, len(results2_multi[param_names]['feasible']), interval_width))\n",
    "limits.append(len(results2_multi[param_names]['feasible']))\n",
    "n_intervals = len(limits) - 1\n",
    "\n",
    "# Define the number of rows and columns for the matrix plot\n",
    "n_rows = int(np.ceil(n_intervals / n_cols))\n",
    "\n",
    "# Create a subplot with the specified number of rows and columns\n",
    "fig, axes = plt.subplots(n_rows, n_cols, figsize=figsize)\n",
    "\n",
    "# Flatten the axes array to make it easier to iterate\n",
    "axes = axes.flatten()  \n",
    "\n",
    "# Defining a ecdf-plot for each variable considered.\n",
    "for i in range(0, n_intervals) :\n",
    "\n",
    "    ax = axes[i]  # Get the current axis\n",
    "    #ax.figure(figsize=(20, 10))\n",
    "    for label, combi in zip(patient_tandem_ratio_feasible_str[limits[i]:limits[i+1]], param_combi_feasible[limits[i]:limits[i+1]]) :\n",
    "        sns.lineplot(y=results2_multi[param_names]['avg_time_patient_per_w'][combi].values(), \n",
    "                         x=results2_multi[param_names]['avg_time_patient_per_w'][combi].keys(), \n",
    "                      label=label, marker='o', markersize=6, ax=ax)\n",
    "    # ax.set_title(f'$p/n$  {limits[i]}:{limits[i+1]}', fontsize=13)\n",
    "    ax.tick_params(axis='x', rotation=0)\n",
    "    ax.set_yticks(range(0,5))\n",
    "    ax.set_xticks(range(1,11))\n",
    "    ax.set_xlabel('w', fontsize=12)\n",
    "    ax.set_ylabel('Avg. time per patient', fontsize=12)\n",
    "    ax.legend(title='$p/n$', loc='upper right', bbox_to_anchor=(1.30, 1), fontsize=11, ncol=1)\n",
    "\n",
    "# Remove any unused subplots in case the number of 'geo' values is less than num_rows * num_cols\n",
    "for j in range(n_intervals, n_rows*n_cols):\n",
    "    fig.delaxes(axes[j])\n",
    "\n",
    "# Establishing a general tittle for the plot.\n",
    "plt.suptitle('Avg. time per patient vs $w$ vs Ratio patients per tandem $(p/n)$', fontsize=15, y=1.01)\n",
    "    \n",
    "plt.subplots_adjust(hspace=1, wspace=0.6) "
   ]
  },
  {
   "cell_type": "markdown",
   "metadata": {},
   "source": [
    "**Interpretation of the results:**\n",
    "\n",
    "When the ratio patients per tandem $(p/n)$ decreases, the average time spent per patient increases according with their severity.\n",
    "\n",
    "Another important point to highlight is that, when  ratio patients per tandem  is small enough, like for intance with $p/n = 0.33$ (red line, first plot), all the patients are seen as much as possible $(h_4 =4)$, regardless of their severity. And, when the ratio increases, the average time spent in the less severe patients starts to decrease, as for example with $p/n = 2$ (blue line, first plot), $p/n=2.86$, (green line, third plot) or $p/n=6$ (yellow line, first plot)."
   ]
  },
  {
   "cell_type": "markdown",
   "metadata": {},
   "source": [
    "#### Allowing the number of patients seen to be lower than $p$, setting $h_3^{12} = h_3^{12} = 0$."
   ]
  },
  {
   "cell_type": "code",
   "execution_count": null,
   "metadata": {},
   "outputs": [],
   "source": [
    "# Defining the values of the rest of parameters and setting h3_1_2, h3_3_4, h3_5_6, h3_7_8, h3_9_10 as None.\n",
    "params['n'] = None ; params['p']=None ; params['h1']=6 ; params['h2']=1 ; params['h4']=4\n",
    "params['h3_1_2'] = 0 \n",
    "params['h3_3_4'] = 0\n",
    "params['h3_5_6'] = 0.55  \n",
    "params['h3_7_8'] = 0.80 \n",
    "params['h3_9_10'] = 1 \n",
    "\n",
    "params['w'] = None\n",
    "\n",
    "# Defining the parameter combination values as a list.\n",
    "p_list = [100, 300, 500, 2000, 5000]\n",
    "n_list = [50, 300, 700]\n",
    "np.random.seed(123)\n",
    "w_dict = {p: np.random.randint(1, 11, p) for p in p_list}\n",
    "param_combi_list_1 = product(n_list, p_list)\n",
    "param_combi_list_1 = list(param_combi_list_1)\n",
    "param_combi_list_2 = [(n,p, w_dict[p]) for (n,p) in param_combi_list_1]\n",
    "\n",
    "# Defining the parameter names as a tuple.\n",
    "param_names = ('n', 'p', 'w')"
   ]
  },
  {
   "cell_type": "code",
   "execution_count": null,
   "metadata": {},
   "outputs": [],
   "source": [
    "# results1_multi = get_results1_multi(('n', 'p', 'w'), param_combi_list_2, params, model='linear')"
   ]
  },
  {
   "cell_type": "code",
   "execution_count": null,
   "metadata": {},
   "outputs": [],
   "source": [
    "# results2_multi = get_results2_multi(('n', 'p', 'w'), results1_multi, n_p_analysis=True, w_dict=w_dict)"
   ]
  },
  {
   "cell_type": "code",
   "execution_count": null,
   "metadata": {},
   "outputs": [],
   "source": [
    "# save a dictionary as a pickle\n",
    "#with open('results1_multi_n_p_2.pickle', 'wb') as file:\n",
    "    # Use pickle's dump function to write the dict to the opened file.\n",
    "    #pickle.dump(results1_multi, file)\n",
    "\n",
    "#with open('results2_multi_n_p_2.pickle', 'wb') as file:\n",
    "    # Use pickle's dump function to write the dict to the opened file.\n",
    "    #pickle.dump(results2_multi, file)"
   ]
  },
  {
   "cell_type": "code",
   "execution_count": null,
   "metadata": {},
   "outputs": [],
   "source": [
    "# Open a dictionary saved as a pickle\n",
    "with open(r\"C:\\Users\\fscielzo\\Documents\\Large-Data\\Optimization\\results1_multi_n_p_2.pickle\", 'rb') as file:\n",
    "    # Read back the pickled file\n",
    "    results1_multi = pickle.load(file)\n",
    "\n",
    "# Open a dictionary saved as a pickle\n",
    "with open(r\"C:\\Users\\fscielzo\\Documents\\Large-Data\\Optimization\\results2_multi_n_p_2.pickle\", 'rb') as file:\n",
    "    # Read back the pickled file\n",
    "    results2_multi = pickle.load(file)\n",
    "# Time: 4 - 6.41 mins"
   ]
  },
  {
   "cell_type": "code",
   "execution_count": null,
   "metadata": {},
   "outputs": [],
   "source": [
    "param_combi_str = [str(x) for x in param_combi_list_1]\n",
    "problem_dimension_str = [str(round(n*p/1000))+'k' for (n,p) in param_combi_list_1]\n",
    "problem_dimension = [n*p/1000 for (n,p) in param_combi_list_1]\n",
    "patient_tandem_ratio_str = [str(round(p/n, 2)) for (n,p) in param_combi_list_1] # number patients per nurse-doctor tandem\n",
    "\n",
    "param_combi_feasible = [x for x in results2_multi[param_names]['feasible']]\n",
    "param_combi_feasible_str = [str(x) for x in results2_multi[param_names]['feasible']]\n",
    "problem_dimension_feasible_str = [str(round(n*p/1000))+'k' for (n,p) in results2_multi[param_names]['feasible']]\n",
    "patient_tandem_ratio_feasible_str = [str(round(p/n, 2)) for (n,p) in results2_multi[param_names]['feasible']] "
   ]
  },
  {
   "cell_type": "markdown",
   "metadata": {},
   "source": [
    "- **Model execution time vs $(n,p)$**"
   ]
  },
  {
   "cell_type": "code",
   "execution_count": null,
   "metadata": {},
   "outputs": [],
   "source": [
    "plt.subplots(figsize=(10,6))\n",
    "ax = sns.lineplot(y=[results1_multi[param_names][i]['model_time'] for i in results2_multi[param_names]['feasible']], \n",
    "                     x=param_combi_feasible_str, \n",
    "                     marker='o', markersize=7.5, color='red')\n",
    "plt.title('Model execution time vs $(n, p)$', fontsize=13) \n",
    "ax.set_xlabel('$(n, p)$', fontsize=12, rotation=0)\n",
    "ax.set_ylabel('Model execution time (secs)', fontsize=12)\n",
    "plt.yticks(np.arange(0, 500, 50))\n",
    "plt.xticks(rotation=90)\n",
    "plt.show()"
   ]
  },
  {
   "cell_type": "markdown",
   "metadata": {},
   "source": [
    "- **Model execution time vs Problem dimensionality $(n\\cdot p)$**"
   ]
  },
  {
   "cell_type": "code",
   "execution_count": null,
   "metadata": {},
   "outputs": [],
   "source": [
    "plt.subplots(figsize=(10,6))\n",
    "ax = sns.lineplot(y=[results1_multi[param_names][i]['model_time'] for i in param_combi_list_1], \n",
    "                     x=problem_dimension_str, \n",
    "                     marker='o', markersize=7.5, color='red')\n",
    "plt.title('Model execution time vs Problem dimensionality $(n\\cdot p)$', fontsize=13) \n",
    "ax.set_xlabel('Problem dimensionality $(n\\cdot p)$', fontsize=12)\n",
    "ax.set_ylabel('Model execution time (secs)', fontsize=13)\n",
    "plt.yticks(np.arange(0, 500, 50))\n",
    "plt.show()"
   ]
  },
  {
   "cell_type": "markdown",
   "metadata": {},
   "source": [
    "**Interpretation of the results:**\n",
    "\n",
    "These results  have an easy and intuitive interpretation.\n",
    "\n",
    "When the dimensionality of the problem increase (in this case $n\\cdot p$), the execution time of the model increases as well. And vice versa.\n"
   ]
  },
  {
   "cell_type": "markdown",
   "metadata": {},
   "source": [
    "- **Type vs $(n,p)$**"
   ]
  },
  {
   "cell_type": "code",
   "execution_count": null,
   "metadata": {},
   "outputs": [],
   "source": [
    "plt.figure(figsize=(10, 6))\n",
    "ax = sns.scatterplot(y=results2_multi[param_names]['type'], x=param_combi_str, color='red', s=200)\n",
    "plt.title('type vs $(n,p)$', size=15)\n",
    "ax.set_ylabel('type', size=12)\n",
    "ax.set_xlabel('$(n,p)$', size=12)\n",
    "plt.xticks(param_combi_str, fontsize=12, rotation=90)\n",
    "plt.yticks(fontsize=11)\n",
    "plt.show()"
   ]
  },
  {
   "cell_type": "markdown",
   "metadata": {},
   "source": [
    "- **Type vs Problem dimensionality $(n\\cdot p)$**"
   ]
  },
  {
   "cell_type": "code",
   "execution_count": null,
   "metadata": {},
   "outputs": [],
   "source": [
    "plt.figure(figsize=(9, 5))\n",
    "param_combi_str = [str(x) for x in param_combi_list_1]\n",
    "ax = sns.scatterplot(y=results2_multi[param_names]['type'], x=problem_dimension_str, color='red', s=200)\n",
    "plt.title('Type vs Problem dimensionality $(n\\cdot p)$', size=15)\n",
    "ax.set_ylabel('Type', size=12)\n",
    "ax.set_xlabel('Problem dimensionality $(n\\cdot p)$', size=12)\n",
    "plt.xticks(problem_dimension_str, fontsize=11, rotation=0)\n",
    "plt.yticks(fontsize=11)\n",
    "plt.show()"
   ]
  },
  {
   "cell_type": "markdown",
   "metadata": {},
   "source": [
    "- **Type vs Ratio patients per tandem $(p/n)$**"
   ]
  },
  {
   "cell_type": "code",
   "execution_count": null,
   "metadata": {},
   "outputs": [],
   "source": [
    "plt.figure(figsize=(9, 5))\n",
    "param_combi_str = [str(x) for x in param_combi_list_1]\n",
    "ax = sns.scatterplot(y=results2_multi[param_names]['type'], x=patient_tandem_ratio_str, color='red', s=200)\n",
    "plt.title('Type vs Ratio patients per tandem $(p/n)$', size=15)\n",
    "ax.set_ylabel('type', size=12)\n",
    "ax.set_xlabel('ratio patients per tandem $(p/n)$', size=12)\n",
    "plt.xticks(patient_tandem_ratio_str, fontsize=11, rotation=0)\n",
    "plt.yticks(fontsize=11)\n",
    "plt.show()"
   ]
  },
  {
   "cell_type": "markdown",
   "metadata": {},
   "source": [
    "**Interpretation of the results:**\n",
    "\n",
    "When the ratio patients per tandem $(p/n)$ is large enough, the problem becomes not feasible, as there are not enough tandems to handle such amount of patients, since minimum work constrains cannot be satisfy under good working conditions. \n"
   ]
  },
  {
   "cell_type": "markdown",
   "metadata": {},
   "source": [
    "- **Number of patients seen vs $(n,p)$**"
   ]
  },
  {
   "cell_type": "code",
   "execution_count": null,
   "metadata": {},
   "outputs": [],
   "source": [
    "plt.figure(figsize=(10, 6))\n",
    "ax = sns.lineplot(y=results2_multi[param_names]['num_patients_seen'].values(), x=param_combi_feasible_str, \n",
    "                  marker='o', markersize=7.5, color='red')\n",
    "plt.title('Number of patients seen vs $(n,p)$', size=15)\n",
    "ax.set_ylabel('number of patients seen', size=12)\n",
    "ax.set_xlabel('$(n,p)$', size=12)\n",
    "plt.xticks(param_combi_feasible_str, fontsize=11, rotation=90)\n",
    "plt.yticks(np.arange(100, 5500, 500))\n",
    "plt.show()"
   ]
  },
  {
   "cell_type": "markdown",
   "metadata": {},
   "source": [
    "**Interpretation of the results:**\n",
    "\n",
    "Since we haven't enforced the number of patients seen to be $p$, due to the fact that we have set $h_3^{12}=h_3^{34} = 0$, there are cases in which the number of patients seen is lower than the maximum $(<p)$. \n"
   ]
  },
  {
   "cell_type": "markdown",
   "metadata": {},
   "source": [
    "- **$f$ optimal vs $(n,p)$**"
   ]
  },
  {
   "cell_type": "code",
   "execution_count": null,
   "metadata": {},
   "outputs": [],
   "source": [
    "plt.figure(figsize=(10, 6))\n",
    "ax = sns.lineplot(y=results2_multi[param_names]['f_optimal_feasible'].values(), x=param_combi_feasible_str,\n",
    "                  marker='o', markersize=7.5, color='red')\n",
    "plt.title('$f$ optimal vs $(n,p)$', size=15)\n",
    "ax.set_ylabel('$f$ optimal', size=12)\n",
    "ax.set_xlabel('$(n,p)$', size=10)\n",
    "plt.xticks(param_combi_feasible_str, fontsize=11, rotation=90)\n",
    "# plt.yticks(np.arange(2100, 2550, 50), fontsize=11)\n",
    "plt.show()"
   ]
  },
  {
   "cell_type": "markdown",
   "metadata": {},
   "source": [
    "- **$f$ optimal vs Problem dimensionality $(n\\cdot p)$**"
   ]
  },
  {
   "cell_type": "code",
   "execution_count": null,
   "metadata": {},
   "outputs": [],
   "source": [
    "plt.figure(figsize=(10, 6))\n",
    "ax = sns.lineplot(y=results2_multi[param_names]['f_optimal_feasible'].values(), x=problem_dimension_feasible_str,\n",
    "                  marker='o', markersize=7.5, color='red')\n",
    "plt.title('$f$ optimal vs Problem dimensionality $(n\\cdot p)$', size=15)\n",
    "ax.set_ylabel('$f$ optimal', size=12)\n",
    "ax.set_xlabel('Problem dimensionality $(n\\cdot p)$', size=12)\n",
    "plt.xticks(problem_dimension_feasible_str, fontsize=11)\n",
    "# plt.yticks(np.arange(2100, 2550, 50), fontsize=11)\n",
    "plt.show()"
   ]
  },
  {
   "cell_type": "markdown",
   "metadata": {},
   "source": [
    "**Interpretation of the results:**\n",
    "\n",
    "The more dimensionality $(n\\cdot p)$, the higher optimal value of the objective function. \n"
   ]
  },
  {
   "cell_type": "markdown",
   "metadata": {},
   "source": [
    "- **Avg. time per patient vs $(n,p)$**"
   ]
  },
  {
   "cell_type": "code",
   "execution_count": null,
   "metadata": {},
   "outputs": [],
   "source": [
    "plt.figure(figsize=(10, 6))\n",
    "ax = sns.lineplot(y=results2_multi[param_names]['avg_time_per_patient'].values(), x=param_combi_feasible_str, \n",
    "                  marker='o', markersize=7.5, color='red')\n",
    "plt.title('Avg. time per patient vs $(n,p)$', size=15)\n",
    "ax.set_ylabel('Avg. time per patient', size=12)\n",
    "ax.set_xlabel('$(n,p)$', size=12)\n",
    "plt.xticks(param_combi_feasible_str, fontsize=11, rotation=90)\n",
    "plt.yticks(fontsize=11)\n",
    "plt.show()"
   ]
  },
  {
   "cell_type": "markdown",
   "metadata": {},
   "source": [
    "- **Avg. time per patient vs Problem dimensionality $(n\\cdot p)$**"
   ]
  },
  {
   "cell_type": "code",
   "execution_count": null,
   "metadata": {},
   "outputs": [],
   "source": [
    "plt.figure(figsize=(10, 6))\n",
    "ax = sns.lineplot(y=results2_multi[param_names]['avg_time_per_patient'].values(), x=problem_dimension_feasible_str, \n",
    "                  marker='o', markersize=7.5, color='red')\n",
    "plt.title('Avg. time per patient vs Problem dimensionality $(n\\cdot p)$', size=15)\n",
    "ax.set_ylabel('Avg. time per patient', size=12)\n",
    "ax.set_xlabel('Problem dimensionality $(n\\cdot p)$', size=12)\n",
    "plt.xticks(problem_dimension_feasible_str, fontsize=11)\n",
    "plt.yticks(fontsize=11)\n",
    "plt.show()"
   ]
  },
  {
   "cell_type": "markdown",
   "metadata": {},
   "source": [
    "- **Avg. time per patient vs Ratio patients per tandem $(p/n)$**"
   ]
  },
  {
   "cell_type": "code",
   "execution_count": null,
   "metadata": {},
   "outputs": [],
   "source": [
    "plt.figure(figsize=(10, 6))\n",
    "ax = sns.lineplot(y=results2_multi[param_names]['avg_time_per_patient'].values(), x=patient_tandem_ratio_feasible_str, \n",
    "                  marker='o', markersize=7.5, color='red')\n",
    "plt.title('Avg. time per patient vs Ratio patients per tandem $(p/n)$', size=15)\n",
    "ax.set_ylabel('Avg. time per patient', size=12)\n",
    "ax.set_xlabel('Ratio patients per tandem $(p/n)$', size=12)\n",
    "plt.xticks(patient_tandem_ratio_feasible_str, fontsize=11)\n",
    "plt.yticks(fontsize=11)\n",
    "plt.show()"
   ]
  },
  {
   "cell_type": "markdown",
   "metadata": {},
   "source": [
    "**Interpretation of the results:**\n",
    "\n",
    "The interpretation is simple and makes perfect sense. When the ration patients per tandem $(p/n)$ increases, the average time spent per patient decrease. and vice versa. "
   ]
  },
  {
   "cell_type": "markdown",
   "metadata": {},
   "source": [
    "- **Avg. time per patient vs $w$ vs $(n,p)$**"
   ]
  },
  {
   "cell_type": "code",
   "execution_count": null,
   "metadata": {},
   "outputs": [],
   "source": [
    "n_cols = 3\n",
    "interval_width = 4\n",
    "figsize = (20,4)\n",
    "\n",
    "limits = list(np.arange(0, len(results2_multi[param_names]['feasible']), interval_width))\n",
    "limits.append(len(results2_multi[param_names]['feasible']))\n",
    "n_intervals = len(limits) - 1\n",
    "\n",
    "# Define the number of rows and columns for the matrix plot\n",
    "n_rows = int(np.ceil(n_intervals / n_cols))\n",
    "\n",
    "# Create a subplot with the specified number of rows and columns\n",
    "fig, axes = plt.subplots(n_rows, n_cols, figsize=figsize)\n",
    "\n",
    "# Flatten the axes array to make it easier to iterate\n",
    "axes = axes.flatten()  \n",
    "\n",
    "# Defining a ecdf-plot for each variable considered.\n",
    "for i in range(0, n_intervals) :\n",
    "\n",
    "    ax = axes[i]  # Get the current axis\n",
    "    #ax.figure(figsize=(20, 10))\n",
    "    for combi in param_combi_feasible[limits[i]:limits[i+1]] :\n",
    "        sns.lineplot(y=results2_multi[param_names]['avg_time_patient_per_w'][combi].values(), \n",
    "                         x=results2_multi[param_names]['avg_time_patient_per_w'][combi].keys(), \n",
    "                      label=str(combi), marker='o', markersize=6, ax=ax)\n",
    "    ax.set_title(f'$(n,p)$ combination {limits[i]}:{limits[i+1]}', fontsize=13)\n",
    "    ax.tick_params(axis='x', rotation=0)\n",
    "    ax.set_yticks(range(0,5))\n",
    "    ax.set_xticks(range(1,11))\n",
    "    ax.set_xlabel('w', fontsize=12)\n",
    "    ax.set_ylabel('Avg. time per patient', fontsize=12)\n",
    "    ax.legend(title='$(n,p)$ combination', loc='upper right', bbox_to_anchor=(1.39, 1), fontsize=11, ncol=1)\n",
    "\n",
    "# Remove any unused subplots in case the number of 'geo' values is less than num_rows * num_cols\n",
    "for j in range(n_intervals, n_rows*n_cols):\n",
    "    fig.delaxes(axes[j])\n",
    "\n",
    "# Establishing a general tittle for the plot.\n",
    "plt.suptitle('Avg. time per patient vs $w$ vs $(n,p)$', fontsize=15, y=1.01)\n",
    "    \n",
    "plt.subplots_adjust(hspace=1, wspace=0.6) "
   ]
  },
  {
   "cell_type": "markdown",
   "metadata": {},
   "source": [
    "- **Avg. time per patient vs $w$ vs Problem dimensionality $(n\\cdot p)$**"
   ]
  },
  {
   "cell_type": "code",
   "execution_count": null,
   "metadata": {},
   "outputs": [],
   "source": [
    "n_cols = 3\n",
    "interval_width = 4\n",
    "figsize = (20,4)\n",
    "\n",
    "limits = list(np.arange(0, len(results2_multi[param_names]['feasible']), interval_width))\n",
    "limits.append(len(results2_multi[param_names]['feasible']))\n",
    "n_intervals = len(limits) - 1\n",
    "\n",
    "# Define the number of rows and columns for the matrix plot\n",
    "n_rows = int(np.ceil(n_intervals / n_cols))\n",
    "\n",
    "# Create a subplot with the specified number of rows and columns\n",
    "fig, axes = plt.subplots(n_rows, n_cols, figsize=figsize)\n",
    "\n",
    "# Flatten the axes array to make it easier to iterate\n",
    "axes = axes.flatten()  \n",
    "\n",
    "# Defining a ecdf-plot for each variable considered.\n",
    "for i in range(0, n_intervals) :\n",
    "\n",
    "    ax = axes[i]  # Get the current axis\n",
    "    #ax.figure(figsize=(20, 10))\n",
    "    for label, combi in zip(problem_dimension_feasible_str[limits[i]:limits[i+1]], param_combi_feasible[limits[i]:limits[i+1]]) :\n",
    "        sns.lineplot(y=results2_multi[param_names]['avg_time_patient_per_w'][combi].values(), \n",
    "                         x=results2_multi[param_names]['avg_time_patient_per_w'][combi].keys(), \n",
    "                      label=label, marker='o', markersize=6, ax=ax)\n",
    "    # ax.set_title(f'$n\\cdot p$ {limits[i]}:{limits[i+1]}', fontsize=13)\n",
    "    ax.tick_params(axis='x', rotation=0)\n",
    "    ax.set_yticks(range(0,5))\n",
    "    ax.set_xticks(range(1,11))\n",
    "    ax.set_xlabel('w', fontsize=12)\n",
    "    ax.set_ylabel('Avg. time per patient', fontsize=12)\n",
    "    ax.legend(title='$n\\cdot p$', loc='upper right', bbox_to_anchor=(1.30, 1), fontsize=11, ncol=1)\n",
    "\n",
    "# Remove any unused subplots in case the number of 'geo' values is less than num_rows * num_cols\n",
    "for j in range(n_intervals, n_rows*n_cols):\n",
    "    fig.delaxes(axes[j])\n",
    "\n",
    "# Establishing a general tittle for the plot.\n",
    "plt.suptitle('Avg. time per patient vs $w$ vs Problem dimensionality $(n\\cdot p)$', fontsize=15, y=1.01)\n",
    "    \n",
    "plt.subplots_adjust(hspace=1, wspace=0.6) "
   ]
  },
  {
   "cell_type": "markdown",
   "metadata": {},
   "source": [
    "- **Average time spent per patient vs $w$ vs Ratio patients per tandem $(p/n)$**"
   ]
  },
  {
   "cell_type": "code",
   "execution_count": null,
   "metadata": {},
   "outputs": [],
   "source": [
    "n_cols = 3\n",
    "interval_width = 4\n",
    "figsize = (20,5)\n",
    "\n",
    "limits = list(np.arange(0, len(results2_multi[param_names]['feasible']), interval_width))\n",
    "limits.append(len(results2_multi[param_names]['feasible']))\n",
    "n_intervals = len(limits) - 1\n",
    "\n",
    "# Define the number of rows and columns for the matrix plot\n",
    "n_rows = int(np.ceil(n_intervals / n_cols))\n",
    "\n",
    "# Create a subplot with the specified number of rows and columns\n",
    "fig, axes = plt.subplots(n_rows, n_cols, figsize=figsize)\n",
    "\n",
    "# Flatten the axes array to make it easier to iterate\n",
    "axes = axes.flatten()  \n",
    "\n",
    "# Defining a ecdf-plot for each variable considered.\n",
    "for i in range(0, n_intervals) :\n",
    "\n",
    "    ax = axes[i]  # Get the current axis\n",
    "    #ax.figure(figsize=(20, 10))\n",
    "    for label, combi in zip(patient_tandem_ratio_feasible_str[limits[i]:limits[i+1]], param_combi_feasible[limits[i]:limits[i+1]]) :\n",
    "        sns.lineplot(y=results2_multi[param_names]['avg_time_patient_per_w'][combi].values(), \n",
    "                         x=results2_multi[param_names]['avg_time_patient_per_w'][combi].keys(), \n",
    "                      label=label, marker='o', markersize=6, ax=ax)\n",
    "    # ax.set_title(f'$p/n$  {limits[i]}:{limits[i+1]}', fontsize=13)\n",
    "    ax.tick_params(axis='x', rotation=0)\n",
    "    ax.set_yticks(range(0,5))\n",
    "    ax.set_xticks(range(1,11))\n",
    "    ax.set_xlabel('w', fontsize=12)\n",
    "    ax.set_ylabel('Avg. time per patient', fontsize=12)\n",
    "    ax.legend(title='$p/n$', loc='upper right', bbox_to_anchor=(1.30, 1), fontsize=11, ncol=1)\n",
    "\n",
    "# Remove any unused subplots in case the number of 'geo' values is less than num_rows * num_cols\n",
    "for j in range(n_intervals, n_rows*n_cols):\n",
    "    fig.delaxes(axes[j])\n",
    "\n",
    "# Establishing a general tittle for the plot.\n",
    "plt.suptitle('Avg. time per patient vs $w$ vs Ratio patients per tandem $(p/n)$', fontsize=15, y=1.01)\n",
    "    \n",
    "plt.subplots_adjust(hspace=1, wspace=0.6) "
   ]
  },
  {
   "cell_type": "markdown",
   "metadata": {},
   "source": [
    "**Interpretation of the results:**\n",
    "\n",
    "When the ratio patients per tandem $(p/n)$ decreases, the average time spent per patient increases according with their severity.\n",
    "\n",
    "Another important point to highlight is that, when  ratio patients per tandem  is small enough, like for intance with $p/n = 0.33$ (red line, first plot), all the patients are seen as much as possible $(h_4 =4)$, regardless of their severity. And, when the ratio increases, the average time spent in the less severe patients starts to decrease, as for example with $p/n = 2$ (blue line, first plot), $p/n=2.86$, (green line, third plot) or $p/n=6$ (yellow line, first plot)."
   ]
  },
  {
   "cell_type": "markdown",
   "metadata": {},
   "source": [
    "## **Relaxed integer problem** (e)"
   ]
  },
  {
   "cell_type": "markdown",
   "metadata": {},
   "source": [
    "The following code is the same used for the integer problem with the exception that we have relaxed the binary variable  $y_j$ to allow it to take non-negative real numbers, so, it is not a binary variable anymore."
   ]
  },
  {
   "cell_type": "code",
   "execution_count": null,
   "metadata": {},
   "outputs": [],
   "source": [
    "def hospital_relaxed_integer_model(n, p, w, h1, h2, h3_1_2, h3_3_4, h3_5_6, h3_7_8, h3_9_10, h4):\n",
    "    \"\"\"\n",
    "    Implements and solves the hospital integer (binary) model.\n",
    "\n",
    "    Parameters (inputs)\n",
    "    ----------\n",
    "    n: number of nurse-doctor tandems in a given day.\n",
    "    p: number of patients tandems in a given day.\n",
    "    w: 1-D array with the severity/importance of the patients.\n",
    "    h1: maximum time seeing patients per nurse-doctor tandem in a given day.\n",
    "    h2: maximum time spent by nurse-doctor tandem i seeing the patient j, for all i,j.\n",
    "    h3_1_2: minimum time time spent in patient j, if w[j] in [1,2].\n",
    "    h3_3_4: minimum time time spent in patient j, if w[j] in [3,4].\n",
    "    h3_5_6: minimum time time spent in patient j, if w[j] in [5,6].\n",
    "    h3_7_8: minimum time time spent in patient j, if w[j] in [7,8].\n",
    "    h3_9_10: minimum time time spent in patient j, if w[j] in [9,10].\n",
    "    h4: maximum time time spent in patient j.\n",
    "\n",
    "    Returns (outputs)\n",
    "    -------\n",
    "    model: the Pyomo model output.\n",
    "    t_optimal: a dictionary with the optimal values for the t_ij decision variables.\n",
    "    y_optimal: a dictionary with the optimal values for the y_j decision variables.\n",
    "    f_optimal: the optimal value of the objective function.\n",
    "    \"\"\"\n",
    "\n",
    "    # Defining h3 function.\n",
    "    def h3(w):\n",
    "        if w in [1, 2] :\n",
    "           return h3_1_2\n",
    "        if w in [3, 4] :\n",
    "           return h3_3_4\n",
    "        elif w in [5, 6] :\n",
    "           return h3_5_6\n",
    "        elif w in [7, 8] :\n",
    "           return h3_7_8\n",
    "        elif w in [9, 10] :\n",
    "           return h3_9_10\n",
    "\n",
    "    # Initialize a model.\n",
    "    model = ConcreteModel()\n",
    "\n",
    "    # Initialize ranges for tandems and patients.\n",
    "    model.N = range(0,n)\n",
    "    model.P = range(0,p)\n",
    "\n",
    "    # Defining t_ij decision variables as non-negative reals (t_ij >= 0).\n",
    "    model.t = Var(model.N, model.P, domain=NonNegativeReals) \n",
    "\n",
    "    # Defining y_j as as non-negative real (y_j >= 0).\n",
    "    model.y = Var(model.P, domain=NonNegativeReals)\n",
    "\n",
    "    # Objective function to maximize the weighted sum of time spent with patients\n",
    "    model.cost = Objective(expr=sum(model.t[i,j] * w[j] for i in model.N for j in model.P), sense=maximize)\n",
    "\n",
    "    # Constraints\n",
    "    model.constraints = ConstraintList()\n",
    "\n",
    "    # The total time spent by each tandem on all patients must be at most h1.\n",
    "    for i in model.N:\n",
    "        model.constraints.add(sum(model.t[i,j] for j in model.P) <= h1)\n",
    "\n",
    "    # The time spent by tandem i on patient j must be at most h2.\n",
    "    for i in model.N:\n",
    "        for j in model.P:\n",
    "            model.constraints.add(model.t[i, j] <= h2)\n",
    "    \n",
    "    # The total time a patient is seen by all tandems must be at least h3(w[j])\n",
    "    for j in model.P:\n",
    "        model.constraints.add(sum(model.t[i,j] for i in model.N) >= h3(w[j]))\n",
    "\n",
    "    # The total time a patient is seen by all tandems must be at most h4.\n",
    "    for j in model.P:\n",
    "        model.constraints.add(sum(model.t[i,j] for i in model.N) <= h4)\n",
    "\n",
    "    # y[j] is 1 if sum(model.t[i,j] for i in model.N) > 0.\n",
    "    M = 1000000\n",
    "    for j in model.P:\n",
    "        model.constraints.add(sum(model.t[i,j] for i in model.N) <= model.y[j] * M)\n",
    "         \n",
    "    # y[j] is 0 if sum(model.t[i,j] for i in model.N) = 0\n",
    "    epsilon = 0.000001\n",
    "    for j in model.P:\n",
    "        model.constraints.add(epsilon * model.y[j] <= sum(model.t[i,j] for i in model.N))\n",
    "\n",
    "    # The number of patients seen (sum(model.y[j] for j in model.P)) must be equal to the number of patients (p).\n",
    "    model.constraints.add(sum(model.y[j] for j in model.P) == p)\n",
    "\n",
    "    # Load dual information\n",
    "    # model.dual = Suffix(direction=Suffix.IMPORT)\n",
    "\n",
    "    # Solve the model\n",
    "    solver = SolverFactory('glpk')\n",
    "    results = solver.solve(model, tee=False)  # Set tee=True to show solver output\n",
    "\n",
    "    # Check solver status and termination condition\n",
    "    if (results.solver.status == SolverStatus.ok) and (results.solver.termination_condition == TerminationCondition.optimal):\n",
    "        #print(\"Solution Found\")\n",
    "        # Extract optimal values for variables and objective\n",
    "        t_optimal = {(i, j): model.t[i, j].value for i in model.N for j in model.P}\n",
    "        y_optimal = {j: model.y[j].value for j in model.P}\n",
    "        f_optimal = model.cost.expr()\n",
    "    elif results.solver.termination_condition == TerminationCondition.infeasible:\n",
    "        #print(\"No feasible solution\")\n",
    "        t_optimal, y_optimal, f_optimal = None, None, None\n",
    "    else:\n",
    "        #print(\"No feasible solution\")\n",
    "        t_optimal, y_optimal, f_optimal = None, None, None\n",
    "\n",
    "    return model, t_optimal, y_optimal, f_optimal"
   ]
  },
  {
   "cell_type": "markdown",
   "metadata": {},
   "source": [
    "### **Preliminary analysis**"
   ]
  },
  {
   "cell_type": "markdown",
   "metadata": {},
   "source": [
    "In this section we are going to do a preliminary numerical analysis of the problem posed above, for a given set of parameters."
   ]
  },
  {
   "cell_type": "code",
   "execution_count": null,
   "metadata": {},
   "outputs": [],
   "source": [
    "# Parameters definition:\n",
    "n=50; p=500; h1=6; h2=1; h4=4\n",
    "\n",
    "h3_1_2 = 0\n",
    "h3_3_4 = 0.30 \n",
    "h3_5_6 = 0.55  \n",
    "h3_7_8 = 0.80 \n",
    "h3_9_10 = 1 \n",
    "    \n",
    "np.random.seed(123)\n",
    "w = np.random.randint(1, 11, p) \n",
    "\n",
    "# Problem execution:\n",
    "model, t_optimal, y_optimal, f_optimal = hospital_relaxed_integer_model(n, p, w, h1, h2, h3_1_2, h3_3_4, h3_5_6, h3_7_8, h3_9_10, h4)"
   ]
  },
  {
   "cell_type": "markdown",
   "metadata": {},
   "source": [
    "#### **Optimal values**"
   ]
  },
  {
   "cell_type": "markdown",
   "metadata": {},
   "source": [
    " **Decision variables**"
   ]
  },
  {
   "cell_type": "markdown",
   "metadata": {},
   "source": [
    "The optimal values for the $t_{ij}$ decision variables for the given set of parameters are the following:"
   ]
  },
  {
   "cell_type": "code",
   "execution_count": null,
   "metadata": {},
   "outputs": [],
   "source": [
    "t_optimal"
   ]
  },
  {
   "cell_type": "markdown",
   "metadata": {},
   "source": [
    "The optimal values for the $y_{j}$ decision variables for the given set of parameters are the following:"
   ]
  },
  {
   "cell_type": "code",
   "execution_count": null,
   "metadata": {},
   "outputs": [],
   "source": [
    "y_optimal"
   ]
  },
  {
   "cell_type": "markdown",
   "metadata": {},
   "source": [
    "For example, the time spent in patient $j=5$ by tandem $i=1$, i.e. $t_{15}$, is:"
   ]
  },
  {
   "cell_type": "code",
   "execution_count": null,
   "metadata": {},
   "outputs": [],
   "source": [
    "t_optimal[0,4] # 0 h"
   ]
  },
  {
   "cell_type": "markdown",
   "metadata": {},
   "source": [
    "**Objective function**"
   ]
  },
  {
   "cell_type": "markdown",
   "metadata": {},
   "source": [
    "In this case the optimal value for the objective function is the following:"
   ]
  },
  {
   "cell_type": "code",
   "execution_count": null,
   "metadata": {},
   "outputs": [],
   "source": [
    "f_optimal"
   ]
  },
  {
   "cell_type": "markdown",
   "metadata": {},
   "source": [
    "#### **Time spent in patients**"
   ]
  },
  {
   "cell_type": "markdown",
   "metadata": {},
   "source": [
    "Now we are going to analyze the time spent in the patients, in this particular case.\n",
    "\n",
    "We built a function that computes the time spent seeing patient j in a given day .\n",
    "It's important to notice that a patient could be seen by several nurse-doctor tandems."
   ]
  },
  {
   "cell_type": "code",
   "execution_count": null,
   "metadata": {},
   "outputs": [],
   "source": [
    "# Time spent seeing patient j in a given day (he could be seen by several nurse-doctor tandems).\n",
    "def time_seeing_patient(j):\n",
    "    return np.sum([t_optimal[i, j] for i in range(0,n)])"
   ]
  },
  {
   "cell_type": "markdown",
   "metadata": {},
   "source": [
    "For example, total time spent in patient $j=45$, that is, $\\sum_{i=1}^n t_{i45}$, is the following:"
   ]
  },
  {
   "cell_type": "code",
   "execution_count": null,
   "metadata": {},
   "outputs": [],
   "source": [
    "time_seeing_patient(44)"
   ]
  },
  {
   "cell_type": "markdown",
   "metadata": {},
   "source": [
    "Using the previous function we can collect the total time spent in each patient in an array."
   ]
  },
  {
   "cell_type": "code",
   "execution_count": null,
   "metadata": {},
   "outputs": [],
   "source": [
    "total_times_per_patient = np.array([time_seeing_patient(j) for j in range(0,p)])"
   ]
  },
  {
   "cell_type": "code",
   "execution_count": null,
   "metadata": {},
   "outputs": [],
   "source": [
    "total_times_per_patient"
   ]
  },
  {
   "cell_type": "markdown",
   "metadata": {},
   "source": [
    "#### **Average time spent per patient**"
   ]
  },
  {
   "cell_type": "markdown",
   "metadata": {},
   "source": [
    "Now we can compute some statistics over the time spent in patients, like for example the average time spent per patient."
   ]
  },
  {
   "cell_type": "code",
   "execution_count": null,
   "metadata": {},
   "outputs": [],
   "source": [
    "np.mean(total_times_per_patient)"
   ]
  },
  {
   "cell_type": "markdown",
   "metadata": {},
   "source": [
    "#### **Max time spent per patient**\n",
    "\n",
    "The maximum time spent in a single patient is enforced by $h_4$ constriant, that in this case has been fixed to $4$."
   ]
  },
  {
   "cell_type": "code",
   "execution_count": null,
   "metadata": {},
   "outputs": [],
   "source": [
    "np.max(total_times_per_patient) # 4 hours"
   ]
  },
  {
   "cell_type": "markdown",
   "metadata": {},
   "source": [
    "#### **Min time spent per patient**\n",
    "\n",
    "The minimun time spent in a single patient is set by $h_3^{12}$, in this case, that has been fixed to $0.1$."
   ]
  },
  {
   "cell_type": "code",
   "execution_count": null,
   "metadata": {},
   "outputs": [],
   "source": [
    "np.min(total_times_per_patient) "
   ]
  },
  {
   "cell_type": "markdown",
   "metadata": {},
   "source": [
    "#### **Median of time spent per patient**"
   ]
  },
  {
   "cell_type": "code",
   "execution_count": null,
   "metadata": {},
   "outputs": [],
   "source": [
    "np.median(total_times_per_patient) "
   ]
  },
  {
   "cell_type": "markdown",
   "metadata": {},
   "source": [
    "#### **$75$-quantile of time spent per patient**"
   ]
  },
  {
   "cell_type": "code",
   "execution_count": null,
   "metadata": {},
   "outputs": [],
   "source": [
    "np.quantile(total_times_per_patient, 0.75)"
   ]
  },
  {
   "cell_type": "markdown",
   "metadata": {},
   "source": [
    "#### **$25$-quantile time spent per patient**"
   ]
  },
  {
   "cell_type": "code",
   "execution_count": null,
   "metadata": {},
   "outputs": [],
   "source": [
    "np.quantile(total_times_per_patient, 0.25)"
   ]
  },
  {
   "cell_type": "markdown",
   "metadata": {},
   "source": [
    "#### **Number of patients seen**"
   ]
  },
  {
   "cell_type": "markdown",
   "metadata": {},
   "source": [
    "The number of patients seen is $p=500$ even though we have set $h_3^{12}=0$, so the new constraint is working well. In addition, we can see as the number of patient seen match with $\\sum_{j=1}^p y_j$, which is something that must always be fulfilled in this new version of the problem."
   ]
  },
  {
   "cell_type": "code",
   "execution_count": null,
   "metadata": {},
   "outputs": [],
   "source": [
    "np.sum(total_times_per_patient > 0)"
   ]
  },
  {
   "cell_type": "code",
   "execution_count": null,
   "metadata": {},
   "outputs": [],
   "source": [
    "np.sum(list(y_optimal.values()))"
   ]
  },
  {
   "cell_type": "markdown",
   "metadata": {},
   "source": [
    "### **Comparison with the integer (not relaxed) model**"
   ]
  },
  {
   "cell_type": "markdown",
   "metadata": {},
   "source": [
    "If the binary variable $y_j$ in the integer model is relaxed in the interval $[0,1]\\subset \\mathbb{R}$, no changes are produced, since $y_j$ carries on working as a binary variable, so it is still performing like it did in the non relaxed integer model.\n",
    "\n",
    "However, if $y_j$ is relaxed to $\\mathbb{R}^+$ (positive real numbers), then the results of the relaxed model are slightly different to those of the non relaxed, concretely the number of patient seen $(396)$ is not maximum $(p=500)$, so the particular new constraint of this model (with respect to the linear one) is not working, since it is not enforcing the number of patients seen to be equal to $p$, and this is because $y_j$ is not working as a binary variable, and, therefore, it is not longer useful to impose that condition."
   ]
  }
 ],
 "metadata": {
  "kernelspec": {
   "display_name": "base",
   "language": "python",
   "name": "python3"
  },
  "language_info": {
   "codemirror_mode": {
    "name": "ipython",
    "version": 3
   },
   "file_extension": ".py",
   "mimetype": "text/x-python",
   "name": "python",
   "nbconvert_exporter": "python",
   "pygments_lexer": "ipython3",
   "version": "3.11.5"
  }
 },
 "nbformat": 4,
 "nbformat_minor": 2
}
